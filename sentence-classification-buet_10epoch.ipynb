{
 "cells": [
  {
   "cell_type": "markdown",
   "id": "6d92f685",
   "metadata": {
    "papermill": {
     "duration": 0.02785,
     "end_time": "2023-10-31T09:37:57.522060",
     "exception": false,
     "start_time": "2023-10-31T09:37:57.494210",
     "status": "completed"
    },
    "tags": []
   },
   "source": [
    "### This code is edited by Minhazul Islam Nannu and co editor is Tanbeer Jubaer"
   ]
  },
  {
   "cell_type": "markdown",
   "id": "662fde3c",
   "metadata": {
    "papermill": {
     "duration": 0.026347,
     "end_time": "2023-10-31T09:37:57.576395",
     "exception": false,
     "start_time": "2023-10-31T09:37:57.550048",
     "status": "completed"
    },
    "tags": []
   },
   "source": [
    "## `Simple`, `Compound` and `Complex` sentence detection using ML models."
   ]
  },
  {
   "cell_type": "code",
   "execution_count": 1,
   "id": "f2580297",
   "metadata": {
    "_cell_guid": "b1076dfc-b9ad-4769-8c92-a6c4dae69d19",
    "_uuid": "8f2839f25d086af736a60e9eeb907d3b93b6e0e5",
    "execution": {
     "iopub.execute_input": "2023-10-31T09:37:57.631648Z",
     "iopub.status.busy": "2023-10-31T09:37:57.630716Z",
     "iopub.status.idle": "2023-10-31T09:37:57.648260Z",
     "shell.execute_reply": "2023-10-31T09:37:57.646976Z"
    },
    "papermill": {
     "duration": 0.047461,
     "end_time": "2023-10-31T09:37:57.650290",
     "exception": false,
     "start_time": "2023-10-31T09:37:57.602829",
     "status": "completed"
    },
    "tags": []
   },
   "outputs": [
    {
     "name": "stdout",
     "output_type": "stream",
     "text": [
      "/kaggle/input/sentences/all_new.csv\n",
      "/kaggle/input/sentences/output_alldata.csv\n",
      "/kaggle/input/sentences/Bangla Transformation of Sentence Dataset(BTSD).xlsx\n"
     ]
    }
   ],
   "source": [
    "# This Python 3 environment comes with many helpful analytics libraries installed\n",
    "# It is defined by the kaggle/python Docker image: https://github.com/kaggle/docker-python\n",
    "# For example, here's several helpful packages to load\n",
    "\n",
    "import numpy as np # linear algebra\n",
    "import pandas as pd # data processing, CSV file I/O (e.g. pd.read_csv)\n",
    "\n",
    "# Input data files are available in the read-only \"../input/\" directory\n",
    "# For example, running this (by clicking run or pressing Shift+Enter) will list all files under the input directory\n",
    "\n",
    "import os\n",
    "for dirname, _, filenames in os.walk('/kaggle/input'):\n",
    "    for filename in filenames:\n",
    "        print(os.path.join(dirname, filename))\n",
    "\n",
    "# You can write up to 20GB to the current directory (/kaggle/working/) that gets preserved as output when you create a version using \"Save & Run All\" \n",
    "# You can also write temporary files to /kaggle/temp/, but they won't be saved outside of the current session"
   ]
  },
  {
   "cell_type": "markdown",
   "id": "d8c7443f",
   "metadata": {
    "papermill": {
     "duration": 0.02648,
     "end_time": "2023-10-31T09:37:57.703856",
     "exception": false,
     "start_time": "2023-10-31T09:37:57.677376",
     "status": "completed"
    },
    "tags": []
   },
   "source": [
    "## Always Import Necessary tools here "
   ]
  },
  {
   "cell_type": "code",
   "execution_count": 2,
   "id": "0adf3470",
   "metadata": {
    "execution": {
     "iopub.execute_input": "2023-10-31T09:37:57.758418Z",
     "iopub.status.busy": "2023-10-31T09:37:57.758082Z",
     "iopub.status.idle": "2023-10-31T09:37:58.914711Z",
     "shell.execute_reply": "2023-10-31T09:37:58.913902Z"
    },
    "papermill": {
     "duration": 1.186498,
     "end_time": "2023-10-31T09:37:58.917038",
     "exception": false,
     "start_time": "2023-10-31T09:37:57.730540",
     "status": "completed"
    },
    "tags": []
   },
   "outputs": [],
   "source": [
    "\n",
    "# Regular EDA(exploratory data analysis) and plotting libraries\n",
    "import numpy as np\n",
    "import pandas as pd\n",
    "import matplotlib.pyplot as plt\n",
    "\n",
    "from sklearn.model_selection import train_test_split\n",
    "%matplotlib inline\n",
    "\n",
    "from tqdm import tqdm\n"
   ]
  },
  {
   "cell_type": "markdown",
   "id": "88a27aaa",
   "metadata": {
    "papermill": {
     "duration": 0.026806,
     "end_time": "2023-10-31T09:37:58.971210",
     "exception": false,
     "start_time": "2023-10-31T09:37:58.944404",
     "status": "completed"
    },
    "tags": []
   },
   "source": [
    "### IMPORT THE DATASET"
   ]
  },
  {
   "cell_type": "code",
   "execution_count": 3,
   "id": "08753af3",
   "metadata": {
    "execution": {
     "iopub.execute_input": "2023-10-31T09:37:59.026802Z",
     "iopub.status.busy": "2023-10-31T09:37:59.025887Z",
     "iopub.status.idle": "2023-10-31T09:37:59.643008Z",
     "shell.execute_reply": "2023-10-31T09:37:59.641665Z"
    },
    "papermill": {
     "duration": 0.647767,
     "end_time": "2023-10-31T09:37:59.645875",
     "exception": false,
     "start_time": "2023-10-31T09:37:58.998108",
     "status": "completed"
    },
    "tags": []
   },
   "outputs": [],
   "source": [
    "data=pd.read_excel('/kaggle/input/sentences/Bangla Transformation of Sentence Dataset(BTSD).xlsx')\n",
    "data.columns=['text','label']\n",
    "data['num_label']=data['label'].replace({\"Simple\":0,\"Complex\":1,\"Compound\":2})"
   ]
  },
  {
   "cell_type": "code",
   "execution_count": 4,
   "id": "15238bc9",
   "metadata": {
    "execution": {
     "iopub.execute_input": "2023-10-31T09:37:59.701529Z",
     "iopub.status.busy": "2023-10-31T09:37:59.700997Z",
     "iopub.status.idle": "2023-10-31T09:37:59.714770Z",
     "shell.execute_reply": "2023-10-31T09:37:59.713857Z"
    },
    "papermill": {
     "duration": 0.043564,
     "end_time": "2023-10-31T09:37:59.716773",
     "exception": false,
     "start_time": "2023-10-31T09:37:59.673209",
     "status": "completed"
    },
    "tags": []
   },
   "outputs": [
    {
     "data": {
      "text/html": [
       "<div>\n",
       "<style scoped>\n",
       "    .dataframe tbody tr th:only-of-type {\n",
       "        vertical-align: middle;\n",
       "    }\n",
       "\n",
       "    .dataframe tbody tr th {\n",
       "        vertical-align: top;\n",
       "    }\n",
       "\n",
       "    .dataframe thead th {\n",
       "        text-align: right;\n",
       "    }\n",
       "</style>\n",
       "<table border=\"1\" class=\"dataframe\">\n",
       "  <thead>\n",
       "    <tr style=\"text-align: right;\">\n",
       "      <th></th>\n",
       "      <th>text</th>\n",
       "      <th>label</th>\n",
       "      <th>num_label</th>\n",
       "    </tr>\n",
       "  </thead>\n",
       "  <tbody>\n",
       "    <tr>\n",
       "      <th>0</th>\n",
       "      <td>সন্ধ্যায় পাখিরা বাসায় ফেরে</td>\n",
       "      <td>Simple</td>\n",
       "      <td>0</td>\n",
       "    </tr>\n",
       "    <tr>\n",
       "      <th>1</th>\n",
       "      <td>সন্ধ্যা হয় এবং পাখিরা বাসায় ফেরে</td>\n",
       "      <td>Compound</td>\n",
       "      <td>2</td>\n",
       "    </tr>\n",
       "    <tr>\n",
       "      <th>2</th>\n",
       "      <td>যখন সন্ধ্যা হয় তখন পাখিরা বাসায় ফেরে</td>\n",
       "      <td>Complex</td>\n",
       "      <td>1</td>\n",
       "    </tr>\n",
       "    <tr>\n",
       "      <th>3</th>\n",
       "      <td>দর্শক মাত্রই আশ্চর্য হয়েছে</td>\n",
       "      <td>Simple</td>\n",
       "      <td>0</td>\n",
       "    </tr>\n",
       "    <tr>\n",
       "      <th>4</th>\n",
       "      <td>দেখেছে আর আশ্চর্য হয়েছে</td>\n",
       "      <td>Compound</td>\n",
       "      <td>2</td>\n",
       "    </tr>\n",
       "  </tbody>\n",
       "</table>\n",
       "</div>"
      ],
      "text/plain": [
       "                                   text     label  num_label\n",
       "0            সন্ধ্যায় পাখিরা বাসায় ফেরে    Simple          0\n",
       "1      সন্ধ্যা হয় এবং পাখিরা বাসায় ফেরে  Compound          2\n",
       "2  যখন সন্ধ্যা হয় তখন পাখিরা বাসায় ফেরে   Complex          1\n",
       "3            দর্শক মাত্রই আশ্চর্য হয়েছে    Simple          0\n",
       "4               দেখেছে আর আশ্চর্য হয়েছে  Compound          2"
      ]
     },
     "execution_count": 4,
     "metadata": {},
     "output_type": "execute_result"
    }
   ],
   "source": [
    "data.head(5)"
   ]
  },
  {
   "cell_type": "code",
   "execution_count": 5,
   "id": "2abccd8e",
   "metadata": {
    "execution": {
     "iopub.execute_input": "2023-10-31T09:37:59.772430Z",
     "iopub.status.busy": "2023-10-31T09:37:59.772143Z",
     "iopub.status.idle": "2023-10-31T09:37:59.776170Z",
     "shell.execute_reply": "2023-10-31T09:37:59.775332Z"
    },
    "papermill": {
     "duration": 0.034026,
     "end_time": "2023-10-31T09:37:59.778016",
     "exception": false,
     "start_time": "2023-10-31T09:37:59.743990",
     "status": "completed"
    },
    "tags": []
   },
   "outputs": [],
   "source": [
    "#from datasets import load_dataset\n",
    "#dataset = load_dataset('csv', data_files={'train':'/kaggle/input/simple3/train (2).csv',\n",
    "                                            #  'test':'/kaggle/input/validation/test (2).csv'})"
   ]
  },
  {
   "cell_type": "code",
   "execution_count": 6,
   "id": "9a0a7973",
   "metadata": {
    "execution": {
     "iopub.execute_input": "2023-10-31T09:37:59.833393Z",
     "iopub.status.busy": "2023-10-31T09:37:59.833104Z",
     "iopub.status.idle": "2023-10-31T09:37:59.841625Z",
     "shell.execute_reply": "2023-10-31T09:37:59.840767Z"
    },
    "papermill": {
     "duration": 0.038818,
     "end_time": "2023-10-31T09:37:59.843704",
     "exception": false,
     "start_time": "2023-10-31T09:37:59.804886",
     "status": "completed"
    },
    "tags": []
   },
   "outputs": [
    {
     "data": {
      "text/html": [
       "<div>\n",
       "<style scoped>\n",
       "    .dataframe tbody tr th:only-of-type {\n",
       "        vertical-align: middle;\n",
       "    }\n",
       "\n",
       "    .dataframe tbody tr th {\n",
       "        vertical-align: top;\n",
       "    }\n",
       "\n",
       "    .dataframe thead th {\n",
       "        text-align: right;\n",
       "    }\n",
       "</style>\n",
       "<table border=\"1\" class=\"dataframe\">\n",
       "  <thead>\n",
       "    <tr style=\"text-align: right;\">\n",
       "      <th></th>\n",
       "      <th>text</th>\n",
       "      <th>label</th>\n",
       "      <th>num_label</th>\n",
       "    </tr>\n",
       "  </thead>\n",
       "  <tbody>\n",
       "    <tr>\n",
       "      <th>0</th>\n",
       "      <td>সন্ধ্যায় পাখিরা বাসায় ফেরে</td>\n",
       "      <td>Simple</td>\n",
       "      <td>0</td>\n",
       "    </tr>\n",
       "    <tr>\n",
       "      <th>1</th>\n",
       "      <td>সন্ধ্যা হয় এবং পাখিরা বাসায় ফেরে</td>\n",
       "      <td>Compound</td>\n",
       "      <td>2</td>\n",
       "    </tr>\n",
       "  </tbody>\n",
       "</table>\n",
       "</div>"
      ],
      "text/plain": [
       "                               text     label  num_label\n",
       "0        সন্ধ্যায় পাখিরা বাসায় ফেরে    Simple          0\n",
       "1  সন্ধ্যা হয় এবং পাখিরা বাসায় ফেরে  Compound          2"
      ]
     },
     "execution_count": 6,
     "metadata": {},
     "output_type": "execute_result"
    }
   ],
   "source": [
    "data.head(2)"
   ]
  },
  {
   "cell_type": "code",
   "execution_count": 7,
   "id": "ff9b94f1",
   "metadata": {
    "execution": {
     "iopub.execute_input": "2023-10-31T09:37:59.899834Z",
     "iopub.status.busy": "2023-10-31T09:37:59.899520Z",
     "iopub.status.idle": "2023-10-31T09:37:59.909144Z",
     "shell.execute_reply": "2023-10-31T09:37:59.908308Z"
    },
    "papermill": {
     "duration": 0.039821,
     "end_time": "2023-10-31T09:37:59.910990",
     "exception": false,
     "start_time": "2023-10-31T09:37:59.871169",
     "status": "completed"
    },
    "tags": []
   },
   "outputs": [
    {
     "data": {
      "text/html": [
       "<div>\n",
       "<style scoped>\n",
       "    .dataframe tbody tr th:only-of-type {\n",
       "        vertical-align: middle;\n",
       "    }\n",
       "\n",
       "    .dataframe tbody tr th {\n",
       "        vertical-align: top;\n",
       "    }\n",
       "\n",
       "    .dataframe thead th {\n",
       "        text-align: right;\n",
       "    }\n",
       "</style>\n",
       "<table border=\"1\" class=\"dataframe\">\n",
       "  <thead>\n",
       "    <tr style=\"text-align: right;\">\n",
       "      <th></th>\n",
       "      <th>label</th>\n",
       "      <th>class</th>\n",
       "    </tr>\n",
       "  </thead>\n",
       "  <tbody>\n",
       "    <tr>\n",
       "      <th>0</th>\n",
       "      <td>0</td>\n",
       "      <td>সরল</td>\n",
       "    </tr>\n",
       "    <tr>\n",
       "      <th>1</th>\n",
       "      <td>1</td>\n",
       "      <td>জটিল</td>\n",
       "    </tr>\n",
       "    <tr>\n",
       "      <th>2</th>\n",
       "      <td>2</td>\n",
       "      <td>যৌগিক</td>\n",
       "    </tr>\n",
       "  </tbody>\n",
       "</table>\n",
       "</div>"
      ],
      "text/plain": [
       "   label  class\n",
       "0      0    সরল\n",
       "1      1   জটিল\n",
       "2      2  যৌগিক"
      ]
     },
     "execution_count": 7,
     "metadata": {},
     "output_type": "execute_result"
    }
   ],
   "source": [
    "level_df = pd.DataFrame({'label': [0, 1, 2],\n",
    "                         'class':['সরল', 'জটিল', 'যৌগিক']})\n",
    "level_df"
   ]
  },
  {
   "cell_type": "markdown",
   "id": "1dbfaaa2",
   "metadata": {
    "papermill": {
     "duration": 0.02711,
     "end_time": "2023-10-31T09:37:59.965681",
     "exception": false,
     "start_time": "2023-10-31T09:37:59.938571",
     "status": "completed"
    },
    "tags": []
   },
   "source": [
    "### CHANGE THE DATAFRAME"
   ]
  },
  {
   "cell_type": "code",
   "execution_count": 8,
   "id": "febc1935",
   "metadata": {
    "execution": {
     "iopub.execute_input": "2023-10-31T09:38:00.021538Z",
     "iopub.status.busy": "2023-10-31T09:38:00.021185Z",
     "iopub.status.idle": "2023-10-31T09:38:00.030437Z",
     "shell.execute_reply": "2023-10-31T09:38:00.029588Z"
    },
    "papermill": {
     "duration": 0.039487,
     "end_time": "2023-10-31T09:38:00.032370",
     "exception": false,
     "start_time": "2023-10-31T09:37:59.992883",
     "status": "completed"
    },
    "tags": []
   },
   "outputs": [
    {
     "data": {
      "text/html": [
       "<div>\n",
       "<style scoped>\n",
       "    .dataframe tbody tr th:only-of-type {\n",
       "        vertical-align: middle;\n",
       "    }\n",
       "\n",
       "    .dataframe tbody tr th {\n",
       "        vertical-align: top;\n",
       "    }\n",
       "\n",
       "    .dataframe thead th {\n",
       "        text-align: right;\n",
       "    }\n",
       "</style>\n",
       "<table border=\"1\" class=\"dataframe\">\n",
       "  <thead>\n",
       "    <tr style=\"text-align: right;\">\n",
       "      <th></th>\n",
       "      <th>text</th>\n",
       "      <th>label</th>\n",
       "      <th>num_label</th>\n",
       "    </tr>\n",
       "  </thead>\n",
       "  <tbody>\n",
       "    <tr>\n",
       "      <th>0</th>\n",
       "      <td>সন্ধ্যায় পাখিরা বাসায় ফেরে</td>\n",
       "      <td>Simple</td>\n",
       "      <td>0</td>\n",
       "    </tr>\n",
       "    <tr>\n",
       "      <th>1</th>\n",
       "      <td>সন্ধ্যা হয় এবং পাখিরা বাসায় ফেরে</td>\n",
       "      <td>Compound</td>\n",
       "      <td>2</td>\n",
       "    </tr>\n",
       "    <tr>\n",
       "      <th>2</th>\n",
       "      <td>যখন সন্ধ্যা হয় তখন পাখিরা বাসায় ফেরে</td>\n",
       "      <td>Complex</td>\n",
       "      <td>1</td>\n",
       "    </tr>\n",
       "  </tbody>\n",
       "</table>\n",
       "</div>"
      ],
      "text/plain": [
       "                                   text     label  num_label\n",
       "0            সন্ধ্যায় পাখিরা বাসায় ফেরে    Simple          0\n",
       "1      সন্ধ্যা হয় এবং পাখিরা বাসায় ফেরে  Compound          2\n",
       "2  যখন সন্ধ্যা হয় তখন পাখিরা বাসায় ফেরে   Complex          1"
      ]
     },
     "execution_count": 8,
     "metadata": {},
     "output_type": "execute_result"
    }
   ],
   "source": [
    "cus_data = data.copy()\n",
    "cus_data.head(3)"
   ]
  },
  {
   "cell_type": "code",
   "execution_count": 9,
   "id": "ab10ae0a",
   "metadata": {
    "execution": {
     "iopub.execute_input": "2023-10-31T09:38:00.089040Z",
     "iopub.status.busy": "2023-10-31T09:38:00.088746Z",
     "iopub.status.idle": "2023-10-31T09:38:00.108196Z",
     "shell.execute_reply": "2023-10-31T09:38:00.107369Z"
    },
    "papermill": {
     "duration": 0.049966,
     "end_time": "2023-10-31T09:38:00.110049",
     "exception": false,
     "start_time": "2023-10-31T09:38:00.060083",
     "status": "completed"
    },
    "tags": []
   },
   "outputs": [
    {
     "data": {
      "text/html": [
       "<div>\n",
       "<style scoped>\n",
       "    .dataframe tbody tr th:only-of-type {\n",
       "        vertical-align: middle;\n",
       "    }\n",
       "\n",
       "    .dataframe tbody tr th {\n",
       "        vertical-align: top;\n",
       "    }\n",
       "\n",
       "    .dataframe thead th {\n",
       "        text-align: right;\n",
       "    }\n",
       "</style>\n",
       "<table border=\"1\" class=\"dataframe\">\n",
       "  <thead>\n",
       "    <tr style=\"text-align: right;\">\n",
       "      <th></th>\n",
       "      <th>Label</th>\n",
       "      <th>Prediction</th>\n",
       "      <th>Corrected_Label</th>\n",
       "      <th>Text</th>\n",
       "    </tr>\n",
       "  </thead>\n",
       "  <tbody>\n",
       "    <tr>\n",
       "      <th>0</th>\n",
       "      <td>2</td>\n",
       "      <td>1</td>\n",
       "      <td>1</td>\n",
       "      <td>এ সংসারে যে কাজ দরকারি,তাতে আমার কোন হাত ছিল না।</td>\n",
       "    </tr>\n",
       "    <tr>\n",
       "      <th>1</th>\n",
       "      <td>0</td>\n",
       "      <td>2</td>\n",
       "      <td>0</td>\n",
       "      <td>অসুস্থতা অবস্থায় সে স্কুলে গেল</td>\n",
       "    </tr>\n",
       "    <tr>\n",
       "      <th>2</th>\n",
       "      <td>2</td>\n",
       "      <td>1</td>\n",
       "      <td>1</td>\n",
       "      <td>যে অন্ধ তাকে আলো দাও</td>\n",
       "    </tr>\n",
       "  </tbody>\n",
       "</table>\n",
       "</div>"
      ],
      "text/plain": [
       "   Label  Prediction  Corrected_Label  \\\n",
       "0      2           1                1   \n",
       "1      0           2                0   \n",
       "2      2           1                1   \n",
       "\n",
       "                                               Text  \n",
       "0  এ সংসারে যে কাজ দরকারি,তাতে আমার কোন হাত ছিল না।  \n",
       "1                    অসুস্থতা অবস্থায় সে স্কুলে গেল  \n",
       "2                              যে অন্ধ তাকে আলো দাও  "
      ]
     },
     "execution_count": 9,
     "metadata": {},
     "output_type": "execute_result"
    }
   ],
   "source": [
    "\n",
    "cus = pd.read_csv('/kaggle/input/sentences/all_new.csv')\n",
    "cus.head(3)"
   ]
  },
  {
   "cell_type": "code",
   "execution_count": 10,
   "id": "7962bf36",
   "metadata": {
    "execution": {
     "iopub.execute_input": "2023-10-31T09:38:00.167058Z",
     "iopub.status.busy": "2023-10-31T09:38:00.166329Z",
     "iopub.status.idle": "2023-10-31T09:38:00.170599Z",
     "shell.execute_reply": "2023-10-31T09:38:00.169755Z"
    },
    "papermill": {
     "duration": 0.034553,
     "end_time": "2023-10-31T09:38:00.172511",
     "exception": false,
     "start_time": "2023-10-31T09:38:00.137958",
     "status": "completed"
    },
    "tags": []
   },
   "outputs": [],
   "source": [
    "cor_label = cus.Corrected_Label\n",
    "cor_text = cus.Text"
   ]
  },
  {
   "cell_type": "code",
   "execution_count": 11,
   "id": "76793705",
   "metadata": {
    "execution": {
     "iopub.execute_input": "2023-10-31T09:38:00.229482Z",
     "iopub.status.busy": "2023-10-31T09:38:00.229154Z",
     "iopub.status.idle": "2023-10-31T09:38:00.233674Z",
     "shell.execute_reply": "2023-10-31T09:38:00.232752Z"
    },
    "papermill": {
     "duration": 0.035227,
     "end_time": "2023-10-31T09:38:00.235570",
     "exception": false,
     "start_time": "2023-10-31T09:38:00.200343",
     "status": "completed"
    },
    "tags": []
   },
   "outputs": [],
   "source": [
    "pairs = [(a, b) for a, b in zip(cor_label, cor_text)]"
   ]
  },
  {
   "cell_type": "code",
   "execution_count": 12,
   "id": "d3aa36b5",
   "metadata": {
    "execution": {
     "iopub.execute_input": "2023-10-31T09:38:00.293355Z",
     "iopub.status.busy": "2023-10-31T09:38:00.292513Z",
     "iopub.status.idle": "2023-10-31T09:38:00.298333Z",
     "shell.execute_reply": "2023-10-31T09:38:00.297503Z"
    },
    "papermill": {
     "duration": 0.036838,
     "end_time": "2023-10-31T09:38:00.300224",
     "exception": false,
     "start_time": "2023-10-31T09:38:00.263386",
     "status": "completed"
    },
    "tags": []
   },
   "outputs": [
    {
     "data": {
      "text/plain": [
       "(1, 'এ সংসারে যে কাজ দরকারি,তাতে আমার কোন হাত ছিল না।')"
      ]
     },
     "execution_count": 12,
     "metadata": {},
     "output_type": "execute_result"
    }
   ],
   "source": [
    "pairs[0]"
   ]
  },
  {
   "cell_type": "code",
   "execution_count": 13,
   "id": "1038ef39",
   "metadata": {
    "execution": {
     "iopub.execute_input": "2023-10-31T09:38:00.357910Z",
     "iopub.status.busy": "2023-10-31T09:38:00.357251Z",
     "iopub.status.idle": "2023-10-31T09:38:00.362969Z",
     "shell.execute_reply": "2023-10-31T09:38:00.362207Z"
    },
    "papermill": {
     "duration": 0.036817,
     "end_time": "2023-10-31T09:38:00.365003",
     "exception": false,
     "start_time": "2023-10-31T09:38:00.328186",
     "status": "completed"
    },
    "tags": []
   },
   "outputs": [
    {
     "data": {
      "text/plain": [
       "'যে অন্ধ তাকে আলো দাও'"
      ]
     },
     "execution_count": 13,
     "metadata": {},
     "output_type": "execute_result"
    }
   ],
   "source": [
    "cor_text[2]"
   ]
  },
  {
   "cell_type": "code",
   "execution_count": 14,
   "id": "5b5098b3",
   "metadata": {
    "execution": {
     "iopub.execute_input": "2023-10-31T09:38:00.422323Z",
     "iopub.status.busy": "2023-10-31T09:38:00.422022Z",
     "iopub.status.idle": "2023-10-31T09:38:00.427510Z",
     "shell.execute_reply": "2023-10-31T09:38:00.426723Z"
    },
    "papermill": {
     "duration": 0.036681,
     "end_time": "2023-10-31T09:38:00.429496",
     "exception": false,
     "start_time": "2023-10-31T09:38:00.392815",
     "status": "completed"
    },
    "tags": []
   },
   "outputs": [
    {
     "data": {
      "text/plain": [
       "141"
      ]
     },
     "execution_count": 14,
     "metadata": {},
     "output_type": "execute_result"
    }
   ],
   "source": [
    "len(pairs)"
   ]
  },
  {
   "cell_type": "code",
   "execution_count": 15,
   "id": "a20a13bc",
   "metadata": {
    "execution": {
     "iopub.execute_input": "2023-10-31T09:38:00.487501Z",
     "iopub.status.busy": "2023-10-31T09:38:00.486796Z",
     "iopub.status.idle": "2023-10-31T09:38:00.493319Z",
     "shell.execute_reply": "2023-10-31T09:38:00.492152Z"
    },
    "papermill": {
     "duration": 0.03768,
     "end_time": "2023-10-31T09:38:00.495421",
     "exception": false,
     "start_time": "2023-10-31T09:38:00.457741",
     "status": "completed"
    },
    "tags": []
   },
   "outputs": [
    {
     "name": "stdout",
     "output_type": "stream",
     "text": [
      "সন্ধ্যায় পাখিরা বাসায় ফেরে\n",
      "সন্ধ্যা হয় এবং পাখিরা বাসায় ফে\n",
      "যখন সন্ধ্যা হয় তখন পাখিরা বাসা\n"
     ]
    }
   ],
   "source": [
    "i = 0\n",
    "for index, row in cus_data.iterrows():\n",
    "    if i==3:\n",
    "        break\n",
    "    i +=1\n",
    "    print(row['text'][:30])"
   ]
  },
  {
   "cell_type": "code",
   "execution_count": 16,
   "id": "fea02332",
   "metadata": {
    "execution": {
     "iopub.execute_input": "2023-10-31T09:38:00.553861Z",
     "iopub.status.busy": "2023-10-31T09:38:00.553514Z",
     "iopub.status.idle": "2023-10-31T09:38:00.564088Z",
     "shell.execute_reply": "2023-10-31T09:38:00.563265Z"
    },
    "papermill": {
     "duration": 0.041783,
     "end_time": "2023-10-31T09:38:00.565893",
     "exception": false,
     "start_time": "2023-10-31T09:38:00.524110",
     "status": "completed"
    },
    "tags": []
   },
   "outputs": [
    {
     "data": {
      "text/plain": [
       "0    1554\n",
       "2    1196\n",
       "1    1043\n",
       "Name: num_label, dtype: int64"
      ]
     },
     "execution_count": 16,
     "metadata": {},
     "output_type": "execute_result"
    }
   ],
   "source": [
    "cus_data.num_label.value_counts()"
   ]
  },
  {
   "cell_type": "code",
   "execution_count": 17,
   "id": "9c84bf28",
   "metadata": {
    "execution": {
     "iopub.execute_input": "2023-10-31T09:38:00.624137Z",
     "iopub.status.busy": "2023-10-31T09:38:00.623787Z",
     "iopub.status.idle": "2023-10-31T09:38:26.625890Z",
     "shell.execute_reply": "2023-10-31T09:38:26.624935Z"
    },
    "papermill": {
     "duration": 26.033781,
     "end_time": "2023-10-31T09:38:26.628202",
     "exception": false,
     "start_time": "2023-10-31T09:38:00.594421",
     "status": "completed"
    },
    "tags": []
   },
   "outputs": [
    {
     "name": "stderr",
     "output_type": "stream",
     "text": [
      "100%|██████████| 141/141 [00:25<00:00,  5.42it/s]\n"
     ]
    }
   ],
   "source": [
    "count = 0\n",
    "for i in tqdm(range(len(pairs))):\n",
    "    for index, row in cus_data.iterrows():\n",
    "        if row['text'] == pairs[i][1]:\n",
    "            count += 1\n",
    "            cus_data.at[index, 'num_label'] = pairs[i][0]"
   ]
  },
  {
   "cell_type": "code",
   "execution_count": 18,
   "id": "e2ca7f94",
   "metadata": {
    "execution": {
     "iopub.execute_input": "2023-10-31T09:38:26.707862Z",
     "iopub.status.busy": "2023-10-31T09:38:26.707518Z",
     "iopub.status.idle": "2023-10-31T09:38:26.712268Z",
     "shell.execute_reply": "2023-10-31T09:38:26.711401Z"
    },
    "papermill": {
     "duration": 0.047097,
     "end_time": "2023-10-31T09:38:26.714256",
     "exception": false,
     "start_time": "2023-10-31T09:38:26.667159",
     "status": "completed"
    },
    "tags": []
   },
   "outputs": [
    {
     "name": "stdout",
     "output_type": "stream",
     "text": [
      "Total Matched:  141\n"
     ]
    }
   ],
   "source": [
    "print('Total Matched: ', count)"
   ]
  },
  {
   "cell_type": "code",
   "execution_count": 19,
   "id": "2816756c",
   "metadata": {
    "execution": {
     "iopub.execute_input": "2023-10-31T09:38:26.795446Z",
     "iopub.status.busy": "2023-10-31T09:38:26.795116Z",
     "iopub.status.idle": "2023-10-31T09:38:26.804158Z",
     "shell.execute_reply": "2023-10-31T09:38:26.803275Z"
    },
    "papermill": {
     "duration": 0.051549,
     "end_time": "2023-10-31T09:38:26.806164",
     "exception": false,
     "start_time": "2023-10-31T09:38:26.754615",
     "status": "completed"
    },
    "tags": []
   },
   "outputs": [
    {
     "data": {
      "text/html": [
       "<div>\n",
       "<style scoped>\n",
       "    .dataframe tbody tr th:only-of-type {\n",
       "        vertical-align: middle;\n",
       "    }\n",
       "\n",
       "    .dataframe tbody tr th {\n",
       "        vertical-align: top;\n",
       "    }\n",
       "\n",
       "    .dataframe thead th {\n",
       "        text-align: right;\n",
       "    }\n",
       "</style>\n",
       "<table border=\"1\" class=\"dataframe\">\n",
       "  <thead>\n",
       "    <tr style=\"text-align: right;\">\n",
       "      <th></th>\n",
       "      <th>text</th>\n",
       "      <th>label</th>\n",
       "      <th>num_label</th>\n",
       "    </tr>\n",
       "  </thead>\n",
       "  <tbody>\n",
       "    <tr>\n",
       "      <th>0</th>\n",
       "      <td>সন্ধ্যায় পাখিরা বাসায় ফেরে</td>\n",
       "      <td>Simple</td>\n",
       "      <td>0</td>\n",
       "    </tr>\n",
       "    <tr>\n",
       "      <th>1</th>\n",
       "      <td>সন্ধ্যা হয় এবং পাখিরা বাসায় ফেরে</td>\n",
       "      <td>Compound</td>\n",
       "      <td>2</td>\n",
       "    </tr>\n",
       "  </tbody>\n",
       "</table>\n",
       "</div>"
      ],
      "text/plain": [
       "                               text     label  num_label\n",
       "0        সন্ধ্যায় পাখিরা বাসায় ফেরে    Simple          0\n",
       "1  সন্ধ্যা হয় এবং পাখিরা বাসায় ফেরে  Compound          2"
      ]
     },
     "execution_count": 19,
     "metadata": {},
     "output_type": "execute_result"
    }
   ],
   "source": [
    "cus_data.head(2)"
   ]
  },
  {
   "cell_type": "code",
   "execution_count": 20,
   "id": "5d3c5536",
   "metadata": {
    "execution": {
     "iopub.execute_input": "2023-10-31T09:38:26.885286Z",
     "iopub.status.busy": "2023-10-31T09:38:26.884975Z",
     "iopub.status.idle": "2023-10-31T09:38:26.892107Z",
     "shell.execute_reply": "2023-10-31T09:38:26.891272Z"
    },
    "papermill": {
     "duration": 0.048892,
     "end_time": "2023-10-31T09:38:26.894000",
     "exception": false,
     "start_time": "2023-10-31T09:38:26.845108",
     "status": "completed"
    },
    "tags": []
   },
   "outputs": [
    {
     "data": {
      "text/plain": [
       "0    1536\n",
       "2    1170\n",
       "1    1087\n",
       "Name: num_label, dtype: int64"
      ]
     },
     "execution_count": 20,
     "metadata": {},
     "output_type": "execute_result"
    }
   ],
   "source": [
    "cus_data.num_label.value_counts()"
   ]
  },
  {
   "cell_type": "code",
   "execution_count": null,
   "id": "ec1f9997",
   "metadata": {
    "papermill": {
     "duration": 0.03874,
     "end_time": "2023-10-31T09:38:26.971840",
     "exception": false,
     "start_time": "2023-10-31T09:38:26.933100",
     "status": "completed"
    },
    "tags": []
   },
   "outputs": [],
   "source": []
  },
  {
   "cell_type": "code",
   "execution_count": 21,
   "id": "e5457c47",
   "metadata": {
    "execution": {
     "iopub.execute_input": "2023-10-31T09:38:27.051564Z",
     "iopub.status.busy": "2023-10-31T09:38:27.050766Z",
     "iopub.status.idle": "2023-10-31T09:38:27.055659Z",
     "shell.execute_reply": "2023-10-31T09:38:27.054788Z"
    },
    "papermill": {
     "duration": 0.046912,
     "end_time": "2023-10-31T09:38:27.057542",
     "exception": false,
     "start_time": "2023-10-31T09:38:27.010630",
     "status": "completed"
    },
    "tags": []
   },
   "outputs": [],
   "source": [
    "main_data = data.copy()\n",
    "data = cus_data.copy()"
   ]
  },
  {
   "cell_type": "code",
   "execution_count": 22,
   "id": "ed0166cd",
   "metadata": {
    "execution": {
     "iopub.execute_input": "2023-10-31T09:38:27.137964Z",
     "iopub.status.busy": "2023-10-31T09:38:27.137190Z",
     "iopub.status.idle": "2023-10-31T09:38:27.144293Z",
     "shell.execute_reply": "2023-10-31T09:38:27.143500Z"
    },
    "papermill": {
     "duration": 0.049429,
     "end_time": "2023-10-31T09:38:27.146230",
     "exception": false,
     "start_time": "2023-10-31T09:38:27.096801",
     "status": "completed"
    },
    "tags": []
   },
   "outputs": [
    {
     "data": {
      "text/plain": [
       "0    1554\n",
       "2    1196\n",
       "1    1043\n",
       "Name: num_label, dtype: int64"
      ]
     },
     "execution_count": 22,
     "metadata": {},
     "output_type": "execute_result"
    }
   ],
   "source": [
    "main_data.num_label.value_counts()"
   ]
  },
  {
   "cell_type": "code",
   "execution_count": 23,
   "id": "01cb502c",
   "metadata": {
    "execution": {
     "iopub.execute_input": "2023-10-31T09:38:27.226153Z",
     "iopub.status.busy": "2023-10-31T09:38:27.225849Z",
     "iopub.status.idle": "2023-10-31T09:38:27.233041Z",
     "shell.execute_reply": "2023-10-31T09:38:27.232099Z"
    },
    "papermill": {
     "duration": 0.049214,
     "end_time": "2023-10-31T09:38:27.234930",
     "exception": false,
     "start_time": "2023-10-31T09:38:27.185716",
     "status": "completed"
    },
    "tags": []
   },
   "outputs": [
    {
     "data": {
      "text/plain": [
       "0    1536\n",
       "2    1170\n",
       "1    1087\n",
       "Name: num_label, dtype: int64"
      ]
     },
     "execution_count": 23,
     "metadata": {},
     "output_type": "execute_result"
    }
   ],
   "source": [
    "data.num_label.value_counts()"
   ]
  },
  {
   "cell_type": "code",
   "execution_count": 24,
   "id": "989853dd",
   "metadata": {
    "execution": {
     "iopub.execute_input": "2023-10-31T09:38:27.315578Z",
     "iopub.status.busy": "2023-10-31T09:38:27.314778Z",
     "iopub.status.idle": "2023-10-31T09:38:27.329440Z",
     "shell.execute_reply": "2023-10-31T09:38:27.328760Z"
    },
    "papermill": {
     "duration": 0.057193,
     "end_time": "2023-10-31T09:38:27.331354",
     "exception": false,
     "start_time": "2023-10-31T09:38:27.274161",
     "status": "completed"
    },
    "tags": []
   },
   "outputs": [],
   "source": [
    "cheng = ['তিনি খুব তাড়াতাড়ি বিছানায় গিয়েছিলেন কারণ তার খুব ভোরের ফ্লাইট ছিল', \n",
    "         'তিনি তার ক্রিয়াকলাপের প্রভাব উপলব্ধি করার পরে প্রচুর পরিমাণে ক্ষমা চেয়েছিলেন',\n",
    "         'তিনি ক্লাবে যোগ দিয়েছিলেন কারণ তিনি নতুন লোকের সাথে দেখা করতে চেয়েছিলেন',\n",
    "         'একটি ওয়েবসাইট তৈরি করা হলে তখন অনেক কাজের মত মনে হয়' ,\n",
    "         'বৃষ্টি হলে রাস্তা পিচ্ছিল হয়ে যায়।',\n",
    "         'আমার কথা বিশ্বাস করো, তোমার মঙ্গল হবে'\n",
    "]\n",
    "chengl = [1, 0, 1, 0, 0, 2]\n",
    "for i in range(5):\n",
    "    vtc = cheng[i]\n",
    "    if vtc in data['text'].values:\n",
    "        data.loc[data['text'] == vtc, 'num_label'] = chengl[i]\n",
    "\n",
    "value_to_check =  'ট্রয় একটি বিশাল কুকি খেয়েছে। তার পেটে ব্যথা হয়েছে'\n",
    "if value_to_check in data['text'].values:\n",
    "    data.loc[data['text'] == value_to_check, 'text'] = 'ট্রয় একটি বিশাল কুকি খেয়েছে, তার পেটে ব্যথা হয়েছে'"
   ]
  },
  {
   "cell_type": "code",
   "execution_count": 25,
   "id": "ce6c5b9a",
   "metadata": {
    "execution": {
     "iopub.execute_input": "2023-10-31T09:38:27.411598Z",
     "iopub.status.busy": "2023-10-31T09:38:27.411246Z",
     "iopub.status.idle": "2023-10-31T09:38:27.418211Z",
     "shell.execute_reply": "2023-10-31T09:38:27.417404Z"
    },
    "papermill": {
     "duration": 0.04929,
     "end_time": "2023-10-31T09:38:27.420089",
     "exception": false,
     "start_time": "2023-10-31T09:38:27.370799",
     "status": "completed"
    },
    "tags": []
   },
   "outputs": [
    {
     "data": {
      "text/plain": [
       "0    1537\n",
       "2    1168\n",
       "1    1088\n",
       "Name: num_label, dtype: int64"
      ]
     },
     "execution_count": 25,
     "metadata": {},
     "output_type": "execute_result"
    }
   ],
   "source": [
    "data.num_label.value_counts()"
   ]
  },
  {
   "cell_type": "markdown",
   "id": "1291cce7",
   "metadata": {
    "papermill": {
     "duration": 0.039244,
     "end_time": "2023-10-31T09:38:27.498570",
     "exception": false,
     "start_time": "2023-10-31T09:38:27.459326",
     "status": "completed"
    },
    "tags": []
   },
   "source": [
    "### ENDED CHANGING THE DATAFRAME"
   ]
  },
  {
   "cell_type": "code",
   "execution_count": 26,
   "id": "8b935dbb",
   "metadata": {
    "execution": {
     "iopub.execute_input": "2023-10-31T09:38:27.579014Z",
     "iopub.status.busy": "2023-10-31T09:38:27.578681Z",
     "iopub.status.idle": "2023-10-31T09:38:27.589502Z",
     "shell.execute_reply": "2023-10-31T09:38:27.588649Z"
    },
    "papermill": {
     "duration": 0.053136,
     "end_time": "2023-10-31T09:38:27.591357",
     "exception": false,
     "start_time": "2023-10-31T09:38:27.538221",
     "status": "completed"
    },
    "tags": []
   },
   "outputs": [
    {
     "data": {
      "text/plain": [
       "(3413, 190, 190)"
      ]
     },
     "execution_count": 26,
     "metadata": {},
     "output_type": "execute_result"
    }
   ],
   "source": [
    "from sklearn.model_selection import train_test_split \n",
    "\n",
    "np.random.seed(71)\n",
    "train, temp = train_test_split(data, test_size=0.1)\n",
    "valid, test = train_test_split(temp, test_size=.5)\n",
    "len(train), len(test), len(valid)"
   ]
  },
  {
   "cell_type": "code",
   "execution_count": 27,
   "id": "18c1db06",
   "metadata": {
    "execution": {
     "iopub.execute_input": "2023-10-31T09:38:27.672476Z",
     "iopub.status.busy": "2023-10-31T09:38:27.671704Z",
     "iopub.status.idle": "2023-10-31T09:38:27.680720Z",
     "shell.execute_reply": "2023-10-31T09:38:27.679857Z"
    },
    "papermill": {
     "duration": 0.051716,
     "end_time": "2023-10-31T09:38:27.682751",
     "exception": false,
     "start_time": "2023-10-31T09:38:27.631035",
     "status": "completed"
    },
    "tags": []
   },
   "outputs": [
    {
     "data": {
      "text/html": [
       "<div>\n",
       "<style scoped>\n",
       "    .dataframe tbody tr th:only-of-type {\n",
       "        vertical-align: middle;\n",
       "    }\n",
       "\n",
       "    .dataframe tbody tr th {\n",
       "        vertical-align: top;\n",
       "    }\n",
       "\n",
       "    .dataframe thead th {\n",
       "        text-align: right;\n",
       "    }\n",
       "</style>\n",
       "<table border=\"1\" class=\"dataframe\">\n",
       "  <thead>\n",
       "    <tr style=\"text-align: right;\">\n",
       "      <th></th>\n",
       "      <th>text</th>\n",
       "      <th>label</th>\n",
       "      <th>num_label</th>\n",
       "    </tr>\n",
       "  </thead>\n",
       "  <tbody>\n",
       "    <tr>\n",
       "      <th>1740</th>\n",
       "      <td>সারাদিন বৃষ্টি হচ্ছিল যাইহোক তিনি পার্কে যাওয়...</td>\n",
       "      <td>Compound</td>\n",
       "      <td>2</td>\n",
       "    </tr>\n",
       "    <tr>\n",
       "      <th>2808</th>\n",
       "      <td>তিনি তার বন্ধুদের জন্য খাবার বানিয়েছেন</td>\n",
       "      <td>Simple</td>\n",
       "      <td>0</td>\n",
       "    </tr>\n",
       "  </tbody>\n",
       "</table>\n",
       "</div>"
      ],
      "text/plain": [
       "                                                   text     label  num_label\n",
       "1740  সারাদিন বৃষ্টি হচ্ছিল যাইহোক তিনি পার্কে যাওয়...  Compound          2\n",
       "2808             তিনি তার বন্ধুদের জন্য খাবার বানিয়েছেন    Simple          0"
      ]
     },
     "execution_count": 27,
     "metadata": {},
     "output_type": "execute_result"
    }
   ],
   "source": [
    "train.head(2)"
   ]
  },
  {
   "cell_type": "code",
   "execution_count": 28,
   "id": "5fec03f3",
   "metadata": {
    "execution": {
     "iopub.execute_input": "2023-10-31T09:38:27.765684Z",
     "iopub.status.busy": "2023-10-31T09:38:27.764879Z",
     "iopub.status.idle": "2023-10-31T09:38:27.772005Z",
     "shell.execute_reply": "2023-10-31T09:38:27.771179Z"
    },
    "papermill": {
     "duration": 0.050947,
     "end_time": "2023-10-31T09:38:27.773952",
     "exception": false,
     "start_time": "2023-10-31T09:38:27.723005",
     "status": "completed"
    },
    "tags": []
   },
   "outputs": [
    {
     "data": {
      "text/plain": [
       "0    1391\n",
       "2    1052\n",
       "1     970\n",
       "Name: num_label, dtype: int64"
      ]
     },
     "execution_count": 28,
     "metadata": {},
     "output_type": "execute_result"
    }
   ],
   "source": [
    "train.num_label.value_counts()"
   ]
  },
  {
   "cell_type": "code",
   "execution_count": 29,
   "id": "18e891b5",
   "metadata": {
    "execution": {
     "iopub.execute_input": "2023-10-31T09:38:27.855022Z",
     "iopub.status.busy": "2023-10-31T09:38:27.854728Z",
     "iopub.status.idle": "2023-10-31T09:38:27.863512Z",
     "shell.execute_reply": "2023-10-31T09:38:27.862688Z"
    },
    "papermill": {
     "duration": 0.051664,
     "end_time": "2023-10-31T09:38:27.865358",
     "exception": false,
     "start_time": "2023-10-31T09:38:27.813694",
     "status": "completed"
    },
    "tags": []
   },
   "outputs": [
    {
     "data": {
      "text/html": [
       "<div>\n",
       "<style scoped>\n",
       "    .dataframe tbody tr th:only-of-type {\n",
       "        vertical-align: middle;\n",
       "    }\n",
       "\n",
       "    .dataframe tbody tr th {\n",
       "        vertical-align: top;\n",
       "    }\n",
       "\n",
       "    .dataframe thead th {\n",
       "        text-align: right;\n",
       "    }\n",
       "</style>\n",
       "<table border=\"1\" class=\"dataframe\">\n",
       "  <thead>\n",
       "    <tr style=\"text-align: right;\">\n",
       "      <th></th>\n",
       "      <th>text</th>\n",
       "      <th>label</th>\n",
       "      <th>num_label</th>\n",
       "    </tr>\n",
       "  </thead>\n",
       "  <tbody>\n",
       "    <tr>\n",
       "      <th>1583</th>\n",
       "      <td>আমাকে বিরক্ত করার কারণটা জানতাম না।</td>\n",
       "      <td>Simple</td>\n",
       "      <td>0</td>\n",
       "    </tr>\n",
       "    <tr>\n",
       "      <th>2978</th>\n",
       "      <td>তারা বছরের পর বছর ধরে সঞ্চয় করার পরে একটি নতু...</td>\n",
       "      <td>Simple</td>\n",
       "      <td>0</td>\n",
       "    </tr>\n",
       "  </tbody>\n",
       "</table>\n",
       "</div>"
      ],
      "text/plain": [
       "                                                   text   label  num_label\n",
       "1583                আমাকে বিরক্ত করার কারণটা জানতাম না।  Simple          0\n",
       "2978  তারা বছরের পর বছর ধরে সঞ্চয় করার পরে একটি নতু...  Simple          0"
      ]
     },
     "execution_count": 29,
     "metadata": {},
     "output_type": "execute_result"
    }
   ],
   "source": [
    "valid.head(2)"
   ]
  },
  {
   "cell_type": "code",
   "execution_count": 30,
   "id": "7da506e8",
   "metadata": {
    "execution": {
     "iopub.execute_input": "2023-10-31T09:38:27.948154Z",
     "iopub.status.busy": "2023-10-31T09:38:27.947333Z",
     "iopub.status.idle": "2023-10-31T09:38:27.954448Z",
     "shell.execute_reply": "2023-10-31T09:38:27.953645Z"
    },
    "papermill": {
     "duration": 0.050138,
     "end_time": "2023-10-31T09:38:27.956482",
     "exception": false,
     "start_time": "2023-10-31T09:38:27.906344",
     "status": "completed"
    },
    "tags": []
   },
   "outputs": [
    {
     "data": {
      "text/plain": [
       "0    71\n",
       "1    60\n",
       "2    59\n",
       "Name: num_label, dtype: int64"
      ]
     },
     "execution_count": 30,
     "metadata": {},
     "output_type": "execute_result"
    }
   ],
   "source": [
    "valid.num_label.value_counts()"
   ]
  },
  {
   "cell_type": "code",
   "execution_count": 31,
   "id": "679863b8",
   "metadata": {
    "execution": {
     "iopub.execute_input": "2023-10-31T09:38:28.038468Z",
     "iopub.status.busy": "2023-10-31T09:38:28.037808Z",
     "iopub.status.idle": "2023-10-31T09:38:28.046831Z",
     "shell.execute_reply": "2023-10-31T09:38:28.045887Z"
    },
    "papermill": {
     "duration": 0.052044,
     "end_time": "2023-10-31T09:38:28.048729",
     "exception": false,
     "start_time": "2023-10-31T09:38:27.996685",
     "status": "completed"
    },
    "tags": []
   },
   "outputs": [
    {
     "data": {
      "text/html": [
       "<div>\n",
       "<style scoped>\n",
       "    .dataframe tbody tr th:only-of-type {\n",
       "        vertical-align: middle;\n",
       "    }\n",
       "\n",
       "    .dataframe tbody tr th {\n",
       "        vertical-align: top;\n",
       "    }\n",
       "\n",
       "    .dataframe thead th {\n",
       "        text-align: right;\n",
       "    }\n",
       "</style>\n",
       "<table border=\"1\" class=\"dataframe\">\n",
       "  <thead>\n",
       "    <tr style=\"text-align: right;\">\n",
       "      <th></th>\n",
       "      <th>text</th>\n",
       "      <th>label</th>\n",
       "      <th>num_label</th>\n",
       "    </tr>\n",
       "  </thead>\n",
       "  <tbody>\n",
       "    <tr>\n",
       "      <th>1810</th>\n",
       "      <td>যখন ঝড় কমে গেল তখন আমরা আমাদের যাত্রা অব্যাহত...</td>\n",
       "      <td>Complex</td>\n",
       "      <td>1</td>\n",
       "    </tr>\n",
       "    <tr>\n",
       "      <th>2238</th>\n",
       "      <td>তারা দুই বোন একটি কুকুর দেখে রাস্তা পার হল।</td>\n",
       "      <td>Simple</td>\n",
       "      <td>0</td>\n",
       "    </tr>\n",
       "  </tbody>\n",
       "</table>\n",
       "</div>"
      ],
      "text/plain": [
       "                                                   text    label  num_label\n",
       "1810  যখন ঝড় কমে গেল তখন আমরা আমাদের যাত্রা অব্যাহত...  Complex          1\n",
       "2238        তারা দুই বোন একটি কুকুর দেখে রাস্তা পার হল।   Simple          0"
      ]
     },
     "execution_count": 31,
     "metadata": {},
     "output_type": "execute_result"
    }
   ],
   "source": [
    "test.head(2)"
   ]
  },
  {
   "cell_type": "code",
   "execution_count": 32,
   "id": "5a4f108c",
   "metadata": {
    "execution": {
     "iopub.execute_input": "2023-10-31T09:38:28.131361Z",
     "iopub.status.busy": "2023-10-31T09:38:28.130704Z",
     "iopub.status.idle": "2023-10-31T09:38:28.137709Z",
     "shell.execute_reply": "2023-10-31T09:38:28.136896Z"
    },
    "papermill": {
     "duration": 0.050491,
     "end_time": "2023-10-31T09:38:28.139574",
     "exception": false,
     "start_time": "2023-10-31T09:38:28.089083",
     "status": "completed"
    },
    "tags": []
   },
   "outputs": [
    {
     "data": {
      "text/plain": [
       "0    75\n",
       "1    58\n",
       "2    57\n",
       "Name: num_label, dtype: int64"
      ]
     },
     "execution_count": 32,
     "metadata": {},
     "output_type": "execute_result"
    }
   ],
   "source": [
    "test.num_label.value_counts()"
   ]
  },
  {
   "cell_type": "code",
   "execution_count": 33,
   "id": "344afae7",
   "metadata": {
    "execution": {
     "iopub.execute_input": "2023-10-31T09:38:28.222241Z",
     "iopub.status.busy": "2023-10-31T09:38:28.221951Z",
     "iopub.status.idle": "2023-10-31T09:38:28.226408Z",
     "shell.execute_reply": "2023-10-31T09:38:28.225572Z"
    },
    "papermill": {
     "duration": 0.048228,
     "end_time": "2023-10-31T09:38:28.228331",
     "exception": false,
     "start_time": "2023-10-31T09:38:28.180103",
     "status": "completed"
    },
    "tags": []
   },
   "outputs": [],
   "source": [
    "def plot_rate(df):\n",
    "    df.label.value_counts().plot(kind='bar', cmap='viridis', title='Types of sentences');"
   ]
  },
  {
   "cell_type": "code",
   "execution_count": 34,
   "id": "2a3d9201",
   "metadata": {
    "execution": {
     "iopub.execute_input": "2023-10-31T09:38:28.310480Z",
     "iopub.status.busy": "2023-10-31T09:38:28.310134Z",
     "iopub.status.idle": "2023-10-31T09:38:28.317149Z",
     "shell.execute_reply": "2023-10-31T09:38:28.316405Z"
    },
    "papermill": {
     "duration": 0.050342,
     "end_time": "2023-10-31T09:38:28.319012",
     "exception": false,
     "start_time": "2023-10-31T09:38:28.268670",
     "status": "completed"
    },
    "tags": []
   },
   "outputs": [],
   "source": [
    "# drop the label column\n",
    "train = train.drop(['label'],axis=1)\n",
    "valid = valid.drop(['label'],axis=1)\n",
    "test = test.drop(['label'], axis=1)"
   ]
  },
  {
   "cell_type": "code",
   "execution_count": 35,
   "id": "ed63039f",
   "metadata": {
    "execution": {
     "iopub.execute_input": "2023-10-31T09:38:28.401260Z",
     "iopub.status.busy": "2023-10-31T09:38:28.400952Z",
     "iopub.status.idle": "2023-10-31T09:38:28.407110Z",
     "shell.execute_reply": "2023-10-31T09:38:28.406276Z"
    },
    "papermill": {
     "duration": 0.049338,
     "end_time": "2023-10-31T09:38:28.408920",
     "exception": false,
     "start_time": "2023-10-31T09:38:28.359582",
     "status": "completed"
    },
    "tags": []
   },
   "outputs": [],
   "source": [
    "# change column name numeric_label to label\n",
    "train.rename(columns={'num_label': 'label'}, inplace=True)\n",
    "valid.rename(columns={'num_label': 'label'}, inplace=True)\n",
    "test.rename(columns={'num_label': 'label'}, inplace=True)"
   ]
  },
  {
   "cell_type": "code",
   "execution_count": 36,
   "id": "b5a7ea88",
   "metadata": {
    "execution": {
     "iopub.execute_input": "2023-10-31T09:38:28.491253Z",
     "iopub.status.busy": "2023-10-31T09:38:28.490934Z",
     "iopub.status.idle": "2023-10-31T09:38:28.499546Z",
     "shell.execute_reply": "2023-10-31T09:38:28.498693Z"
    },
    "papermill": {
     "duration": 0.051991,
     "end_time": "2023-10-31T09:38:28.501518",
     "exception": false,
     "start_time": "2023-10-31T09:38:28.449527",
     "status": "completed"
    },
    "tags": []
   },
   "outputs": [
    {
     "data": {
      "text/html": [
       "<div>\n",
       "<style scoped>\n",
       "    .dataframe tbody tr th:only-of-type {\n",
       "        vertical-align: middle;\n",
       "    }\n",
       "\n",
       "    .dataframe tbody tr th {\n",
       "        vertical-align: top;\n",
       "    }\n",
       "\n",
       "    .dataframe thead th {\n",
       "        text-align: right;\n",
       "    }\n",
       "</style>\n",
       "<table border=\"1\" class=\"dataframe\">\n",
       "  <thead>\n",
       "    <tr style=\"text-align: right;\">\n",
       "      <th></th>\n",
       "      <th>text</th>\n",
       "      <th>label</th>\n",
       "    </tr>\n",
       "  </thead>\n",
       "  <tbody>\n",
       "    <tr>\n",
       "      <th>1740</th>\n",
       "      <td>সারাদিন বৃষ্টি হচ্ছিল যাইহোক তিনি পার্কে যাওয়...</td>\n",
       "      <td>2</td>\n",
       "    </tr>\n",
       "    <tr>\n",
       "      <th>2808</th>\n",
       "      <td>তিনি তার বন্ধুদের জন্য খাবার বানিয়েছেন</td>\n",
       "      <td>0</td>\n",
       "    </tr>\n",
       "    <tr>\n",
       "      <th>2119</th>\n",
       "      <td>যেহেতু পাখি আমাদের ছাড়া উড়তে পারে সেহেতু আমাদ...</td>\n",
       "      <td>1</td>\n",
       "    </tr>\n",
       "  </tbody>\n",
       "</table>\n",
       "</div>"
      ],
      "text/plain": [
       "                                                   text  label\n",
       "1740  সারাদিন বৃষ্টি হচ্ছিল যাইহোক তিনি পার্কে যাওয়...      2\n",
       "2808             তিনি তার বন্ধুদের জন্য খাবার বানিয়েছেন      0\n",
       "2119  যেহেতু পাখি আমাদের ছাড়া উড়তে পারে সেহেতু আমাদ...      1"
      ]
     },
     "execution_count": 36,
     "metadata": {},
     "output_type": "execute_result"
    }
   ],
   "source": [
    "train.head(3)"
   ]
  },
  {
   "cell_type": "code",
   "execution_count": 37,
   "id": "b6eacc96",
   "metadata": {
    "execution": {
     "iopub.execute_input": "2023-10-31T09:38:28.585055Z",
     "iopub.status.busy": "2023-10-31T09:38:28.584747Z",
     "iopub.status.idle": "2023-10-31T09:38:28.593312Z",
     "shell.execute_reply": "2023-10-31T09:38:28.592389Z"
    },
    "papermill": {
     "duration": 0.052439,
     "end_time": "2023-10-31T09:38:28.595266",
     "exception": false,
     "start_time": "2023-10-31T09:38:28.542827",
     "status": "completed"
    },
    "tags": []
   },
   "outputs": [
    {
     "data": {
      "text/html": [
       "<div>\n",
       "<style scoped>\n",
       "    .dataframe tbody tr th:only-of-type {\n",
       "        vertical-align: middle;\n",
       "    }\n",
       "\n",
       "    .dataframe tbody tr th {\n",
       "        vertical-align: top;\n",
       "    }\n",
       "\n",
       "    .dataframe thead th {\n",
       "        text-align: right;\n",
       "    }\n",
       "</style>\n",
       "<table border=\"1\" class=\"dataframe\">\n",
       "  <thead>\n",
       "    <tr style=\"text-align: right;\">\n",
       "      <th></th>\n",
       "      <th>text</th>\n",
       "      <th>label</th>\n",
       "    </tr>\n",
       "  </thead>\n",
       "  <tbody>\n",
       "    <tr>\n",
       "      <th>1583</th>\n",
       "      <td>আমাকে বিরক্ত করার কারণটা জানতাম না।</td>\n",
       "      <td>0</td>\n",
       "    </tr>\n",
       "    <tr>\n",
       "      <th>2978</th>\n",
       "      <td>তারা বছরের পর বছর ধরে সঞ্চয় করার পরে একটি নতু...</td>\n",
       "      <td>0</td>\n",
       "    </tr>\n",
       "    <tr>\n",
       "      <th>3024</th>\n",
       "      <td>আমি যখন তৈরি করেছি তখন আপনাকে পরে জানাব</td>\n",
       "      <td>1</td>\n",
       "    </tr>\n",
       "  </tbody>\n",
       "</table>\n",
       "</div>"
      ],
      "text/plain": [
       "                                                   text  label\n",
       "1583                আমাকে বিরক্ত করার কারণটা জানতাম না।      0\n",
       "2978  তারা বছরের পর বছর ধরে সঞ্চয় করার পরে একটি নতু...      0\n",
       "3024            আমি যখন তৈরি করেছি তখন আপনাকে পরে জানাব      1"
      ]
     },
     "execution_count": 37,
     "metadata": {},
     "output_type": "execute_result"
    }
   ],
   "source": [
    "valid.head(3)"
   ]
  },
  {
   "cell_type": "code",
   "execution_count": 38,
   "id": "01be0002",
   "metadata": {
    "execution": {
     "iopub.execute_input": "2023-10-31T09:38:28.678999Z",
     "iopub.status.busy": "2023-10-31T09:38:28.678221Z",
     "iopub.status.idle": "2023-10-31T09:38:28.686804Z",
     "shell.execute_reply": "2023-10-31T09:38:28.685860Z"
    },
    "papermill": {
     "duration": 0.052148,
     "end_time": "2023-10-31T09:38:28.688629",
     "exception": false,
     "start_time": "2023-10-31T09:38:28.636481",
     "status": "completed"
    },
    "tags": []
   },
   "outputs": [
    {
     "data": {
      "text/html": [
       "<div>\n",
       "<style scoped>\n",
       "    .dataframe tbody tr th:only-of-type {\n",
       "        vertical-align: middle;\n",
       "    }\n",
       "\n",
       "    .dataframe tbody tr th {\n",
       "        vertical-align: top;\n",
       "    }\n",
       "\n",
       "    .dataframe thead th {\n",
       "        text-align: right;\n",
       "    }\n",
       "</style>\n",
       "<table border=\"1\" class=\"dataframe\">\n",
       "  <thead>\n",
       "    <tr style=\"text-align: right;\">\n",
       "      <th></th>\n",
       "      <th>text</th>\n",
       "      <th>label</th>\n",
       "    </tr>\n",
       "  </thead>\n",
       "  <tbody>\n",
       "    <tr>\n",
       "      <th>1810</th>\n",
       "      <td>যখন ঝড় কমে গেল তখন আমরা আমাদের যাত্রা অব্যাহত...</td>\n",
       "      <td>1</td>\n",
       "    </tr>\n",
       "    <tr>\n",
       "      <th>2238</th>\n",
       "      <td>তারা দুই বোন একটি কুকুর দেখে রাস্তা পার হল।</td>\n",
       "      <td>0</td>\n",
       "    </tr>\n",
       "    <tr>\n",
       "      <th>2051</th>\n",
       "      <td>দেরি হয়ে গেছে তাই আমরা বাসায় চলে গেলাম</td>\n",
       "      <td>2</td>\n",
       "    </tr>\n",
       "  </tbody>\n",
       "</table>\n",
       "</div>"
      ],
      "text/plain": [
       "                                                   text  label\n",
       "1810  যখন ঝড় কমে গেল তখন আমরা আমাদের যাত্রা অব্যাহত...      1\n",
       "2238        তারা দুই বোন একটি কুকুর দেখে রাস্তা পার হল।      0\n",
       "2051           দেরি হয়ে গেছে তাই আমরা বাসায় চলে গেলাম      2"
      ]
     },
     "execution_count": 38,
     "metadata": {},
     "output_type": "execute_result"
    }
   ],
   "source": [
    "test.head(3)"
   ]
  },
  {
   "cell_type": "code",
   "execution_count": 39,
   "id": "b37d618e",
   "metadata": {
    "execution": {
     "iopub.execute_input": "2023-10-31T09:38:28.773879Z",
     "iopub.status.busy": "2023-10-31T09:38:28.773564Z",
     "iopub.status.idle": "2023-10-31T09:38:29.064385Z",
     "shell.execute_reply": "2023-10-31T09:38:29.063493Z"
    },
    "papermill": {
     "duration": 0.336365,
     "end_time": "2023-10-31T09:38:29.066443",
     "exception": false,
     "start_time": "2023-10-31T09:38:28.730078",
     "status": "completed"
    },
    "tags": []
   },
   "outputs": [
    {
     "data": {
      "image/png": "[encoded data removed]",
      "text/plain": [
       "<Figure size 640x480 with 1 Axes>"
      ]
     },
     "metadata": {},
     "output_type": "display_data"
    }
   ],
   "source": [
    "plot_rate(train)"
   ]
  },
  {
   "cell_type": "code",
   "execution_count": 40,
   "id": "d3d72253",
   "metadata": {
    "execution": {
     "iopub.execute_input": "2023-10-31T09:38:29.153748Z",
     "iopub.status.busy": "2023-10-31T09:38:29.153390Z",
     "iopub.status.idle": "2023-10-31T09:38:29.413077Z",
     "shell.execute_reply": "2023-10-31T09:38:29.412166Z"
    },
    "papermill": {
     "duration": 0.304053,
     "end_time": "2023-10-31T09:38:29.415081",
     "exception": false,
     "start_time": "2023-10-31T09:38:29.111028",
     "status": "completed"
    },
    "tags": []
   },
   "outputs": [
    {
     "data": {
      "image/png": "[encoded data removed]",
      "text/plain": [
       "<Figure size 640x480 with 1 Axes>"
      ]
     },
     "metadata": {},
     "output_type": "display_data"
    }
   ],
   "source": [
    "plot_rate(valid)"
   ]
  },
  {
   "cell_type": "code",
   "execution_count": 41,
   "id": "7d496131",
   "metadata": {
    "execution": {
     "iopub.execute_input": "2023-10-31T09:38:29.500736Z",
     "iopub.status.busy": "2023-10-31T09:38:29.500073Z",
     "iopub.status.idle": "2023-10-31T09:38:29.765036Z",
     "shell.execute_reply": "2023-10-31T09:38:29.764167Z"
    },
    "papermill": {
     "duration": 0.31031,
     "end_time": "2023-10-31T09:38:29.767207",
     "exception": false,
     "start_time": "2023-10-31T09:38:29.456897",
     "status": "completed"
    },
    "tags": []
   },
   "outputs": [
    {
     "data": {
      "image/png": "[encoded data removed]",
      "text/plain": [
       "<Figure size 640x480 with 1 Axes>"
      ]
     },
     "metadata": {},
     "output_type": "display_data"
    }
   ],
   "source": [
    "plot_rate(test)"
   ]
  },
  {
   "cell_type": "code",
   "execution_count": 42,
   "id": "9eb4e815",
   "metadata": {
    "execution": {
     "iopub.execute_input": "2023-10-31T09:38:29.852763Z",
     "iopub.status.busy": "2023-10-31T09:38:29.852399Z",
     "iopub.status.idle": "2023-10-31T09:38:29.856614Z",
     "shell.execute_reply": "2023-10-31T09:38:29.855623Z"
    },
    "papermill": {
     "duration": 0.049131,
     "end_time": "2023-10-31T09:38:29.858610",
     "exception": false,
     "start_time": "2023-10-31T09:38:29.809479",
     "status": "completed"
    },
    "tags": []
   },
   "outputs": [],
   "source": [
    "# # drop the label column\n",
    "# data2=data2.drop(['label'],axis=1)\n",
    "# data3=data3.drop(['label'],axis=1)"
   ]
  },
  {
   "cell_type": "code",
   "execution_count": 43,
   "id": "3d58ce83",
   "metadata": {
    "execution": {
     "iopub.execute_input": "2023-10-31T09:38:29.944318Z",
     "iopub.status.busy": "2023-10-31T09:38:29.944029Z",
     "iopub.status.idle": "2023-10-31T09:38:29.948180Z",
     "shell.execute_reply": "2023-10-31T09:38:29.947252Z"
    },
    "papermill": {
     "duration": 0.049346,
     "end_time": "2023-10-31T09:38:29.950105",
     "exception": false,
     "start_time": "2023-10-31T09:38:29.900759",
     "status": "completed"
    },
    "tags": []
   },
   "outputs": [],
   "source": [
    "# # change column name numeric_label to label\n",
    "# data2.rename(columns={'num_label': 'label'}, inplace=True)\n",
    "# data3.rename(columns={'num_label': 'label'}, inplace=True)"
   ]
  },
  {
   "cell_type": "code",
   "execution_count": 44,
   "id": "d5e27a6b",
   "metadata": {
    "execution": {
     "iopub.execute_input": "2023-10-31T09:38:30.035302Z",
     "iopub.status.busy": "2023-10-31T09:38:30.034979Z",
     "iopub.status.idle": "2023-10-31T09:38:30.805137Z",
     "shell.execute_reply": "2023-10-31T09:38:30.804296Z"
    },
    "papermill": {
     "duration": 0.81546,
     "end_time": "2023-10-31T09:38:30.807424",
     "exception": false,
     "start_time": "2023-10-31T09:38:29.991964",
     "status": "completed"
    },
    "tags": []
   },
   "outputs": [],
   "source": [
    "from datasets import Dataset,DatasetDict\n",
    "dataset = DatasetDict({\n",
    "    \"train\": Dataset.from_pandas(train),\n",
    "    \"validation\": Dataset.from_pandas(valid)\n",
    "    })"
   ]
  },
  {
   "cell_type": "code",
   "execution_count": 45,
   "id": "b68708bd",
   "metadata": {
    "execution": {
     "iopub.execute_input": "2023-10-31T09:38:30.894301Z",
     "iopub.status.busy": "2023-10-31T09:38:30.893427Z",
     "iopub.status.idle": "2023-10-31T09:38:30.899543Z",
     "shell.execute_reply": "2023-10-31T09:38:30.898657Z"
    },
    "papermill": {
     "duration": 0.051023,
     "end_time": "2023-10-31T09:38:30.901416",
     "exception": false,
     "start_time": "2023-10-31T09:38:30.850393",
     "status": "completed"
    },
    "tags": []
   },
   "outputs": [
    {
     "data": {
      "text/plain": [
       "DatasetDict({\n",
       "    train: Dataset({\n",
       "        features: ['text', 'label', '__index_level_0__'],\n",
       "        num_rows: 3413\n",
       "    })\n",
       "    validation: Dataset({\n",
       "        features: ['text', 'label', '__index_level_0__'],\n",
       "        num_rows: 190\n",
       "    })\n",
       "})"
      ]
     },
     "execution_count": 45,
     "metadata": {},
     "output_type": "execute_result"
    }
   ],
   "source": [
    "dataset"
   ]
  },
  {
   "cell_type": "code",
   "execution_count": 46,
   "id": "2d6aeb8b",
   "metadata": {
    "execution": {
     "iopub.execute_input": "2023-10-31T09:38:30.987213Z",
     "iopub.status.busy": "2023-10-31T09:38:30.986880Z",
     "iopub.status.idle": "2023-10-31T09:38:44.319478Z",
     "shell.execute_reply": "2023-10-31T09:38:44.318598Z"
    },
    "papermill": {
     "duration": 13.377975,
     "end_time": "2023-10-31T09:38:44.321530",
     "exception": false,
     "start_time": "2023-10-31T09:38:30.943555",
     "status": "completed"
    },
    "tags": []
   },
   "outputs": [
    {
     "name": "stderr",
     "output_type": "stream",
     "text": [
      "/opt/conda/lib/python3.10/site-packages/tensorflow_io/python/ops/__init__.py:98: UserWarning: unable to load libtensorflow_io_plugins.so: unable to open file: libtensorflow_io_plugins.so, from paths: ['/opt/conda/lib/python3.10/site-packages/tensorflow_io/python/ops/libtensorflow_io_plugins.so']\n",
      "caused by: ['/opt/conda/lib/python3.10/site-packages/tensorflow_io/python/ops/libtensorflow_io_plugins.so: undefined symbol: _ZN3tsl6StatusC1EN10tensorflow5error4CodeESt17basic_string_viewIcSt11char_traitsIcEENS_14SourceLocationE']\n",
      "  warnings.warn(f\"unable to load libtensorflow_io_plugins.so: {e}\")\n",
      "/opt/conda/lib/python3.10/site-packages/tensorflow_io/python/ops/__init__.py:104: UserWarning: file system plugins are not loaded: unable to open file: libtensorflow_io.so, from paths: ['/opt/conda/lib/python3.10/site-packages/tensorflow_io/python/ops/libtensorflow_io.so']\n",
      "caused by: ['/opt/conda/lib/python3.10/site-packages/tensorflow_io/python/ops/libtensorflow_io.so: undefined symbol: _ZTVN10tensorflow13GcsFileSystemE']\n",
      "  warnings.warn(f\"file system plugins are not loaded: {e}\")\n"
     ]
    },
    {
     "data": {
      "application/vnd.jupyter.widget-view+json": {
       "model_id": "9db7a67ab7e94f23881fa74b066994e2",
       "version_major": 2,
       "version_minor": 0
      },
      "text/plain": [
       "Downloading (…)lve/main/config.json:   0%|          | 0.00/491 [00:00<?, ?B/s]"
      ]
     },
     "metadata": {},
     "output_type": "display_data"
    },
    {
     "data": {
      "application/vnd.jupyter.widget-view+json": {
       "model_id": "b9b769666a6a4ff493021399fe7a280c",
       "version_major": 2,
       "version_minor": 0
      },
      "text/plain": [
       "Downloading (…)solve/main/vocab.txt:   0%|          | 0.00/2.24M [00:00<?, ?B/s]"
      ]
     },
     "metadata": {},
     "output_type": "display_data"
    },
    {
     "data": {
      "application/vnd.jupyter.widget-view+json": {
       "model_id": "49c31ee5ed9440979737ba5323e2377d",
       "version_major": 2,
       "version_minor": 0
      },
      "text/plain": [
       "  0%|          | 0/4 [00:00<?, ?ba/s]"
      ]
     },
     "metadata": {},
     "output_type": "display_data"
    },
    {
     "name": "stderr",
     "output_type": "stream",
     "text": [
      "Asking to truncate to max_length but no maximum length is provided and the model has no predefined maximum length. Default to no truncation.\n"
     ]
    },
    {
     "data": {
      "application/vnd.jupyter.widget-view+json": {
       "model_id": "e29aeae77bf24136a844175cbe775fdf",
       "version_major": 2,
       "version_minor": 0
      },
      "text/plain": [
       "  0%|          | 0/1 [00:00<?, ?ba/s]"
      ]
     },
     "metadata": {},
     "output_type": "display_data"
    }
   ],
   "source": [
    "from transformers import BertTokenizer, TFBertModel,AutoTokenizer\n",
    "tokenizer = AutoTokenizer.from_pretrained('sagorsarker/bangla-bert-base')\n",
    "\n",
    "def preprocess_function(examples):\n",
    "    return tokenizer(examples[\"text\"], truncation=True,padding=True)\n",
    "\n",
    "tokenized_data = dataset.map(preprocess_function, batched=True)"
   ]
  },
  {
   "cell_type": "code",
   "execution_count": 47,
   "id": "45c76f69",
   "metadata": {
    "execution": {
     "iopub.execute_input": "2023-10-31T09:38:44.409976Z",
     "iopub.status.busy": "2023-10-31T09:38:44.409288Z",
     "iopub.status.idle": "2023-10-31T09:38:44.415429Z",
     "shell.execute_reply": "2023-10-31T09:38:44.414609Z"
    },
    "papermill": {
     "duration": 0.052637,
     "end_time": "2023-10-31T09:38:44.417371",
     "exception": false,
     "start_time": "2023-10-31T09:38:44.364734",
     "status": "completed"
    },
    "tags": []
   },
   "outputs": [
    {
     "data": {
      "text/plain": [
       "DatasetDict({\n",
       "    train: Dataset({\n",
       "        features: ['text', 'label', '__index_level_0__', 'input_ids', 'token_type_ids', 'attention_mask'],\n",
       "        num_rows: 3413\n",
       "    })\n",
       "    validation: Dataset({\n",
       "        features: ['text', 'label', '__index_level_0__', 'input_ids', 'token_type_ids', 'attention_mask'],\n",
       "        num_rows: 190\n",
       "    })\n",
       "})"
      ]
     },
     "execution_count": 47,
     "metadata": {},
     "output_type": "execute_result"
    }
   ],
   "source": [
    "tokenized_data"
   ]
  },
  {
   "cell_type": "code",
   "execution_count": 48,
   "id": "da964ad2",
   "metadata": {
    "execution": {
     "iopub.execute_input": "2023-10-31T09:38:44.505041Z",
     "iopub.status.busy": "2023-10-31T09:38:44.504727Z",
     "iopub.status.idle": "2023-10-31T09:38:44.509319Z",
     "shell.execute_reply": "2023-10-31T09:38:44.508526Z"
    },
    "papermill": {
     "duration": 0.050718,
     "end_time": "2023-10-31T09:38:44.511140",
     "exception": false,
     "start_time": "2023-10-31T09:38:44.460422",
     "status": "completed"
    },
    "tags": []
   },
   "outputs": [],
   "source": [
    "from transformers import DataCollatorWithPadding\n",
    "#import evaluate\n",
    "#accuracy=evaluate.load(\"accuracy\")\n",
    "data_collator=DataCollatorWithPadding(tokenizer=tokenizer,return_tensors='tf')"
   ]
  },
  {
   "cell_type": "code",
   "execution_count": 49,
   "id": "97959d92",
   "metadata": {
    "execution": {
     "iopub.execute_input": "2023-10-31T09:38:44.599745Z",
     "iopub.status.busy": "2023-10-31T09:38:44.598953Z",
     "iopub.status.idle": "2023-10-31T09:38:44.603714Z",
     "shell.execute_reply": "2023-10-31T09:38:44.602889Z"
    },
    "papermill": {
     "duration": 0.051178,
     "end_time": "2023-10-31T09:38:44.605508",
     "exception": false,
     "start_time": "2023-10-31T09:38:44.554330",
     "status": "completed"
    },
    "tags": []
   },
   "outputs": [],
   "source": [
    "def compute_metrics(eval_pred):\n",
    "    predictions,labels=eval_pred\n",
    "    predictions=np.argmax(predictions,axis=1)\n",
    "    return accuracy.compute(predictions=predictions,refernces=labels)"
   ]
  },
  {
   "cell_type": "code",
   "execution_count": 50,
   "id": "3ff0de49",
   "metadata": {
    "execution": {
     "iopub.execute_input": "2023-10-31T09:38:44.693471Z",
     "iopub.status.busy": "2023-10-31T09:38:44.693145Z",
     "iopub.status.idle": "2023-10-31T09:38:50.303249Z",
     "shell.execute_reply": "2023-10-31T09:38:50.302474Z"
    },
    "papermill": {
     "duration": 5.656957,
     "end_time": "2023-10-31T09:38:50.305633",
     "exception": false,
     "start_time": "2023-10-31T09:38:44.648676",
     "status": "completed"
    },
    "tags": []
   },
   "outputs": [],
   "source": [
    "id2label = {0:0,1:1,2:2}\n",
    "label2id = {0:0,1:1,2:2}\n",
    "\n",
    "from transformers import create_optimizer\n",
    "import tensorflow as tf\n",
    "batch_size=16\n",
    "num_epochs=2\n",
    "batch_per_epoch=len(tokenized_data[\"train\"])\n",
    "total_train_steps=int(batch_per_epoch*num_epochs)\n",
    "optimizer,schedule=create_optimizer(init_lr=2e-5,num_warmup_steps=0,num_train_steps=total_train_steps)"
   ]
  },
  {
   "cell_type": "code",
   "execution_count": 51,
   "id": "5b8ca457",
   "metadata": {
    "execution": {
     "iopub.execute_input": "2023-10-31T09:38:50.395667Z",
     "iopub.status.busy": "2023-10-31T09:38:50.394798Z",
     "iopub.status.idle": "2023-10-31T09:38:57.888591Z",
     "shell.execute_reply": "2023-10-31T09:38:57.887841Z"
    },
    "papermill": {
     "duration": 7.54006,
     "end_time": "2023-10-31T09:38:57.890714",
     "exception": false,
     "start_time": "2023-10-31T09:38:50.350654",
     "status": "completed"
    },
    "tags": []
   },
   "outputs": [
    {
     "data": {
      "application/vnd.jupyter.widget-view+json": {
       "model_id": "b08c25b976484613a5a52a3c94010c06",
       "version_major": 2,
       "version_minor": 0
      },
      "text/plain": [
       "Downloading model.safetensors:   0%|          | 0.00/660M [00:00<?, ?B/s]"
      ]
     },
     "metadata": {},
     "output_type": "display_data"
    },
    {
     "name": "stderr",
     "output_type": "stream",
     "text": [
      "All PyTorch model weights were used when initializing TFBertForSequenceClassification.\n",
      "\n",
      "Some weights or buffers of the TF 2.0 model TFBertForSequenceClassification were not initialized from the PyTorch model and are newly initialized: ['classifier.weight', 'classifier.bias']\n",
      "You should probably TRAIN this model on a down-stream task to be able to use it for predictions and inference.\n"
     ]
    }
   ],
   "source": [
    "from transformers import TFAutoModelForSequenceClassification\n",
    "model=TFAutoModelForSequenceClassification.from_pretrained(\n",
    "    'sagorsarker/bangla-bert-base',num_labels=3,id2label=id2label,label2id=label2id,ignore_mismatched_sizes=True\n",
    "    )"
   ]
  },
  {
   "cell_type": "code",
   "execution_count": 52,
   "id": "6b724617",
   "metadata": {
    "execution": {
     "iopub.execute_input": "2023-10-31T09:38:57.979416Z",
     "iopub.status.busy": "2023-10-31T09:38:57.978975Z",
     "iopub.status.idle": "2023-10-31T09:38:58.368439Z",
     "shell.execute_reply": "2023-10-31T09:38:58.367652Z"
    },
    "papermill": {
     "duration": 0.436397,
     "end_time": "2023-10-31T09:38:58.370725",
     "exception": false,
     "start_time": "2023-10-31T09:38:57.934328",
     "status": "completed"
    },
    "tags": []
   },
   "outputs": [
    {
     "name": "stderr",
     "output_type": "stream",
     "text": [
      "You're using a BertTokenizerFast tokenizer. Please note that with a fast tokenizer, using the `__call__` method is faster than using a method to encode the text followed by a call to the `pad` method to get a padded encoding.\n"
     ]
    }
   ],
   "source": [
    "tf_train_set = model.prepare_tf_dataset(\n",
    "    tokenized_data[\"train\"],\n",
    "    shuffle=True,\n",
    "    batch_size=16,\n",
    "    collate_fn=data_collator,\n",
    ")\n",
    "\n",
    "\n",
    "tf_validation_set = model.prepare_tf_dataset(\n",
    "    tokenized_data[\"validation\"],\n",
    "    shuffle=False,\n",
    "    batch_size=16,\n",
    "    collate_fn=data_collator,\n",
    ")"
   ]
  },
  {
   "cell_type": "code",
   "execution_count": 53,
   "id": "e0c5d091",
   "metadata": {
    "execution": {
     "iopub.execute_input": "2023-10-31T09:38:58.459669Z",
     "iopub.status.busy": "2023-10-31T09:38:58.458956Z",
     "iopub.status.idle": "2023-10-31T09:38:58.479777Z",
     "shell.execute_reply": "2023-10-31T09:38:58.478981Z"
    },
    "papermill": {
     "duration": 0.067304,
     "end_time": "2023-10-31T09:38:58.481824",
     "exception": false,
     "start_time": "2023-10-31T09:38:58.414520",
     "status": "completed"
    },
    "tags": []
   },
   "outputs": [],
   "source": [
    "import tensorflow as tf\n",
    "\n",
    "model.compile(optimizer=tf.keras.optimizers.Adam(learning_rate=3e-5, epsilon=1e-08, clipnorm=1.0), \n",
    "              loss=tf.keras.losses.SparseCategoricalCrossentropy(from_logits=True), \n",
    "              metrics=[tf.keras.metrics.SparseCategoricalAccuracy('accuracy')])\n"
   ]
  },
  {
   "cell_type": "code",
   "execution_count": 54,
   "id": "9adc7881",
   "metadata": {
    "execution": {
     "iopub.execute_input": "2023-10-31T09:38:58.570639Z",
     "iopub.status.busy": "2023-10-31T09:38:58.570286Z",
     "iopub.status.idle": "2023-10-31T09:38:58.577119Z",
     "shell.execute_reply": "2023-10-31T09:38:58.576263Z"
    },
    "papermill": {
     "duration": 0.053687,
     "end_time": "2023-10-31T09:38:58.579189",
     "exception": false,
     "start_time": "2023-10-31T09:38:58.525502",
     "status": "completed"
    },
    "tags": []
   },
   "outputs": [
    {
     "data": {
      "text/plain": [
       "BertConfig {\n",
       "  \"_name_or_path\": \"sagorsarker/bangla-bert-base\",\n",
       "  \"architectures\": [\n",
       "    \"BertForMaskedLM\"\n",
       "  ],\n",
       "  \"attention_probs_dropout_prob\": 0.1,\n",
       "  \"classifier_dropout\": null,\n",
       "  \"hidden_act\": \"gelu\",\n",
       "  \"hidden_dropout_prob\": 0.1,\n",
       "  \"hidden_size\": 768,\n",
       "  \"id2label\": {\n",
       "    \"0\": 0,\n",
       "    \"1\": 1,\n",
       "    \"2\": 2\n",
       "  },\n",
       "  \"initializer_range\": 0.02,\n",
       "  \"intermediate_size\": 3072,\n",
       "  \"label2id\": {\n",
       "    \"0\": 0,\n",
       "    \"1\": 1,\n",
       "    \"2\": 2\n",
       "  },\n",
       "  \"layer_norm_eps\": 1e-12,\n",
       "  \"max_position_embeddings\": 512,\n",
       "  \"model_type\": \"bert\",\n",
       "  \"num_attention_heads\": 12,\n",
       "  \"num_hidden_layers\": 12,\n",
       "  \"pad_token_id\": 0,\n",
       "  \"position_embedding_type\": \"absolute\",\n",
       "  \"transformers_version\": \"4.29.2\",\n",
       "  \"type_vocab_size\": 2,\n",
       "  \"use_cache\": true,\n",
       "  \"vocab_size\": 102025\n",
       "}"
      ]
     },
     "execution_count": 54,
     "metadata": {},
     "output_type": "execute_result"
    }
   ],
   "source": [
    "model.config"
   ]
  },
  {
   "cell_type": "code",
   "execution_count": 55,
   "id": "c62fe213",
   "metadata": {
    "execution": {
     "iopub.execute_input": "2023-10-31T09:38:58.668024Z",
     "iopub.status.busy": "2023-10-31T09:38:58.667422Z",
     "iopub.status.idle": "2023-10-31T09:41:12.877737Z",
     "shell.execute_reply": "2023-10-31T09:41:12.876720Z"
    },
    "papermill": {
     "duration": 134.257163,
     "end_time": "2023-10-31T09:41:12.880082",
     "exception": false,
     "start_time": "2023-10-31T09:38:58.622919",
     "status": "completed"
    },
    "tags": []
   },
   "outputs": [
    {
     "name": "stdout",
     "output_type": "stream",
     "text": [
      "Epoch 1/2\n",
      "213/213 [==============================] - 102s 209ms/step - loss: 0.2500 - accuracy: 0.9131 - val_loss: 0.1022 - val_accuracy: 0.9632\n",
      "Epoch 2/2\n",
      "213/213 [==============================] - 32s 152ms/step - loss: 0.0712 - accuracy: 0.9795 - val_loss: 0.0762 - val_accuracy: 0.9684\n"
     ]
    }
   ],
   "source": [
    "history = model.fit(x=tf_train_set,validation_data=tf_validation_set, epochs=2)"
   ]
  },
  {
   "cell_type": "code",
   "execution_count": 56,
   "id": "d7ce9b5c",
   "metadata": {
    "execution": {
     "iopub.execute_input": "2023-10-31T09:41:13.033317Z",
     "iopub.status.busy": "2023-10-31T09:41:13.032975Z",
     "iopub.status.idle": "2023-10-31T09:41:13.038878Z",
     "shell.execute_reply": "2023-10-31T09:41:13.037979Z"
    },
    "papermill": {
     "duration": 0.085061,
     "end_time": "2023-10-31T09:41:13.041188",
     "exception": false,
     "start_time": "2023-10-31T09:41:12.956127",
     "status": "completed"
    },
    "tags": []
   },
   "outputs": [
    {
     "name": "stdout",
     "output_type": "stream",
     "text": [
      "train = [0.9131, 0.9795]\n",
      "\n",
      "validation = [0.9632, 0.9684]\n"
     ]
    }
   ],
   "source": [
    "# Get the training and validation accuracy from the history\n",
    "train_acc = history.history['accuracy']\n",
    "val_acc = history.history['val_accuracy']\n",
    "train_acc = [round(acc, 4) for acc in train_acc]\n",
    "print(f'train = {train_acc}\\n')\n",
    "val_acc = [round(acc, 4) for acc in val_acc]\n",
    "print(f'validation = {val_acc}')"
   ]
  },
  {
   "cell_type": "code",
   "execution_count": 57,
   "id": "0fc02625",
   "metadata": {
    "execution": {
     "iopub.execute_input": "2023-10-31T09:41:13.195310Z",
     "iopub.status.busy": "2023-10-31T09:41:13.194422Z",
     "iopub.status.idle": "2023-10-31T09:41:13.548185Z",
     "shell.execute_reply": "2023-10-31T09:41:13.547258Z"
    },
    "papermill": {
     "duration": 0.433306,
     "end_time": "2023-10-31T09:41:13.550273",
     "exception": false,
     "start_time": "2023-10-31T09:41:13.116967",
     "status": "completed"
    },
    "tags": []
   },
   "outputs": [
    {
     "data": {
      "image/png": "[encoded data removed]",
      "text/plain": [
       "<Figure size 1000x300 with 1 Axes>"
      ]
     },
     "metadata": {},
     "output_type": "display_data"
    }
   ],
   "source": [
    "\n",
    "# # Example data\n",
    "epochs = [i for i in range(1, num_epochs+1)]\n",
    "#jk\n",
    "train_loss_1 = train_acc\n",
    "val_loss_1 = val_acc\n",
    "\n",
    "# Create three subplots\n",
    "fig, axes = plt.subplots(1, 1, figsize=(10, 3))\n",
    "\n",
    "# Plot for Model 1\n",
    "axes.plot(epochs, train_loss_1, label='Training Loss',color='orange', linestyle='-', \n",
    "             marker='o')\n",
    "axes.plot(epochs, val_loss_1, label='Validation Loss', color='green', linestyle='-', \n",
    "             marker='o')\n",
    "axes.set_xlabel('Epochs')\n",
    "axes.set_ylabel('Accuracy')\n",
    "axes.set_title('ModelS')\n",
    "axes.set_ylim([0, 1])\n",
    "\n",
    "# Add legend at the top\n",
    "legend_labels = ['Training', 'Validation']\n",
    "fig.legend(legend_labels, loc='upper center', \n",
    "           bbox_to_anchor=(0.5, 1.10), ncol=2, fancybox=True, shadow=True)\n",
    "\n",
    "\n",
    "\n",
    "# Adjust spacing between subplots\n",
    "plt.tight_layout()\n",
    "\n",
    "# Display the plot\n",
    "plt.show()"
   ]
  },
  {
   "cell_type": "code",
   "execution_count": 58,
   "id": "626273b1",
   "metadata": {
    "execution": {
     "iopub.execute_input": "2023-10-31T09:41:13.715943Z",
     "iopub.status.busy": "2023-10-31T09:41:13.715427Z",
     "iopub.status.idle": "2023-10-31T09:41:13.720656Z",
     "shell.execute_reply": "2023-10-31T09:41:13.719403Z"
    },
    "papermill": {
     "duration": 0.093222,
     "end_time": "2023-10-31T09:41:13.723181",
     "exception": false,
     "start_time": "2023-10-31T09:41:13.629959",
     "status": "completed"
    },
    "tags": []
   },
   "outputs": [],
   "source": [
    "import joblib"
   ]
  },
  {
   "cell_type": "code",
   "execution_count": 59,
   "id": "bb935fc9",
   "metadata": {
    "execution": {
     "iopub.execute_input": "2023-10-31T09:41:13.886991Z",
     "iopub.status.busy": "2023-10-31T09:41:13.886308Z",
     "iopub.status.idle": "2023-10-31T09:41:23.585591Z",
     "shell.execute_reply": "2023-10-31T09:41:23.584464Z"
    },
    "papermill": {
     "duration": 9.780423,
     "end_time": "2023-10-31T09:41:23.588356",
     "exception": false,
     "start_time": "2023-10-31T09:41:13.807933",
     "status": "completed"
    },
    "tags": []
   },
   "outputs": [
    {
     "name": "stderr",
     "output_type": "stream",
     "text": [
      "/opt/conda/lib/python3.10/site-packages/transformers/generation/tf_utils.py:465: UserWarning: `seed_generator` is deprecated and will be removed in a future version.\n",
      "  warnings.warn(\"`seed_generator` is deprecated and will be removed in a future version.\", UserWarning)\n"
     ]
    },
    {
     "name": "stdout",
     "output_type": "stream",
     "text": [
      "Model saved successfully.\n"
     ]
    }
   ],
   "source": [
    "# Save the model to a file\n",
    "joblib.dump(model, 'SentencTypeClassifier_0.pkl')\n",
    "print(\"Model saved successfully.\")"
   ]
  },
  {
   "cell_type": "code",
   "execution_count": 60,
   "id": "a2d117eb",
   "metadata": {
    "execution": {
     "iopub.execute_input": "2023-10-31T09:41:23.766407Z",
     "iopub.status.busy": "2023-10-31T09:41:23.766048Z",
     "iopub.status.idle": "2023-10-31T09:41:23.771323Z",
     "shell.execute_reply": "2023-10-31T09:41:23.770319Z"
    },
    "papermill": {
     "duration": 0.102896,
     "end_time": "2023-10-31T09:41:23.773238",
     "exception": false,
     "start_time": "2023-10-31T09:41:23.670342",
     "status": "completed"
    },
    "tags": []
   },
   "outputs": [],
   "source": [
    "def custom_test_up(text):\n",
    "    inputs=tokenizer(text,return_tensors=\"tf\")\n",
    "    tf_outputs = model(inputs)                                  \n",
    "    tf_predictions =np.argmax( tf.nn.softmax(tf_outputs[0], axis=-1) )\n",
    "    return  tf_predictions"
   ]
  },
  {
   "cell_type": "code",
   "execution_count": 61,
   "id": "bc6ace83",
   "metadata": {
    "execution": {
     "iopub.execute_input": "2023-10-31T09:41:23.930523Z",
     "iopub.status.busy": "2023-10-31T09:41:23.929787Z",
     "iopub.status.idle": "2023-10-31T09:41:24.138659Z",
     "shell.execute_reply": "2023-10-31T09:41:24.137746Z"
    },
    "papermill": {
     "duration": 0.290367,
     "end_time": "2023-10-31T09:41:24.140832",
     "exception": false,
     "start_time": "2023-10-31T09:41:23.850465",
     "status": "completed"
    },
    "tags": []
   },
   "outputs": [
    {
     "data": {
      "text/plain": [
       "0"
      ]
     },
     "execution_count": 61,
     "metadata": {},
     "output_type": "execute_result"
    }
   ],
   "source": [
    "text=\"ট্রয় একটি বিশাল কুকি খেয়েছ\"\n",
    "inputs=tokenizer(text,return_tensors=\"tf\")\n",
    "tf_outputs = model(inputs)                                  \n",
    "tf_predictions =np.argmax( tf.nn.softmax(tf_outputs[0], axis=-1) )\n",
    "tf_predictions"
   ]
  },
  {
   "cell_type": "code",
   "execution_count": 62,
   "id": "a9f15b7a",
   "metadata": {
    "execution": {
     "iopub.execute_input": "2023-10-31T09:41:24.352655Z",
     "iopub.status.busy": "2023-10-31T09:41:24.351781Z",
     "iopub.status.idle": "2023-10-31T09:42:00.476986Z",
     "shell.execute_reply": "2023-10-31T09:42:00.475968Z"
    },
    "papermill": {
     "duration": 36.261026,
     "end_time": "2023-10-31T09:42:00.479067",
     "exception": false,
     "start_time": "2023-10-31T09:41:24.218041",
     "status": "completed"
    },
    "tags": []
   },
   "outputs": [
    {
     "name": "stderr",
     "output_type": "stream",
     "text": [
      "100%|██████████| 190/190 [00:36<00:00,  5.26it/s]\n"
     ]
    }
   ],
   "source": [
    "tqdm.pandas()\n",
    "test['pred']= test['text'].progress_apply(custom_test_up)"
   ]
  },
  {
   "cell_type": "code",
   "execution_count": 63,
   "id": "03c6f145",
   "metadata": {
    "execution": {
     "iopub.execute_input": "2023-10-31T09:42:00.666664Z",
     "iopub.status.busy": "2023-10-31T09:42:00.666009Z",
     "iopub.status.idle": "2023-10-31T09:42:00.675983Z",
     "shell.execute_reply": "2023-10-31T09:42:00.675159Z"
    },
    "papermill": {
     "duration": 0.104708,
     "end_time": "2023-10-31T09:42:00.677866",
     "exception": false,
     "start_time": "2023-10-31T09:42:00.573158",
     "status": "completed"
    },
    "tags": []
   },
   "outputs": [
    {
     "data": {
      "text/html": [
       "<div>\n",
       "<style scoped>\n",
       "    .dataframe tbody tr th:only-of-type {\n",
       "        vertical-align: middle;\n",
       "    }\n",
       "\n",
       "    .dataframe tbody tr th {\n",
       "        vertical-align: top;\n",
       "    }\n",
       "\n",
       "    .dataframe thead th {\n",
       "        text-align: right;\n",
       "    }\n",
       "</style>\n",
       "<table border=\"1\" class=\"dataframe\">\n",
       "  <thead>\n",
       "    <tr style=\"text-align: right;\">\n",
       "      <th></th>\n",
       "      <th>text</th>\n",
       "      <th>label</th>\n",
       "      <th>pred</th>\n",
       "    </tr>\n",
       "  </thead>\n",
       "  <tbody>\n",
       "    <tr>\n",
       "      <th>1810</th>\n",
       "      <td>যখন ঝড় কমে গেল তখন আমরা আমাদের যাত্রা অব্যাহত...</td>\n",
       "      <td>1</td>\n",
       "      <td>1</td>\n",
       "    </tr>\n",
       "    <tr>\n",
       "      <th>2238</th>\n",
       "      <td>তারা দুই বোন একটি কুকুর দেখে রাস্তা পার হল।</td>\n",
       "      <td>0</td>\n",
       "      <td>0</td>\n",
       "    </tr>\n",
       "    <tr>\n",
       "      <th>2051</th>\n",
       "      <td>দেরি হয়ে গেছে তাই আমরা বাসায় চলে গেলাম</td>\n",
       "      <td>2</td>\n",
       "      <td>2</td>\n",
       "    </tr>\n",
       "  </tbody>\n",
       "</table>\n",
       "</div>"
      ],
      "text/plain": [
       "                                                   text  label  pred\n",
       "1810  যখন ঝড় কমে গেল তখন আমরা আমাদের যাত্রা অব্যাহত...      1     1\n",
       "2238        তারা দুই বোন একটি কুকুর দেখে রাস্তা পার হল।      0     0\n",
       "2051           দেরি হয়ে গেছে তাই আমরা বাসায় চলে গেলাম      2     2"
      ]
     },
     "execution_count": 63,
     "metadata": {},
     "output_type": "execute_result"
    }
   ],
   "source": [
    "test.head(3)"
   ]
  },
  {
   "cell_type": "code",
   "execution_count": 64,
   "id": "bc499bf2",
   "metadata": {
    "execution": {
     "iopub.execute_input": "2023-10-31T09:42:00.862187Z",
     "iopub.status.busy": "2023-10-31T09:42:00.861572Z",
     "iopub.status.idle": "2023-10-31T09:42:00.866349Z",
     "shell.execute_reply": "2023-10-31T09:42:00.865509Z"
    },
    "papermill": {
     "duration": 0.099031,
     "end_time": "2023-10-31T09:42:00.868350",
     "exception": false,
     "start_time": "2023-10-31T09:42:00.769319",
     "status": "completed"
    },
    "tags": []
   },
   "outputs": [],
   "source": [
    "y_true = test['label'].values\n",
    "y_pred = test['pred'].values"
   ]
  },
  {
   "cell_type": "markdown",
   "id": "439338f5",
   "metadata": {
    "papermill": {
     "duration": 0.091027,
     "end_time": "2023-10-31T09:42:01.050851",
     "exception": false,
     "start_time": "2023-10-31T09:42:00.959824",
     "status": "completed"
    },
    "tags": []
   },
   "source": [
    "### Wrong predictions"
   ]
  },
  {
   "cell_type": "code",
   "execution_count": 65,
   "id": "4dd3b26c",
   "metadata": {
    "execution": {
     "iopub.execute_input": "2023-10-31T09:42:01.235502Z",
     "iopub.status.busy": "2023-10-31T09:42:01.234754Z",
     "iopub.status.idle": "2023-10-31T09:42:01.241730Z",
     "shell.execute_reply": "2023-10-31T09:42:01.240857Z"
    },
    "papermill": {
     "duration": 0.101615,
     "end_time": "2023-10-31T09:42:01.243775",
     "exception": false,
     "start_time": "2023-10-31T09:42:01.142160",
     "status": "completed"
    },
    "tags": []
   },
   "outputs": [
    {
     "name": "stdout",
     "output_type": "stream",
     "text": [
      "Label\t prediction\t Text\n",
      "0 \t 1 \t আমি আপনাকে আমার গাড়িটি ধার দেব যে আপনি এটির ভাল যত্ন নেবেন\n",
      "2 \t 1 \t আমরা খাই যাতে বাঁচতে পারি।\n",
      "0 \t 1 \t প্রচারটি আমার হওয়া স্বত্তেও আমার উপস্থিতি যতেষ্ট ভালো ছিলো না\n",
      "1 \t 2 \t আমার কথা বিশ্বাস করো, তোমার মঙ্গল হবে\n",
      "2 \t 1 \t যেহেতু আমি দেরি আসলাম এবং বস রাগান্বিত হলেন।\n"
     ]
    }
   ],
   "source": [
    "print(\"Label\\t\",\"prediction\\t\",\"Text\")\n",
    "for i ,j ,k in zip(test['label'] , test['pred'],test['text']):\n",
    "    if i!=j:\n",
    "        print(i,\"\\t\",j,\"\\t\",k)"
   ]
  },
  {
   "cell_type": "code",
   "execution_count": 66,
   "id": "adf8c093",
   "metadata": {
    "execution": {
     "iopub.execute_input": "2023-10-31T09:42:01.428575Z",
     "iopub.status.busy": "2023-10-31T09:42:01.427836Z",
     "iopub.status.idle": "2023-10-31T09:42:01.432592Z",
     "shell.execute_reply": "2023-10-31T09:42:01.431678Z"
    },
    "papermill": {
     "duration": 0.099106,
     "end_time": "2023-10-31T09:42:01.434401",
     "exception": false,
     "start_time": "2023-10-31T09:42:01.335295",
     "status": "completed"
    },
    "tags": []
   },
   "outputs": [],
   "source": [
    "# cheng = ['তিনি খুব তাড়াতাড়ি বিছানায় গিয়েছিলেন কারণ তার খুব ভোরের ফ্লাইট ছিল', \n",
    "#          'তিনি তার ক্রিয়াকলাপের প্রভাব উপলব্ধি করার পরে প্রচুর পরিমাণে ক্ষমা চেয়েছিলেন',\n",
    "#          'তিনি ক্লাবে যোগ দিয়েছিলেন কারণ তিনি নতুন লোকের সাথে দেখা করতে চেয়েছিলেন',\n",
    "#          'একটি ওয়েবসাইট তৈরি করা হলে তখন অনেক কাজের মত মনে হয়' ,\n",
    "#          'বৃষ্টি হলে রাস্তা পিচ্ছিল হয়ে যায়।']\n",
    "# chengl = [1, 0, 1, 0, 0]\n",
    "# for i in range(5):\n",
    "#     vtc = cheng[i]\n",
    "#     if vtc in data['text'].values:\n",
    "#         data.loc[data['text'] == vtc, 'num_label'] = chengl[i]"
   ]
  },
  {
   "cell_type": "code",
   "execution_count": 67,
   "id": "2bfb50f7",
   "metadata": {
    "execution": {
     "iopub.execute_input": "2023-10-31T09:42:01.620167Z",
     "iopub.status.busy": "2023-10-31T09:42:01.619806Z",
     "iopub.status.idle": "2023-10-31T09:42:01.623876Z",
     "shell.execute_reply": "2023-10-31T09:42:01.623002Z"
    },
    "papermill": {
     "duration": 0.098823,
     "end_time": "2023-10-31T09:42:01.625733",
     "exception": false,
     "start_time": "2023-10-31T09:42:01.526910",
     "status": "completed"
    },
    "tags": []
   },
   "outputs": [],
   "source": [
    "# data['text'][data.index[data['text'] == cheng[1]]]\n",
    "# data['num_label'][data.index[data['text'] == cheng[1]]]"
   ]
  },
  {
   "cell_type": "code",
   "execution_count": 68,
   "id": "e364afb3",
   "metadata": {
    "execution": {
     "iopub.execute_input": "2023-10-31T09:42:01.810765Z",
     "iopub.status.busy": "2023-10-31T09:42:01.810391Z",
     "iopub.status.idle": "2023-10-31T09:42:01.814650Z",
     "shell.execute_reply": "2023-10-31T09:42:01.813677Z"
    },
    "papermill": {
     "duration": 0.098972,
     "end_time": "2023-10-31T09:42:01.816561",
     "exception": false,
     "start_time": "2023-10-31T09:42:01.717589",
     "status": "completed"
    },
    "tags": []
   },
   "outputs": [],
   "source": [
    "# value_to_check =  'ট্রয় একটি বিশাল কুকি খেয়েছে। তার পেটে ব্যথা হয়েছে'\n",
    "# if value_to_check in data['text'].values:\n",
    "#     data.loc[data['text'] == value_to_check, 'text'] = 'ট্রয় একটি বিশাল কুকি খেয়েছে, তার পেটে ব্যথা হয়েছে'"
   ]
  },
  {
   "cell_type": "code",
   "execution_count": 69,
   "id": "fe325afe",
   "metadata": {
    "execution": {
     "iopub.execute_input": "2023-10-31T09:42:02.001123Z",
     "iopub.status.busy": "2023-10-31T09:42:02.000414Z",
     "iopub.status.idle": "2023-10-31T09:42:02.004756Z",
     "shell.execute_reply": "2023-10-31T09:42:02.003822Z"
    },
    "papermill": {
     "duration": 0.098868,
     "end_time": "2023-10-31T09:42:02.006781",
     "exception": false,
     "start_time": "2023-10-31T09:42:01.907913",
     "status": "completed"
    },
    "tags": []
   },
   "outputs": [],
   "source": [
    "# data.index[data['text'] == 'ট্রয় একটি বিশাল কুকি খেয়েছে। তার পেটে ব্যথা হয়েছে']"
   ]
  },
  {
   "cell_type": "code",
   "execution_count": 70,
   "id": "6ca71969",
   "metadata": {
    "execution": {
     "iopub.execute_input": "2023-10-31T09:42:02.190991Z",
     "iopub.status.busy": "2023-10-31T09:42:02.190027Z",
     "iopub.status.idle": "2023-10-31T09:42:02.194508Z",
     "shell.execute_reply": "2023-10-31T09:42:02.193706Z"
    },
    "papermill": {
     "duration": 0.098178,
     "end_time": "2023-10-31T09:42:02.196488",
     "exception": false,
     "start_time": "2023-10-31T09:42:02.098310",
     "status": "completed"
    },
    "tags": []
   },
   "outputs": [],
   "source": [
    "# data['text'][2075]"
   ]
  },
  {
   "cell_type": "code",
   "execution_count": 71,
   "id": "532b3b35",
   "metadata": {
    "execution": {
     "iopub.execute_input": "2023-10-31T09:42:02.380420Z",
     "iopub.status.busy": "2023-10-31T09:42:02.379729Z",
     "iopub.status.idle": "2023-10-31T09:42:02.649705Z",
     "shell.execute_reply": "2023-10-31T09:42:02.648717Z"
    },
    "papermill": {
     "duration": 0.364208,
     "end_time": "2023-10-31T09:42:02.651656",
     "exception": false,
     "start_time": "2023-10-31T09:42:02.287448",
     "status": "completed"
    },
    "tags": []
   },
   "outputs": [
    {
     "data": {
      "image/png": "[encoded data removed]",
      "text/plain": [
       "<Figure size 640x480 with 2 Axes>"
      ]
     },
     "metadata": {},
     "output_type": "display_data"
    }
   ],
   "source": [
    "from sklearn import metrics\n",
    "import matplotlib.pyplot as plt\n",
    "confusion_matrix = metrics.confusion_matrix(y_true, y_pred)\n",
    "\n",
    "cm_display = metrics.ConfusionMatrixDisplay(confusion_matrix = confusion_matrix, display_labels = [0,1,2])\n",
    "\n",
    "cm_display.plot()\n",
    "plt.show()"
   ]
  },
  {
   "cell_type": "code",
   "execution_count": 72,
   "id": "bb7e81b9",
   "metadata": {
    "execution": {
     "iopub.execute_input": "2023-10-31T09:42:02.836935Z",
     "iopub.status.busy": "2023-10-31T09:42:02.836307Z",
     "iopub.status.idle": "2023-10-31T09:42:02.843065Z",
     "shell.execute_reply": "2023-10-31T09:42:02.842196Z"
    },
    "papermill": {
     "duration": 0.101142,
     "end_time": "2023-10-31T09:42:02.845092",
     "exception": false,
     "start_time": "2023-10-31T09:42:02.743950",
     "status": "completed"
    },
    "tags": []
   },
   "outputs": [
    {
     "data": {
      "text/plain": [
       "0.9736842105263158"
      ]
     },
     "execution_count": 72,
     "metadata": {},
     "output_type": "execute_result"
    }
   ],
   "source": [
    "from sklearn.metrics import accuracy_score\n",
    "accuracy_score(y_true,y_pred)"
   ]
  },
  {
   "cell_type": "markdown",
   "id": "440feed4",
   "metadata": {
    "papermill": {
     "duration": 0.092529,
     "end_time": "2023-10-31T09:42:03.029907",
     "exception": false,
     "start_time": "2023-10-31T09:42:02.937378",
     "status": "completed"
    },
    "tags": []
   },
   "source": [
    "### TETS ON CUSTOM DATASET"
   ]
  },
  {
   "cell_type": "code",
   "execution_count": 73,
   "id": "dfcd1f0b",
   "metadata": {
    "execution": {
     "iopub.execute_input": "2023-10-31T09:42:03.215994Z",
     "iopub.status.busy": "2023-10-31T09:42:03.215660Z",
     "iopub.status.idle": "2023-10-31T09:42:03.226121Z",
     "shell.execute_reply": "2023-10-31T09:42:03.225114Z"
    },
    "papermill": {
     "duration": 0.106311,
     "end_time": "2023-10-31T09:42:03.228031",
     "exception": false,
     "start_time": "2023-10-31T09:42:03.121720",
     "status": "completed"
    },
    "tags": []
   },
   "outputs": [],
   "source": [
    "sentences = [\n",
    "    'জসিম ভাত খায়।',\n",
    "    \"আমি বই পড়তে ভালোবাসি।\",\n",
    "    \"আমার নাম সুরেশ।\",\n",
    "    \"বাংলাদেশ একটি সুন্দর দেশ।\",\n",
    "    \"আপনি কোথায় থাকেন?\",\n",
    "    \"আমি একটি শিক্ষার্থী।\",\n",
    "    \"আমার প্রিয় ফল আম।\",\n",
    "    \"তুমি চেষ্টা না করায় ব্যর্থ হয়েছ।\",\n",
    "    \"আমি আজ প্রিয় মানুষের সাথে ঘুম ভাঙ্গানোর স্বপ্ন দেখতে চাই।\",\n",
    "    \"আমরা সবাই একটি মহান জাতির অংশ।\",\n",
    "    \"আমরা দুটি বন্ধু সকালে পার্কে বেড়িয়ে যাচ্ছি।\",\n",
    "    \"তার সাথে একটি আদর্শ সম্বন্ধ রয়েছে।\",\n",
    "    \"আমরা একটি নতুন প্রকল্পে কাজ করছি।\",\n",
    "    \"পরবর্তী সপ্তাহে আমরা দুটি পর্বে বিভাজিত হব।\",\n",
    "    \"সকালে তিনটা পানি খাচ্ছি।\",\n",
    "    \"বাড়ি ফিরে গিয়ে রাতে খাওয়া খাচ্ছি।\",\n",
    "    \"আমি সবসময় নিরাপদে থাকতে চাই।\",\n",
    "    \"এই বইটি আমার প্রিয় বই।\",\n",
    "    \"আমাদের দেশে প্রকৃতি অত্যন্ত সুন্দর।\",\n",
    "    \"আমি কখনও হঠাৎ সোনা উদ্ধার করতে চাই।\",\n",
    "    \n",
    "    \"যখন বিপদ আসে, তখন দুঃখও আসে।\",\n",
    "    \"যদি নিয়মিত সাঁতার কাটো, তবে স্বাস্থ্য ভালো থাকবে।\",\n",
    "    \"যারা পরিশ্রম করে, তারা জীবনে সফল হয়।\",\n",
    "    \"যখন সে সুসংবাদটা পেল, তখন সে আনন্দিত হলো\",\n",
    "    \"যে ছেলেটি এখানে এসেছিল, সে আমার ভাই।\",\n",
    "    \"যদি তুমি যাও, তবে তার দেখা পাবে।\",\n",
    "    \"যখন বৃষ্টি নামল, তখন আমরা ছাতা খুঁজতে শুরু করলাম।\",\n",
    "    \"যেমনি বলল অমনি সে বাড়িমুখো রওনা দিল।\",\n",
    "    \"যারা বিজ্ঞানী তাঁরা ভূত বিশ্বাস করেন না।\",\n",
    "    \"যেহেতু দোষ করেছ, সেহেতু শান্তি পাবে।\",\n",
    "    \"যদিও সে অসুস্থ তবুও সে স্কুলে গেল।\",\n",
    "    \"সবাই জানেন যে, কালো টাকার মালিকগণ সুখী হন না।\",\n",
    "    \"যদিও বর্ষাকাল তবুও মেঘের দেখা নেই।\",\n",
    "    \"যেই বৃষ্টি এল সেই ব্যাঙের ডাক শুরু হল।\",\n",
    "    \"যেহেতু সে পড়াশোনা করে সেহেতু সকলে তাকে ভালোবাসে।\",\n",
    "    \"যদিও লোকটি সরল তথাপি সে জ্ঞানী।\",\n",
    "    \"যে হিমালয়ে বাস করিতেন, সেই হিমালয়ের তিনি যেন মিতা।\",\n",
    "    \"তোমার যিনি বাপ, তার নাম কি?\",\n",
    "    \"যদিও ছেলেটির বয়স অল্প, তবু বেশ বুদ্ধিমান।\",\n",
    "    \"আমি দেখা করব বলে আমি এসেছি\",\n",
    "    \n",
    "    \"আমি আসব, তুমি কাজ করবে।\",\n",
    "    \"তোমরা চেষ্টা করেছ, কিন্তু আশানুরূপ ফল পাওনি – এতে দোষের কিছু নেই।\",\n",
    "    \"সে ঘর ঝাড়ু দিল, ঘর মুছল, তারপর পড়তে বসল।\",\n",
    "    \"আমরা খেললাম, তারপর গরম পানি খেয়েছি।\",\n",
    "    \"নিয়মিত সাঁতার কাটো, স্বাস্থ্য ভালো থাকবে।\",\n",
    "    \"সবাই হাসলে, সবাই খুশি।\",\n",
    "    \"সীমা বই পড়ছে আর হাবিব ঘর গোছাচ্ছে।\",\n",
    "    \"ছেলেটি গরিব কিন্তু মেধাবী।\",\n",
    "    \"এতক্ষণ অপেক্ষা করলাম কিন্তু গাড়ি পেলাম না।\",\n",
    "    \"দুঃখ এবং বিপদ এক সাথে আসে।\",\n",
    "    \"এতক্ষণ অপেক্ষা করলাম কিন্তু গাড়ি পেলাম না।\",\n",
    "    \"তাঁর টাকা আছে কিন্তু তিনি দান করেন না।\",\n",
    "    \"ভোরে উঠবে এবং ভ্রমন করবে।\",\n",
    "    \"বয়সে ছোট কিন্তু তার বুদ্ধি প্রখর।\",\n",
    "    \"জোরে বলো নাহলে কেউ শুনতে পাবে না।\",\n",
    "    \"স্টেশন এলাম আর ট্রেনটা ছেড়ে দিল।\",\n",
    "    \"সূর্য ওঠে এবং কুয়াশা দূর হয়।\",\n",
    "    \"সে পড়াশোনা করে, তাই সকলে তাকে ভালোবাসে।\",\n",
    "    \"এখন রাত, তাই বাইরে যেও না।\",\n",
    "    \"লোকটি সরল অথচ জ্ঞানী।\"\n",
    "]\n",
    "true = np.repeat([0, 1, 2], 20)"
   ]
  },
  {
   "cell_type": "code",
   "execution_count": 74,
   "id": "47f0803d",
   "metadata": {
    "execution": {
     "iopub.execute_input": "2023-10-31T09:42:03.413178Z",
     "iopub.status.busy": "2023-10-31T09:42:03.412318Z",
     "iopub.status.idle": "2023-10-31T09:42:03.418759Z",
     "shell.execute_reply": "2023-10-31T09:42:03.417910Z"
    },
    "papermill": {
     "duration": 0.101082,
     "end_time": "2023-10-31T09:42:03.420706",
     "exception": false,
     "start_time": "2023-10-31T09:42:03.319624",
     "status": "completed"
    },
    "tags": []
   },
   "outputs": [
    {
     "data": {
      "text/plain": [
       "array([0, 0, 0, 0, 0, 0, 0, 0, 0, 0, 0, 0, 0, 0, 0, 0, 0, 0, 0, 0, 1, 1,\n",
       "       1, 1, 1, 1, 1, 1, 1, 1, 1, 1, 1, 1, 1, 1, 1, 1, 1, 1, 2, 2, 2, 2,\n",
       "       2, 2, 2, 2, 2, 2, 2, 2, 2, 2, 2, 2, 2, 2, 2, 2])"
      ]
     },
     "execution_count": 74,
     "metadata": {},
     "output_type": "execute_result"
    }
   ],
   "source": [
    "true"
   ]
  },
  {
   "cell_type": "code",
   "execution_count": 75,
   "id": "15baec5e",
   "metadata": {
    "execution": {
     "iopub.execute_input": "2023-10-31T09:42:03.613161Z",
     "iopub.status.busy": "2023-10-31T09:42:03.612801Z",
     "iopub.status.idle": "2023-10-31T09:42:15.307869Z",
     "shell.execute_reply": "2023-10-31T09:42:15.306948Z"
    },
    "papermill": {
     "duration": 11.797109,
     "end_time": "2023-10-31T09:42:15.309849",
     "exception": false,
     "start_time": "2023-10-31T09:42:03.512740",
     "status": "completed"
    },
    "tags": []
   },
   "outputs": [
    {
     "name": "stderr",
     "output_type": "stream",
     "text": [
      "100%|██████████| 60/60 [00:11<00:00,  5.26it/s]\n"
     ]
    },
    {
     "name": "stdout",
     "output_type": "stream",
     "text": [
      "True = [0 0 0 0 0 0 0 0 0 0 0 0 0 0 0 0 0 0 0 0 1 1 1 1 1 1 1 1 1 1 1 1 1 1 1 1 1\n",
      " 1 1 1 2 2 2 2 2 2 2 2 2 2 2 2 2 2 2 2 2 2 2 2]\n",
      " Prediction = [0, 0, 0, 0, 0, 0, 0, 0, 0, 0, 0, 0, 0, 0, 0, 0, 0, 0, 0, 0, 1, 1, 1, 1, 1, 1, 1, 1, 1, 1, 1, 1, 1, 1, 1, 1, 1, 1, 1, 0, 2, 2, 2, 2, 2, 0, 2, 2, 2, 2, 2, 2, 2, 2, 2, 2, 2, 2, 2, 2]\n"
     ]
    },
    {
     "data": {
      "image/png": "[encoded data removed]",
      "text/plain": [
       "<Figure size 640x480 with 2 Axes>"
      ]
     },
     "metadata": {},
     "output_type": "display_data"
    },
    {
     "data": {
      "text/plain": [
       "0.9666666666666667"
      ]
     },
     "execution_count": 75,
     "metadata": {},
     "output_type": "execute_result"
    }
   ],
   "source": [
    "# Check the results now\n",
    "preds = []\n",
    "for sent in tqdm(sentences):\n",
    "    preds.append(custom_test_up(sent))\n",
    "\n",
    "print(f'True = {true}\\n Prediction = {preds}')\n",
    "\n",
    "confusion_matrix = metrics.confusion_matrix(true, preds)\n",
    "\n",
    "cm_display = metrics.ConfusionMatrixDisplay(confusion_matrix = confusion_matrix, display_labels = [0,1,2])\n",
    "\n",
    "cm_display.plot()\n",
    "plt.show()\n",
    "accuracy_score(true, preds)"
   ]
  },
  {
   "cell_type": "code",
   "execution_count": 76,
   "id": "3a492ff5",
   "metadata": {
    "execution": {
     "iopub.execute_input": "2023-10-31T09:42:15.507080Z",
     "iopub.status.busy": "2023-10-31T09:42:15.506411Z",
     "iopub.status.idle": "2023-10-31T09:42:15.517470Z",
     "shell.execute_reply": "2023-10-31T09:42:15.516599Z"
    },
    "papermill": {
     "duration": 0.111504,
     "end_time": "2023-10-31T09:42:15.519330",
     "exception": false,
     "start_time": "2023-10-31T09:42:15.407826",
     "status": "completed"
    },
    "tags": []
   },
   "outputs": [
    {
     "data": {
      "text/html": [
       "<div>\n",
       "<style scoped>\n",
       "    .dataframe tbody tr th:only-of-type {\n",
       "        vertical-align: middle;\n",
       "    }\n",
       "\n",
       "    .dataframe tbody tr th {\n",
       "        vertical-align: top;\n",
       "    }\n",
       "\n",
       "    .dataframe thead th {\n",
       "        text-align: right;\n",
       "    }\n",
       "</style>\n",
       "<table border=\"1\" class=\"dataframe\">\n",
       "  <thead>\n",
       "    <tr style=\"text-align: right;\">\n",
       "      <th></th>\n",
       "      <th>Sentences</th>\n",
       "      <th>Label</th>\n",
       "      <th>Prediction</th>\n",
       "    </tr>\n",
       "  </thead>\n",
       "  <tbody>\n",
       "    <tr>\n",
       "      <th>0</th>\n",
       "      <td>জসিম ভাত খায়।</td>\n",
       "      <td>0</td>\n",
       "      <td>0</td>\n",
       "    </tr>\n",
       "    <tr>\n",
       "      <th>1</th>\n",
       "      <td>আমি বই পড়তে ভালোবাসি।</td>\n",
       "      <td>0</td>\n",
       "      <td>0</td>\n",
       "    </tr>\n",
       "    <tr>\n",
       "      <th>2</th>\n",
       "      <td>আমার নাম সুরেশ।</td>\n",
       "      <td>0</td>\n",
       "      <td>0</td>\n",
       "    </tr>\n",
       "    <tr>\n",
       "      <th>3</th>\n",
       "      <td>বাংলাদেশ একটি সুন্দর দেশ।</td>\n",
       "      <td>0</td>\n",
       "      <td>0</td>\n",
       "    </tr>\n",
       "    <tr>\n",
       "      <th>4</th>\n",
       "      <td>আপনি কোথায় থাকেন?</td>\n",
       "      <td>0</td>\n",
       "      <td>0</td>\n",
       "    </tr>\n",
       "  </tbody>\n",
       "</table>\n",
       "</div>"
      ],
      "text/plain": [
       "                   Sentences  Label  Prediction\n",
       "0             জসিম ভাত খায়।      0           0\n",
       "1     আমি বই পড়তে ভালোবাসি।      0           0\n",
       "2            আমার নাম সুরেশ।      0           0\n",
       "3  বাংলাদেশ একটি সুন্দর দেশ।      0           0\n",
       "4         আপনি কোথায় থাকেন?      0           0"
      ]
     },
     "execution_count": 76,
     "metadata": {},
     "output_type": "execute_result"
    }
   ],
   "source": [
    "cdata = {'Sentences':sentences,\n",
    "        'Label':true,\n",
    "        'Prediction':preds}\n",
    "cdf = pd.DataFrame(cdata)\n",
    "cdf.head()"
   ]
  },
  {
   "cell_type": "code",
   "execution_count": 77,
   "id": "d55917f8",
   "metadata": {
    "execution": {
     "iopub.execute_input": "2023-10-31T09:42:15.717016Z",
     "iopub.status.busy": "2023-10-31T09:42:15.716653Z",
     "iopub.status.idle": "2023-10-31T09:42:15.724173Z",
     "shell.execute_reply": "2023-10-31T09:42:15.723439Z"
    },
    "papermill": {
     "duration": 0.108693,
     "end_time": "2023-10-31T09:42:15.726269",
     "exception": false,
     "start_time": "2023-10-31T09:42:15.617576",
     "status": "completed"
    },
    "tags": []
   },
   "outputs": [],
   "source": [
    "cdf.to_csv('/kaggle/working/Custom_dataset.csv', index=False)"
   ]
  },
  {
   "cell_type": "markdown",
   "id": "7bbb577b",
   "metadata": {
    "papermill": {
     "duration": 0.096814,
     "end_time": "2023-10-31T09:42:15.919957",
     "exception": false,
     "start_time": "2023-10-31T09:42:15.823143",
     "status": "completed"
    },
    "tags": []
   },
   "source": [
    "## ROC Curve"
   ]
  },
  {
   "cell_type": "code",
   "execution_count": 78,
   "id": "60e7acce",
   "metadata": {
    "execution": {
     "iopub.execute_input": "2023-10-31T09:42:16.116409Z",
     "iopub.status.busy": "2023-10-31T09:42:16.115638Z",
     "iopub.status.idle": "2023-10-31T09:42:16.121680Z",
     "shell.execute_reply": "2023-10-31T09:42:16.120754Z"
    },
    "papermill": {
     "duration": 0.106671,
     "end_time": "2023-10-31T09:42:16.123543",
     "exception": false,
     "start_time": "2023-10-31T09:42:16.016872",
     "status": "completed"
    },
    "tags": []
   },
   "outputs": [],
   "source": [
    "def final(text):\n",
    "    '''\n",
    "    Implements our awsome algorithm and gives final output\n",
    "    '''\n",
    "    inputs=tokenizer(text,return_tensors=\"tf\", truncation=True)\n",
    "    x = []\n",
    "    tf_outputs = model(inputs)                                  \n",
    "    tf_predictions_final = tf.nn.softmax(tf_outputs[0], axis=-1)  \n",
    "    x.append(tf_predictions_final.numpy().flatten())\n",
    "    return x"
   ]
  },
  {
   "cell_type": "code",
   "execution_count": 79,
   "id": "1b09c41c",
   "metadata": {
    "execution": {
     "iopub.execute_input": "2023-10-31T09:42:16.320666Z",
     "iopub.status.busy": "2023-10-31T09:42:16.319790Z",
     "iopub.status.idle": "2023-10-31T09:42:16.324775Z",
     "shell.execute_reply": "2023-10-31T09:42:16.323942Z"
    },
    "papermill": {
     "duration": 0.105842,
     "end_time": "2023-10-31T09:42:16.326826",
     "exception": false,
     "start_time": "2023-10-31T09:42:16.220984",
     "status": "completed"
    },
    "tags": []
   },
   "outputs": [],
   "source": [
    "test = test.reset_index(drop=True)"
   ]
  },
  {
   "cell_type": "code",
   "execution_count": 80,
   "id": "86aa1271",
   "metadata": {
    "execution": {
     "iopub.execute_input": "2023-10-31T09:42:16.525229Z",
     "iopub.status.busy": "2023-10-31T09:42:16.524860Z",
     "iopub.status.idle": "2023-10-31T09:42:16.534079Z",
     "shell.execute_reply": "2023-10-31T09:42:16.533082Z"
    },
    "papermill": {
     "duration": 0.111564,
     "end_time": "2023-10-31T09:42:16.536424",
     "exception": false,
     "start_time": "2023-10-31T09:42:16.424860",
     "status": "completed"
    },
    "tags": []
   },
   "outputs": [
    {
     "data": {
      "text/html": [
       "<div>\n",
       "<style scoped>\n",
       "    .dataframe tbody tr th:only-of-type {\n",
       "        vertical-align: middle;\n",
       "    }\n",
       "\n",
       "    .dataframe tbody tr th {\n",
       "        vertical-align: top;\n",
       "    }\n",
       "\n",
       "    .dataframe thead th {\n",
       "        text-align: right;\n",
       "    }\n",
       "</style>\n",
       "<table border=\"1\" class=\"dataframe\">\n",
       "  <thead>\n",
       "    <tr style=\"text-align: right;\">\n",
       "      <th></th>\n",
       "      <th>text</th>\n",
       "      <th>label</th>\n",
       "      <th>pred</th>\n",
       "    </tr>\n",
       "  </thead>\n",
       "  <tbody>\n",
       "    <tr>\n",
       "      <th>0</th>\n",
       "      <td>যখন ঝড় কমে গেল তখন আমরা আমাদের যাত্রা অব্যাহত...</td>\n",
       "      <td>1</td>\n",
       "      <td>1</td>\n",
       "    </tr>\n",
       "    <tr>\n",
       "      <th>1</th>\n",
       "      <td>তারা দুই বোন একটি কুকুর দেখে রাস্তা পার হল।</td>\n",
       "      <td>0</td>\n",
       "      <td>0</td>\n",
       "    </tr>\n",
       "  </tbody>\n",
       "</table>\n",
       "</div>"
      ],
      "text/plain": [
       "                                                text  label  pred\n",
       "0  যখন ঝড় কমে গেল তখন আমরা আমাদের যাত্রা অব্যাহত...      1     1\n",
       "1        তারা দুই বোন একটি কুকুর দেখে রাস্তা পার হল।      0     0"
      ]
     },
     "execution_count": 80,
     "metadata": {},
     "output_type": "execute_result"
    }
   ],
   "source": [
    "test.head(2)"
   ]
  },
  {
   "cell_type": "code",
   "execution_count": 81,
   "id": "210588e9",
   "metadata": {
    "execution": {
     "iopub.execute_input": "2023-10-31T09:42:16.738091Z",
     "iopub.status.busy": "2023-10-31T09:42:16.737726Z",
     "iopub.status.idle": "2023-10-31T09:42:16.935212Z",
     "shell.execute_reply": "2023-10-31T09:42:16.934228Z"
    },
    "papermill": {
     "duration": 0.299899,
     "end_time": "2023-10-31T09:42:16.937574",
     "exception": false,
     "start_time": "2023-10-31T09:42:16.637675",
     "status": "completed"
    },
    "tags": []
   },
   "outputs": [
    {
     "data": {
      "text/plain": [
       "[array([5.4046983e-04, 9.9861193e-01, 8.4758643e-04], dtype=float32)]"
      ]
     },
     "execution_count": 81,
     "metadata": {},
     "output_type": "execute_result"
    }
   ],
   "source": [
    "final(test['text'][0])"
   ]
  },
  {
   "cell_type": "code",
   "execution_count": 82,
   "id": "e52f5e01",
   "metadata": {
    "execution": {
     "iopub.execute_input": "2023-10-31T09:42:17.163025Z",
     "iopub.status.busy": "2023-10-31T09:42:17.162628Z",
     "iopub.status.idle": "2023-10-31T09:42:17.167419Z",
     "shell.execute_reply": "2023-10-31T09:42:17.166408Z"
    },
    "papermill": {
     "duration": 0.123113,
     "end_time": "2023-10-31T09:42:17.169707",
     "exception": false,
     "start_time": "2023-10-31T09:42:17.046594",
     "status": "completed"
    },
    "tags": []
   },
   "outputs": [],
   "source": [
    "test_text = test['text']"
   ]
  },
  {
   "cell_type": "code",
   "execution_count": 83,
   "id": "034e732b",
   "metadata": {
    "execution": {
     "iopub.execute_input": "2023-10-31T09:42:17.371657Z",
     "iopub.status.busy": "2023-10-31T09:42:17.371285Z",
     "iopub.status.idle": "2023-10-31T09:42:17.378465Z",
     "shell.execute_reply": "2023-10-31T09:42:17.377532Z"
    },
    "papermill": {
     "duration": 0.108008,
     "end_time": "2023-10-31T09:42:17.380390",
     "exception": false,
     "start_time": "2023-10-31T09:42:17.272382",
     "status": "completed"
    },
    "tags": []
   },
   "outputs": [
    {
     "data": {
      "text/plain": [
       "0    যখন ঝড় কমে গেল তখন আমরা আমাদের যাত্রা অব্যাহত...\n",
       "1          তারা দুই বোন একটি কুকুর দেখে রাস্তা পার হল।\n",
       "2             দেরি হয়ে গেছে তাই আমরা বাসায় চলে গেলাম\n",
       "3          যদিও ভয়াল শব্দে বাজ পড়েছে তবুও এর বিরাম নেই\n",
       "4                আমি আমার নতুন পোষা প্রাণীকে ভালোবাসি.\n",
       "Name: text, dtype: object"
      ]
     },
     "execution_count": 83,
     "metadata": {},
     "output_type": "execute_result"
    }
   ],
   "source": [
    "test_text.head()"
   ]
  },
  {
   "cell_type": "code",
   "execution_count": 84,
   "id": "840eff1d",
   "metadata": {
    "execution": {
     "iopub.execute_input": "2023-10-31T09:42:17.578210Z",
     "iopub.status.busy": "2023-10-31T09:42:17.577361Z",
     "iopub.status.idle": "2023-10-31T09:42:53.617303Z",
     "shell.execute_reply": "2023-10-31T09:42:53.616314Z"
    },
    "papermill": {
     "duration": 36.141105,
     "end_time": "2023-10-31T09:42:53.619388",
     "exception": false,
     "start_time": "2023-10-31T09:42:17.478283",
     "status": "completed"
    },
    "tags": []
   },
   "outputs": [
    {
     "name": "stderr",
     "output_type": "stream",
     "text": [
      "100%|██████████| 190/190 [00:36<00:00,  5.27it/s]\n"
     ]
    }
   ],
   "source": [
    "predict = []\n",
    "for text in tqdm(test_text):\n",
    "    re = final(text)\n",
    "    ans = []\n",
    "    for val in re:\n",
    "        for v in val:\n",
    "            ans.append(v)\n",
    "    np_array = np.array(ans)\n",
    "    np_array = np_array.tolist()\n",
    "    predict.append(np_array)"
   ]
  },
  {
   "cell_type": "code",
   "execution_count": 85,
   "id": "ac8d8da8",
   "metadata": {
    "execution": {
     "iopub.execute_input": "2023-10-31T09:42:53.916135Z",
     "iopub.status.busy": "2023-10-31T09:42:53.915776Z",
     "iopub.status.idle": "2023-10-31T09:42:53.923059Z",
     "shell.execute_reply": "2023-10-31T09:42:53.922227Z"
    },
    "papermill": {
     "duration": 0.123141,
     "end_time": "2023-10-31T09:42:53.925056",
     "exception": false,
     "start_time": "2023-10-31T09:42:53.801915",
     "status": "completed"
    },
    "tags": []
   },
   "outputs": [
    {
     "data": {
      "text/plain": [
       "array([[5.40469831e-04, 9.98611927e-01, 8.47586431e-04],\n",
       "       [9.98667359e-01, 5.07417368e-04, 8.25260999e-04],\n",
       "       [7.55833113e-04, 1.13231631e-03, 9.98111844e-01],\n",
       "       [6.42689294e-04, 9.98577237e-01, 7.80091912e-04],\n",
       "       [9.97947037e-01, 1.59877376e-03, 4.54255118e-04],\n",
       "       [4.46651014e-04, 6.10220130e-04, 9.98943150e-01],\n",
       "       [7.53260800e-04, 9.98680651e-01, 5.66093309e-04],\n",
       "       [6.54031697e-04, 9.98615026e-01, 7.30900909e-04],\n",
       "       [4.41414129e-04, 9.96907358e-04, 9.98561680e-01],\n",
       "       [9.81825471e-01, 2.56357598e-03, 1.56108858e-02]])"
      ]
     },
     "execution_count": 85,
     "metadata": {},
     "output_type": "execute_result"
    }
   ],
   "source": [
    "predict = np.array(predict)\n",
    "predict[:10]"
   ]
  },
  {
   "cell_type": "code",
   "execution_count": 86,
   "id": "641118f6",
   "metadata": {
    "execution": {
     "iopub.execute_input": "2023-10-31T09:42:54.151810Z",
     "iopub.status.busy": "2023-10-31T09:42:54.150945Z",
     "iopub.status.idle": "2023-10-31T09:42:54.161014Z",
     "shell.execute_reply": "2023-10-31T09:42:54.160108Z"
    },
    "papermill": {
     "duration": 0.125175,
     "end_time": "2023-10-31T09:42:54.162896",
     "exception": false,
     "start_time": "2023-10-31T09:42:54.037721",
     "status": "completed"
    },
    "tags": []
   },
   "outputs": [
    {
     "data": {
      "text/html": [
       "<div>\n",
       "<style scoped>\n",
       "    .dataframe tbody tr th:only-of-type {\n",
       "        vertical-align: middle;\n",
       "    }\n",
       "\n",
       "    .dataframe tbody tr th {\n",
       "        vertical-align: top;\n",
       "    }\n",
       "\n",
       "    .dataframe thead th {\n",
       "        text-align: right;\n",
       "    }\n",
       "</style>\n",
       "<table border=\"1\" class=\"dataframe\">\n",
       "  <thead>\n",
       "    <tr style=\"text-align: right;\">\n",
       "      <th></th>\n",
       "      <th>text</th>\n",
       "      <th>label</th>\n",
       "      <th>pred</th>\n",
       "    </tr>\n",
       "  </thead>\n",
       "  <tbody>\n",
       "    <tr>\n",
       "      <th>0</th>\n",
       "      <td>যখন ঝড় কমে গেল তখন আমরা আমাদের যাত্রা অব্যাহত...</td>\n",
       "      <td>1</td>\n",
       "      <td>1</td>\n",
       "    </tr>\n",
       "    <tr>\n",
       "      <th>1</th>\n",
       "      <td>তারা দুই বোন একটি কুকুর দেখে রাস্তা পার হল।</td>\n",
       "      <td>0</td>\n",
       "      <td>0</td>\n",
       "    </tr>\n",
       "    <tr>\n",
       "      <th>2</th>\n",
       "      <td>দেরি হয়ে গেছে তাই আমরা বাসায় চলে গেলাম</td>\n",
       "      <td>2</td>\n",
       "      <td>2</td>\n",
       "    </tr>\n",
       "    <tr>\n",
       "      <th>3</th>\n",
       "      <td>যদিও ভয়াল শব্দে বাজ পড়েছে তবুও এর বিরাম নেই</td>\n",
       "      <td>1</td>\n",
       "      <td>1</td>\n",
       "    </tr>\n",
       "    <tr>\n",
       "      <th>4</th>\n",
       "      <td>আমি আমার নতুন পোষা প্রাণীকে ভালোবাসি.</td>\n",
       "      <td>0</td>\n",
       "      <td>0</td>\n",
       "    </tr>\n",
       "    <tr>\n",
       "      <th>5</th>\n",
       "      <td>তিনি প্রতিদিন গিটার অনুশীলন করেন এবং তিনি একজন...</td>\n",
       "      <td>2</td>\n",
       "      <td>2</td>\n",
       "    </tr>\n",
       "    <tr>\n",
       "      <th>6</th>\n",
       "      <td>যখন আবহাওয়া খুব খারাপ তখন আমরা বাড়ি যাইনি</td>\n",
       "      <td>1</td>\n",
       "      <td>1</td>\n",
       "    </tr>\n",
       "    <tr>\n",
       "      <th>7</th>\n",
       "      <td>যদিও আপনি একটি শূকরের উপর ডানা লাগাতে পারেন, ত...</td>\n",
       "      <td>1</td>\n",
       "      <td>1</td>\n",
       "    </tr>\n",
       "    <tr>\n",
       "      <th>8</th>\n",
       "      <td>সূর্য অস্ত যাচ্ছিল, তাই তারা সৈকতে হাঁটতে যাওয...</td>\n",
       "      <td>2</td>\n",
       "      <td>2</td>\n",
       "    </tr>\n",
       "    <tr>\n",
       "      <th>9</th>\n",
       "      <td>আমরা একটি বিখ্যাত historical তিহাসিক স্মৃতিস্ত...</td>\n",
       "      <td>0</td>\n",
       "      <td>0</td>\n",
       "    </tr>\n",
       "  </tbody>\n",
       "</table>\n",
       "</div>"
      ],
      "text/plain": [
       "                                                text  label  pred\n",
       "0  যখন ঝড় কমে গেল তখন আমরা আমাদের যাত্রা অব্যাহত...      1     1\n",
       "1        তারা দুই বোন একটি কুকুর দেখে রাস্তা পার হল।      0     0\n",
       "2           দেরি হয়ে গেছে তাই আমরা বাসায় চলে গেলাম      2     2\n",
       "3        যদিও ভয়াল শব্দে বাজ পড়েছে তবুও এর বিরাম নেই      1     1\n",
       "4              আমি আমার নতুন পোষা প্রাণীকে ভালোবাসি.      0     0\n",
       "5  তিনি প্রতিদিন গিটার অনুশীলন করেন এবং তিনি একজন...      2     2\n",
       "6        যখন আবহাওয়া খুব খারাপ তখন আমরা বাড়ি যাইনি      1     1\n",
       "7  যদিও আপনি একটি শূকরের উপর ডানা লাগাতে পারেন, ত...      1     1\n",
       "8  সূর্য অস্ত যাচ্ছিল, তাই তারা সৈকতে হাঁটতে যাওয...      2     2\n",
       "9  আমরা একটি বিখ্যাত historical তিহাসিক স্মৃতিস্ত...      0     0"
      ]
     },
     "execution_count": 86,
     "metadata": {},
     "output_type": "execute_result"
    }
   ],
   "source": [
    "test.head(10)"
   ]
  },
  {
   "cell_type": "code",
   "execution_count": 87,
   "id": "2236f451",
   "metadata": {
    "execution": {
     "iopub.execute_input": "2023-10-31T09:42:54.390035Z",
     "iopub.status.busy": "2023-10-31T09:42:54.389663Z",
     "iopub.status.idle": "2023-10-31T09:42:54.394832Z",
     "shell.execute_reply": "2023-10-31T09:42:54.393710Z"
    },
    "papermill": {
     "duration": 0.121334,
     "end_time": "2023-10-31T09:42:54.397195",
     "exception": false,
     "start_time": "2023-10-31T09:42:54.275861",
     "status": "completed"
    },
    "tags": []
   },
   "outputs": [],
   "source": [
    "true = test['label'].values\n",
    "true = np.array(true)"
   ]
  },
  {
   "cell_type": "code",
   "execution_count": 88,
   "id": "d4806c48",
   "metadata": {
    "execution": {
     "iopub.execute_input": "2023-10-31T09:42:54.654578Z",
     "iopub.status.busy": "2023-10-31T09:42:54.653698Z",
     "iopub.status.idle": "2023-10-31T09:42:54.660261Z",
     "shell.execute_reply": "2023-10-31T09:42:54.659400Z"
    },
    "papermill": {
     "duration": 0.132275,
     "end_time": "2023-10-31T09:42:54.662197",
     "exception": false,
     "start_time": "2023-10-31T09:42:54.529922",
     "status": "completed"
    },
    "tags": []
   },
   "outputs": [
    {
     "data": {
      "text/plain": [
       "array([1, 0, 2, 1, 0, 2, 1, 1, 2, 0])"
      ]
     },
     "execution_count": 88,
     "metadata": {},
     "output_type": "execute_result"
    }
   ],
   "source": [
    "true[:10]"
   ]
  },
  {
   "cell_type": "code",
   "execution_count": 89,
   "id": "182f5527",
   "metadata": {
    "execution": {
     "iopub.execute_input": "2023-10-31T09:42:54.897606Z",
     "iopub.status.busy": "2023-10-31T09:42:54.897215Z",
     "iopub.status.idle": "2023-10-31T09:42:54.901689Z",
     "shell.execute_reply": "2023-10-31T09:42:54.900817Z"
    },
    "papermill": {
     "duration": 0.12491,
     "end_time": "2023-10-31T09:42:54.903589",
     "exception": false,
     "start_time": "2023-10-31T09:42:54.778679",
     "status": "completed"
    },
    "tags": []
   },
   "outputs": [],
   "source": [
    "true_b = true.copy()"
   ]
  },
  {
   "cell_type": "code",
   "execution_count": 90,
   "id": "10440676",
   "metadata": {
    "execution": {
     "iopub.execute_input": "2023-10-31T09:42:55.132421Z",
     "iopub.status.busy": "2023-10-31T09:42:55.132053Z",
     "iopub.status.idle": "2023-10-31T09:42:55.136750Z",
     "shell.execute_reply": "2023-10-31T09:42:55.135952Z"
    },
    "papermill": {
     "duration": 0.122049,
     "end_time": "2023-10-31T09:42:55.138956",
     "exception": false,
     "start_time": "2023-10-31T09:42:55.016907",
     "status": "completed"
    },
    "tags": []
   },
   "outputs": [],
   "source": [
    "for i in range(100):\n",
    "    true_b[i] = 0"
   ]
  },
  {
   "cell_type": "code",
   "execution_count": 91,
   "id": "7c82831c",
   "metadata": {
    "execution": {
     "iopub.execute_input": "2023-10-31T09:42:55.367051Z",
     "iopub.status.busy": "2023-10-31T09:42:55.366682Z",
     "iopub.status.idle": "2023-10-31T09:42:55.373004Z",
     "shell.execute_reply": "2023-10-31T09:42:55.372188Z"
    },
    "papermill": {
     "duration": 0.122366,
     "end_time": "2023-10-31T09:42:55.374815",
     "exception": false,
     "start_time": "2023-10-31T09:42:55.252449",
     "status": "completed"
    },
    "tags": []
   },
   "outputs": [
    {
     "data": {
      "text/plain": [
       "array([0, 0, 0, 0, 0, 0, 0, 0, 0, 0])"
      ]
     },
     "execution_count": 91,
     "metadata": {},
     "output_type": "execute_result"
    }
   ],
   "source": [
    "true_b[:10]"
   ]
  },
  {
   "cell_type": "code",
   "execution_count": 92,
   "id": "5b3bc390",
   "metadata": {
    "execution": {
     "iopub.execute_input": "2023-10-31T09:42:55.602475Z",
     "iopub.status.busy": "2023-10-31T09:42:55.602091Z",
     "iopub.status.idle": "2023-10-31T09:42:55.874703Z",
     "shell.execute_reply": "2023-10-31T09:42:55.873762Z"
    },
    "papermill": {
     "duration": 0.388483,
     "end_time": "2023-10-31T09:42:55.876800",
     "exception": false,
     "start_time": "2023-10-31T09:42:55.488317",
     "status": "completed"
    },
    "tags": []
   },
   "outputs": [
    {
     "data": {
      "image/png": "[encoded data removed]",
      "text/plain": [
       "<Figure size 640x480 with 1 Axes>"
      ]
     },
     "metadata": {},
     "output_type": "display_data"
    }
   ],
   "source": [
    "from sklearn.metrics import roc_curve, auc\n",
    "# Calculate the ROC curve for each class\n",
    "fpr = {}\n",
    "tpr = {}\n",
    "roc_auc = {}\n",
    "\n",
    "for i in range(3):\n",
    "    fpr[i], tpr[i], _ = roc_curve(true == i, predict[:, i])\n",
    "    roc_auc[i] = auc(fpr[i], tpr[i])\n",
    "\n",
    "# Plot the ROC curves for each class\n",
    "plt.figure()\n",
    "for i in range(3):\n",
    "    plt.plot(fpr[i], tpr[i], label=f'Class {i} (AUC = {roc_auc[i]:.5f})')\n",
    "\n",
    "plt.plot([0, 1], [0, 1], color='gray', linestyle='--', label='Chance level(AUC = 0.5)')\n",
    "plt.xlabel('False Positive Rate')\n",
    "plt.ylabel('True Positive Rate')\n",
    "# plt.title('Multi-Class ROC Curv')\n",
    "plt.legend(loc='lower right')\n",
    "plt.show()\n"
   ]
  },
  {
   "cell_type": "markdown",
   "id": "0678e770",
   "metadata": {
    "papermill": {
     "duration": 0.112814,
     "end_time": "2023-10-31T09:42:56.102721",
     "exception": false,
     "start_time": "2023-10-31T09:42:55.989907",
     "status": "completed"
    },
    "tags": []
   },
   "source": [
    "## Now Classification Report"
   ]
  },
  {
   "cell_type": "code",
   "execution_count": 93,
   "id": "1bb9d7ac",
   "metadata": {
    "execution": {
     "iopub.execute_input": "2023-10-31T09:42:56.331210Z",
     "iopub.status.busy": "2023-10-31T09:42:56.330852Z",
     "iopub.status.idle": "2023-10-31T09:42:56.337043Z",
     "shell.execute_reply": "2023-10-31T09:42:56.336224Z"
    },
    "papermill": {
     "duration": 0.122731,
     "end_time": "2023-10-31T09:42:56.339112",
     "exception": false,
     "start_time": "2023-10-31T09:42:56.216381",
     "status": "completed"
    },
    "tags": []
   },
   "outputs": [
    {
     "data": {
      "text/plain": [
       "array([1, 0, 2, 1, 0, 2, 1, 1, 2, 0, 0, 0, 0, 2])"
      ]
     },
     "execution_count": 93,
     "metadata": {},
     "output_type": "execute_result"
    }
   ],
   "source": [
    "true[:14]"
   ]
  },
  {
   "cell_type": "code",
   "execution_count": 94,
   "id": "ec06a441",
   "metadata": {
    "execution": {
     "iopub.execute_input": "2023-10-31T09:42:56.570087Z",
     "iopub.status.busy": "2023-10-31T09:42:56.569743Z",
     "iopub.status.idle": "2023-10-31T09:42:56.575872Z",
     "shell.execute_reply": "2023-10-31T09:42:56.575034Z"
    },
    "papermill": {
     "duration": 0.123584,
     "end_time": "2023-10-31T09:42:56.577776",
     "exception": false,
     "start_time": "2023-10-31T09:42:56.454192",
     "status": "completed"
    },
    "tags": []
   },
   "outputs": [
    {
     "data": {
      "text/plain": [
       "array([1, 0, 2, 1, 0, 2, 1, 1, 2, 0, 0, 0, 0, 2])"
      ]
     },
     "execution_count": 94,
     "metadata": {},
     "output_type": "execute_result"
    }
   ],
   "source": [
    "y_true[:14]"
   ]
  },
  {
   "cell_type": "code",
   "execution_count": 95,
   "id": "ec0002fb",
   "metadata": {
    "execution": {
     "iopub.execute_input": "2023-10-31T09:42:56.810399Z",
     "iopub.status.busy": "2023-10-31T09:42:56.809595Z",
     "iopub.status.idle": "2023-10-31T09:42:56.832382Z",
     "shell.execute_reply": "2023-10-31T09:42:56.831525Z"
    },
    "papermill": {
     "duration": 0.142968,
     "end_time": "2023-10-31T09:42:56.834385",
     "exception": false,
     "start_time": "2023-10-31T09:42:56.691417",
     "status": "completed"
    },
    "tags": []
   },
   "outputs": [
    {
     "data": {
      "text/html": [
       "<div>\n",
       "<style scoped>\n",
       "    .dataframe tbody tr th:only-of-type {\n",
       "        vertical-align: middle;\n",
       "    }\n",
       "\n",
       "    .dataframe tbody tr th {\n",
       "        vertical-align: top;\n",
       "    }\n",
       "\n",
       "    .dataframe thead th {\n",
       "        text-align: right;\n",
       "    }\n",
       "</style>\n",
       "<table border=\"1\" class=\"dataframe\">\n",
       "  <thead>\n",
       "    <tr style=\"text-align: right;\">\n",
       "      <th></th>\n",
       "      <th>precision</th>\n",
       "      <th>recall</th>\n",
       "      <th>f1-score</th>\n",
       "      <th>support</th>\n",
       "    </tr>\n",
       "  </thead>\n",
       "  <tbody>\n",
       "    <tr>\n",
       "      <th>0</th>\n",
       "      <td>1.00</td>\n",
       "      <td>0.97</td>\n",
       "      <td>0.99</td>\n",
       "      <td>75.00</td>\n",
       "    </tr>\n",
       "    <tr>\n",
       "      <th>1</th>\n",
       "      <td>0.93</td>\n",
       "      <td>0.98</td>\n",
       "      <td>0.96</td>\n",
       "      <td>58.00</td>\n",
       "    </tr>\n",
       "    <tr>\n",
       "      <th>2</th>\n",
       "      <td>0.98</td>\n",
       "      <td>0.96</td>\n",
       "      <td>0.97</td>\n",
       "      <td>57.00</td>\n",
       "    </tr>\n",
       "    <tr>\n",
       "      <th>accuracy</th>\n",
       "      <td>0.97</td>\n",
       "      <td>0.97</td>\n",
       "      <td>0.97</td>\n",
       "      <td>0.97</td>\n",
       "    </tr>\n",
       "    <tr>\n",
       "      <th>macro avg</th>\n",
       "      <td>0.97</td>\n",
       "      <td>0.97</td>\n",
       "      <td>0.97</td>\n",
       "      <td>190.00</td>\n",
       "    </tr>\n",
       "    <tr>\n",
       "      <th>weighted avg</th>\n",
       "      <td>0.97</td>\n",
       "      <td>0.97</td>\n",
       "      <td>0.97</td>\n",
       "      <td>190.00</td>\n",
       "    </tr>\n",
       "  </tbody>\n",
       "</table>\n",
       "</div>"
      ],
      "text/plain": [
       "              precision  recall  f1-score  support\n",
       "0                  1.00    0.97      0.99    75.00\n",
       "1                  0.93    0.98      0.96    58.00\n",
       "2                  0.98    0.96      0.97    57.00\n",
       "accuracy           0.97    0.97      0.97     0.97\n",
       "macro avg          0.97    0.97      0.97   190.00\n",
       "weighted avg       0.97    0.97      0.97   190.00"
      ]
     },
     "execution_count": 95,
     "metadata": {},
     "output_type": "execute_result"
    }
   ],
   "source": [
    "from sklearn.metrics import classification_report\n",
    "\n",
    "report = classification_report(y_true, y_pred, output_dict=True)\n",
    "\n",
    "cr_df = pd.DataFrame(report).transpose()\n",
    "cr_df = cr_df.round(2)\n",
    "cr_df"
   ]
  },
  {
   "cell_type": "markdown",
   "id": "bba01429",
   "metadata": {
    "papermill": {
     "duration": 0.113156,
     "end_time": "2023-10-31T09:42:57.060873",
     "exception": false,
     "start_time": "2023-10-31T09:42:56.947717",
     "status": "completed"
    },
    "tags": []
   },
   "source": [
    "### ERROR CORRECTION"
   ]
  },
  {
   "cell_type": "code",
   "execution_count": 96,
   "id": "5d6396f5",
   "metadata": {
    "execution": {
     "iopub.execute_input": "2023-10-31T09:42:57.290290Z",
     "iopub.status.busy": "2023-10-31T09:42:57.289407Z",
     "iopub.status.idle": "2023-10-31T09:42:57.298564Z",
     "shell.execute_reply": "2023-10-31T09:42:57.297620Z"
    },
    "papermill": {
     "duration": 0.125455,
     "end_time": "2023-10-31T09:42:57.300419",
     "exception": false,
     "start_time": "2023-10-31T09:42:57.174964",
     "status": "completed"
    },
    "tags": []
   },
   "outputs": [
    {
     "data": {
      "text/html": [
       "<div>\n",
       "<style scoped>\n",
       "    .dataframe tbody tr th:only-of-type {\n",
       "        vertical-align: middle;\n",
       "    }\n",
       "\n",
       "    .dataframe tbody tr th {\n",
       "        vertical-align: top;\n",
       "    }\n",
       "\n",
       "    .dataframe thead th {\n",
       "        text-align: right;\n",
       "    }\n",
       "</style>\n",
       "<table border=\"1\" class=\"dataframe\">\n",
       "  <thead>\n",
       "    <tr style=\"text-align: right;\">\n",
       "      <th></th>\n",
       "      <th>text</th>\n",
       "      <th>label</th>\n",
       "      <th>num_label</th>\n",
       "    </tr>\n",
       "  </thead>\n",
       "  <tbody>\n",
       "    <tr>\n",
       "      <th>0</th>\n",
       "      <td>সন্ধ্যায় পাখিরা বাসায় ফেরে</td>\n",
       "      <td>Simple</td>\n",
       "      <td>0</td>\n",
       "    </tr>\n",
       "    <tr>\n",
       "      <th>1</th>\n",
       "      <td>সন্ধ্যা হয় এবং পাখিরা বাসায় ফেরে</td>\n",
       "      <td>Compound</td>\n",
       "      <td>2</td>\n",
       "    </tr>\n",
       "  </tbody>\n",
       "</table>\n",
       "</div>"
      ],
      "text/plain": [
       "                               text     label  num_label\n",
       "0        সন্ধ্যায় পাখিরা বাসায় ফেরে    Simple          0\n",
       "1  সন্ধ্যা হয় এবং পাখিরা বাসায় ফেরে  Compound          2"
      ]
     },
     "execution_count": 96,
     "metadata": {},
     "output_type": "execute_result"
    }
   ],
   "source": [
    "data.head(2)"
   ]
  },
  {
   "cell_type": "code",
   "execution_count": 97,
   "id": "1f8ba0b2",
   "metadata": {
    "execution": {
     "iopub.execute_input": "2023-10-31T09:42:57.532598Z",
     "iopub.status.busy": "2023-10-31T09:42:57.531691Z",
     "iopub.status.idle": "2023-10-31T09:42:57.535934Z",
     "shell.execute_reply": "2023-10-31T09:42:57.535039Z"
    },
    "papermill": {
     "duration": 0.121773,
     "end_time": "2023-10-31T09:42:57.537911",
     "exception": false,
     "start_time": "2023-10-31T09:42:57.416138",
     "status": "completed"
    },
    "tags": []
   },
   "outputs": [],
   "source": [
    "# tqdm.pandas()\n",
    "# data['pred']= data['text'].progress_apply(custom_test_up)"
   ]
  },
  {
   "cell_type": "code",
   "execution_count": 98,
   "id": "d82dbd61",
   "metadata": {
    "execution": {
     "iopub.execute_input": "2023-10-31T09:42:57.768884Z",
     "iopub.status.busy": "2023-10-31T09:42:57.768532Z",
     "iopub.status.idle": "2023-10-31T09:42:57.772572Z",
     "shell.execute_reply": "2023-10-31T09:42:57.771619Z"
    },
    "papermill": {
     "duration": 0.12253,
     "end_time": "2023-10-31T09:42:57.774531",
     "exception": false,
     "start_time": "2023-10-31T09:42:57.652001",
     "status": "completed"
    },
    "tags": []
   },
   "outputs": [],
   "source": [
    "# y_true = data['num_label'].values\n",
    "# y_pred = data['pred'].values"
   ]
  },
  {
   "cell_type": "code",
   "execution_count": 99,
   "id": "f156b08d",
   "metadata": {
    "execution": {
     "iopub.execute_input": "2023-10-31T09:42:58.004682Z",
     "iopub.status.busy": "2023-10-31T09:42:58.003852Z",
     "iopub.status.idle": "2023-10-31T09:42:58.008111Z",
     "shell.execute_reply": "2023-10-31T09:42:58.007165Z"
    },
    "papermill": {
     "duration": 0.121193,
     "end_time": "2023-10-31T09:42:58.010173",
     "exception": false,
     "start_time": "2023-10-31T09:42:57.888980",
     "status": "completed"
    },
    "tags": []
   },
   "outputs": [],
   "source": [
    "# confusion_matrix = metrics.confusion_matrix(y_true, y_pred)\n",
    "\n",
    "# cm_display = metrics.ConfusionMatrixDisplay(confusion_matrix = confusion_matrix, display_labels = [0,1,2])\n",
    "\n",
    "# cm_display.plot()\n",
    "# plt.show()"
   ]
  },
  {
   "cell_type": "code",
   "execution_count": 100,
   "id": "cf38cdc5",
   "metadata": {
    "execution": {
     "iopub.execute_input": "2023-10-31T09:42:58.241030Z",
     "iopub.status.busy": "2023-10-31T09:42:58.240358Z",
     "iopub.status.idle": "2023-10-31T09:42:58.247255Z",
     "shell.execute_reply": "2023-10-31T09:42:58.246386Z"
    },
    "papermill": {
     "duration": 0.124744,
     "end_time": "2023-10-31T09:42:58.249210",
     "exception": false,
     "start_time": "2023-10-31T09:42:58.124466",
     "status": "completed"
    },
    "tags": []
   },
   "outputs": [
    {
     "data": {
      "text/plain": [
       "0.9736842105263158"
      ]
     },
     "execution_count": 100,
     "metadata": {},
     "output_type": "execute_result"
    }
   ],
   "source": [
    "accuracy_score(y_true,y_pred)"
   ]
  },
  {
   "cell_type": "code",
   "execution_count": 101,
   "id": "f4a9f72b",
   "metadata": {
    "execution": {
     "iopub.execute_input": "2023-10-31T09:42:58.479949Z",
     "iopub.status.busy": "2023-10-31T09:42:58.479586Z",
     "iopub.status.idle": "2023-10-31T09:42:58.488692Z",
     "shell.execute_reply": "2023-10-31T09:42:58.487760Z"
    },
    "papermill": {
     "duration": 0.127215,
     "end_time": "2023-10-31T09:42:58.490555",
     "exception": false,
     "start_time": "2023-10-31T09:42:58.363340",
     "status": "completed"
    },
    "tags": []
   },
   "outputs": [
    {
     "data": {
      "text/html": [
       "<div>\n",
       "<style scoped>\n",
       "    .dataframe tbody tr th:only-of-type {\n",
       "        vertical-align: middle;\n",
       "    }\n",
       "\n",
       "    .dataframe tbody tr th {\n",
       "        vertical-align: top;\n",
       "    }\n",
       "\n",
       "    .dataframe thead th {\n",
       "        text-align: right;\n",
       "    }\n",
       "</style>\n",
       "<table border=\"1\" class=\"dataframe\">\n",
       "  <thead>\n",
       "    <tr style=\"text-align: right;\">\n",
       "      <th></th>\n",
       "      <th>text</th>\n",
       "      <th>label</th>\n",
       "      <th>num_label</th>\n",
       "    </tr>\n",
       "  </thead>\n",
       "  <tbody>\n",
       "    <tr>\n",
       "      <th>0</th>\n",
       "      <td>সন্ধ্যায় পাখিরা বাসায় ফেরে</td>\n",
       "      <td>Simple</td>\n",
       "      <td>0</td>\n",
       "    </tr>\n",
       "    <tr>\n",
       "      <th>1</th>\n",
       "      <td>সন্ধ্যা হয় এবং পাখিরা বাসায় ফেরে</td>\n",
       "      <td>Compound</td>\n",
       "      <td>2</td>\n",
       "    </tr>\n",
       "  </tbody>\n",
       "</table>\n",
       "</div>"
      ],
      "text/plain": [
       "                               text     label  num_label\n",
       "0        সন্ধ্যায় পাখিরা বাসায় ফেরে    Simple          0\n",
       "1  সন্ধ্যা হয় এবং পাখিরা বাসায় ফেরে  Compound          2"
      ]
     },
     "execution_count": 101,
     "metadata": {},
     "output_type": "execute_result"
    }
   ],
   "source": [
    "data.head(2)"
   ]
  },
  {
   "cell_type": "code",
   "execution_count": 102,
   "id": "8c5852a1",
   "metadata": {
    "execution": {
     "iopub.execute_input": "2023-10-31T09:42:58.720743Z",
     "iopub.status.busy": "2023-10-31T09:42:58.720367Z",
     "iopub.status.idle": "2023-10-31T09:42:58.724837Z",
     "shell.execute_reply": "2023-10-31T09:42:58.723948Z"
    },
    "papermill": {
     "duration": 0.122015,
     "end_time": "2023-10-31T09:42:58.726743",
     "exception": false,
     "start_time": "2023-10-31T09:42:58.604728",
     "status": "completed"
    },
    "tags": []
   },
   "outputs": [],
   "source": [
    "# list1 = []\n",
    "# list2 = []\n",
    "# list3 = []\n",
    "# list4 = []\n",
    "# print(\"Label\\t\",\"prediction\\t\",\"Text\")\n",
    "# index = 0\n",
    "# for i ,j ,k in zip(data['num_label'] , data['pred'],data['text']):\n",
    "#     if i!=j:\n",
    "#         list1.append(i)\n",
    "#         list2.append(j)\n",
    "#         list3.append(k)\n",
    "#         list4.append(index)\n",
    "#     index += 1\n",
    "\n",
    "# nc_data = {\n",
    "#     'Index' : list4,\n",
    "#     'Label' : list1,\n",
    "#     'Prediction': list2,\n",
    "#     'Text': list3\n",
    "# }\n",
    "# output = pd.DataFrame(nc_data)\n",
    "# output.to_csv('/kaggle/working/output_alldata.csv', index=False, encoding='utf-8')"
   ]
  },
  {
   "cell_type": "code",
   "execution_count": 103,
   "id": "2013e504",
   "metadata": {
    "execution": {
     "iopub.execute_input": "2023-10-31T09:42:58.961553Z",
     "iopub.status.busy": "2023-10-31T09:42:58.961161Z",
     "iopub.status.idle": "2023-10-31T09:42:58.965347Z",
     "shell.execute_reply": "2023-10-31T09:42:58.964503Z"
    },
    "papermill": {
     "duration": 0.123718,
     "end_time": "2023-10-31T09:42:58.967191",
     "exception": false,
     "start_time": "2023-10-31T09:42:58.843473",
     "status": "completed"
    },
    "tags": []
   },
   "outputs": [],
   "source": [
    "# output"
   ]
  },
  {
   "cell_type": "code",
   "execution_count": 104,
   "id": "ca9a1502",
   "metadata": {
    "execution": {
     "iopub.execute_input": "2023-10-31T09:42:59.197172Z",
     "iopub.status.busy": "2023-10-31T09:42:59.196819Z",
     "iopub.status.idle": "2023-10-31T09:42:59.201109Z",
     "shell.execute_reply": "2023-10-31T09:42:59.200311Z"
    },
    "papermill": {
     "duration": 0.121426,
     "end_time": "2023-10-31T09:42:59.202922",
     "exception": false,
     "start_time": "2023-10-31T09:42:59.081496",
     "status": "completed"
    },
    "tags": []
   },
   "outputs": [],
   "source": [
    "# data['text'][87]"
   ]
  },
  {
   "cell_type": "code",
   "execution_count": null,
   "id": "c968cfc3",
   "metadata": {
    "papermill": {
     "duration": 0.113838,
     "end_time": "2023-10-31T09:42:59.431569",
     "exception": false,
     "start_time": "2023-10-31T09:42:59.317731",
     "status": "completed"
    },
    "tags": []
   },
   "outputs": [],
   "source": []
  }
 ],
 "metadata": {
  "kernelspec": {
   "display_name": "Python 3",
   "language": "python",
   "name": "python3"
  },
  "language_info": {
   "codemirror_mode": {
    "name": "ipython",
    "version": 3
   },
   "file_extension": ".py",
   "mimetype": "text/x-python",
   "name": "python",
   "nbconvert_exporter": "python",
   "pygments_lexer": "ipython3",
   "version": "3.10.10"
  },
  "papermill": {
   "default_parameters": {},
   "duration": 316.05269,
   "end_time": "2023-10-31T09:43:02.791099",
   "environment_variables": {},
   "exception": null,
   "input_path": "__notebook__.ipynb",
   "output_path": "__notebook__.ipynb",
   "parameters": {},
   "start_time": "2023-10-31T09:37:46.738409",
   "version": "2.4.0"
  },
  "widgets": {
   "application/vnd.jupyter.widget-state+json": {
    "state": {
     "01c12f8ea60b475c9fcd14f8353dbcb0": {
      "model_module": "@jupyter-widgets/base",
      "model_module_version": "1.2.0",
      "model_name": "LayoutModel",
      "state": {
       "_model_module": "@jupyter-widgets/base",
       "_model_module_version": "1.2.0",
       "_model_name": "LayoutModel",
       "_view_count": null,
       "_view_module": "@jupyter-widgets/base",
       "_view_module_version": "1.2.0",
       "_view_name": "LayoutView",
       "align_content": null,
       "align_items": null,
       "align_self": null,
       "border": null,
       "bottom": null,
       "display": null,
       "flex": null,
       "flex_flow": null,
       "grid_area": null,
       "grid_auto_columns": null,
       "grid_auto_flow": null,
       "grid_auto_rows": null,
       "grid_column": null,
       "grid_gap": null,
       "grid_row": null,
       "grid_template_areas": null,
       "grid_template_columns": null,
       "grid_template_rows": null,
       "height": null,
       "justify_content": null,
       "justify_items": null,
       "left": null,
       "margin": null,
       "max_height": null,
       "max_width": null,
       "min_height": null,
       "min_width": null,
       "object_fit": null,
       "object_position": null,
       "order": null,
       "overflow": null,
       "overflow_x": null,
       "overflow_y": null,
       "padding": null,
       "right": null,
       "top": null,
       "visibility": null,
       "width": null
      }
     },
     "04c334d6b7f74c31a0baa813bef997c3": {
      "model_module": "@jupyter-widgets/base",
      "model_module_version": "1.2.0",
      "model_name": "LayoutModel",
      "state": {
       "_model_module": "@jupyter-widgets/base",
       "_model_module_version": "1.2.0",
       "_model_name": "LayoutModel",
       "_view_count": null,
       "_view_module": "@jupyter-widgets/base",
       "_view_module_version": "1.2.0",
       "_view_name": "LayoutView",
       "align_content": null,
       "align_items": null,
       "align_self": null,
       "border": null,
       "bottom": null,
       "display": null,
       "flex": null,
       "flex_flow": null,
       "grid_area": null,
       "grid_auto_columns": null,
       "grid_auto_flow": null,
       "grid_auto_rows": null,
       "grid_column": null,
       "grid_gap": null,
       "grid_row": null,
       "grid_template_areas": null,
       "grid_template_columns": null,
       "grid_template_rows": null,
       "height": null,
       "justify_content": null,
       "justify_items": null,
       "left": null,
       "margin": null,
       "max_height": null,
       "max_width": null,
       "min_height": null,
       "min_width": null,
       "object_fit": null,
       "object_position": null,
       "order": null,
       "overflow": null,
       "overflow_x": null,
       "overflow_y": null,
       "padding": null,
       "right": null,
       "top": null,
       "visibility": null,
       "width": null
      }
     },
     "07e1545b2a8b4289a20e7889ed553f67": {
      "model_module": "@jupyter-widgets/base",
      "model_module_version": "1.2.0",
      "model_name": "LayoutModel",
      "state": {
       "_model_module": "@jupyter-widgets/base",
       "_model_module_version": "1.2.0",
       "_model_name": "LayoutModel",
       "_view_count": null,
       "_view_module": "@jupyter-widgets/base",
       "_view_module_version": "1.2.0",
       "_view_name": "LayoutView",
       "align_content": null,
       "align_items": null,
       "align_self": null,
       "border": null,
       "bottom": null,
       "display": null,
       "flex": null,
       "flex_flow": null,
       "grid_area": null,
       "grid_auto_columns": null,
       "grid_auto_flow": null,
       "grid_auto_rows": null,
       "grid_column": null,
       "grid_gap": null,
       "grid_row": null,
       "grid_template_areas": null,
       "grid_template_columns": null,
       "grid_template_rows": null,
       "height": null,
       "justify_content": null,
       "justify_items": null,
       "left": null,
       "margin": null,
       "max_height": null,
       "max_width": null,
       "min_height": null,
       "min_width": null,
       "object_fit": null,
       "object_position": null,
       "order": null,
       "overflow": null,
       "overflow_x": null,
       "overflow_y": null,
       "padding": null,
       "right": null,
       "top": null,
       "visibility": null,
       "width": null
      }
     },
     "1167fe7eacba499e9e38c459fb68ddcf": {
      "model_module": "@jupyter-widgets/controls",
      "model_module_version": "1.5.0",
      "model_name": "FloatProgressModel",
      "state": {
       "_dom_classes": [],
       "_model_module": "@jupyter-widgets/controls",
       "_model_module_version": "1.5.0",
       "_model_name": "FloatProgressModel",
       "_view_count": null,
       "_view_module": "@jupyter-widgets/controls",
       "_view_module_version": "1.5.0",
       "_view_name": "ProgressView",
       "bar_style": "success",
       "description": "",
       "description_tooltip": null,
       "layout": "IPY_MODEL_01c12f8ea60b475c9fcd14f8353dbcb0",
       "max": 660393036.0,
       "min": 0.0,
       "orientation": "horizontal",
       "style": "IPY_MODEL_de98bc5268414af88a38e32eee7b892c",
       "value": 660393036.0
      }
     },
     "11f5881504da4b0ebdb6dc697359db97": {
      "model_module": "@jupyter-widgets/controls",
      "model_module_version": "1.5.0",
      "model_name": "FloatProgressModel",
      "state": {
       "_dom_classes": [],
       "_model_module": "@jupyter-widgets/controls",
       "_model_module_version": "1.5.0",
       "_model_name": "FloatProgressModel",
       "_view_count": null,
       "_view_module": "@jupyter-widgets/controls",
       "_view_module_version": "1.5.0",
       "_view_name": "ProgressView",
       "bar_style": "success",
       "description": "",
       "description_tooltip": null,
       "layout": "IPY_MODEL_a5f36cb3342a4203adff340765c337a7",
       "max": 4.0,
       "min": 0.0,
       "orientation": "horizontal",
       "style": "IPY_MODEL_395e765537c14358a132b4a5a952812a",
       "value": 4.0
      }
     },
     "186187ca7f9d4f60a5941a6022d0c0ba": {
      "model_module": "@jupyter-widgets/base",
      "model_module_version": "1.2.0",
      "model_name": "LayoutModel",
      "state": {
       "_model_module": "@jupyter-widgets/base",
       "_model_module_version": "1.2.0",
       "_model_name": "LayoutModel",
       "_view_count": null,
       "_view_module": "@jupyter-widgets/base",
       "_view_module_version": "1.2.0",
       "_view_name": "LayoutView",
       "align_content": null,
       "align_items": null,
       "align_self": null,
       "border": null,
       "bottom": null,
       "display": null,
       "flex": null,
       "flex_flow": null,
       "grid_area": null,
       "grid_auto_columns": null,
       "grid_auto_flow": null,
       "grid_auto_rows": null,
       "grid_column": null,
       "grid_gap": null,
       "grid_row": null,
       "grid_template_areas": null,
       "grid_template_columns": null,
       "grid_template_rows": null,
       "height": null,
       "justify_content": null,
       "justify_items": null,
       "left": null,
       "margin": null,
       "max_height": null,
       "max_width": null,
       "min_height": null,
       "min_width": null,
       "object_fit": null,
       "object_position": null,
       "order": null,
       "overflow": null,
       "overflow_x": null,
       "overflow_y": null,
       "padding": null,
       "right": null,
       "top": null,
       "visibility": null,
       "width": null
      }
     },
     "1d568fc86f6c42c68303c8e6e3200219": {
      "model_module": "@jupyter-widgets/base",
      "model_module_version": "1.2.0",
      "model_name": "LayoutModel",
      "state": {
       "_model_module": "@jupyter-widgets/base",
       "_model_module_version": "1.2.0",
       "_model_name": "LayoutModel",
       "_view_count": null,
       "_view_module": "@jupyter-widgets/base",
       "_view_module_version": "1.2.0",
       "_view_name": "LayoutView",
       "align_content": null,
       "align_items": null,
       "align_self": null,
       "border": null,
       "bottom": null,
       "display": null,
       "flex": null,
       "flex_flow": null,
       "grid_area": null,
       "grid_auto_columns": null,
       "grid_auto_flow": null,
       "grid_auto_rows": null,
       "grid_column": null,
       "grid_gap": null,
       "grid_row": null,
       "grid_template_areas": null,
       "grid_template_columns": null,
       "grid_template_rows": null,
       "height": null,
       "justify_content": null,
       "justify_items": null,
       "left": null,
       "margin": null,
       "max_height": null,
       "max_width": null,
       "min_height": null,
       "min_width": null,
       "object_fit": null,
       "object_position": null,
       "order": null,
       "overflow": null,
       "overflow_x": null,
       "overflow_y": null,
       "padding": null,
       "right": null,
       "top": null,
       "visibility": null,
       "width": null
      }
     },
     "2389e35c827449fe8902c9b4d5da5819": {
      "model_module": "@jupyter-widgets/base",
      "model_module_version": "1.2.0",
      "model_name": "LayoutModel",
      "state": {
       "_model_module": "@jupyter-widgets/base",
       "_model_module_version": "1.2.0",
       "_model_name": "LayoutModel",
       "_view_count": null,
       "_view_module": "@jupyter-widgets/base",
       "_view_module_version": "1.2.0",
       "_view_name": "LayoutView",
       "align_content": null,
       "align_items": null,
       "align_self": null,
       "border": null,
       "bottom": null,
       "display": null,
       "flex": null,
       "flex_flow": null,
       "grid_area": null,
       "grid_auto_columns": null,
       "grid_auto_flow": null,
       "grid_auto_rows": null,
       "grid_column": null,
       "grid_gap": null,
       "grid_row": null,
       "grid_template_areas": null,
       "grid_template_columns": null,
       "grid_template_rows": null,
       "height": null,
       "justify_content": null,
       "justify_items": null,
       "left": null,
       "margin": null,
       "max_height": null,
       "max_width": null,
       "min_height": null,
       "min_width": null,
       "object_fit": null,
       "object_position": null,
       "order": null,
       "overflow": null,
       "overflow_x": null,
       "overflow_y": null,
       "padding": null,
       "right": null,
       "top": null,
       "visibility": null,
       "width": null
      }
     },
     "26cf83703d91446684db6978977ff83c": {
      "model_module": "@jupyter-widgets/controls",
      "model_module_version": "1.5.0",
      "model_name": "DescriptionStyleModel",
      "state": {
       "_model_module": "@jupyter-widgets/controls",
       "_model_module_version": "1.5.0",
       "_model_name": "DescriptionStyleModel",
       "_view_count": null,
       "_view_module": "@jupyter-widgets/base",
       "_view_module_version": "1.2.0",
       "_view_name": "StyleView",
       "description_width": ""
      }
     },
     "3366303f86ab4b0eb266ea1a8909a5b3": {
      "model_module": "@jupyter-widgets/controls",
      "model_module_version": "1.5.0",
      "model_name": "DescriptionStyleModel",
      "state": {
       "_model_module": "@jupyter-widgets/controls",
       "_model_module_version": "1.5.0",
       "_model_name": "DescriptionStyleModel",
       "_view_count": null,
       "_view_module": "@jupyter-widgets/base",
       "_view_module_version": "1.2.0",
       "_view_name": "StyleView",
       "description_width": ""
      }
     },
     "395e765537c14358a132b4a5a952812a": {
      "model_module": "@jupyter-widgets/controls",
      "model_module_version": "1.5.0",
      "model_name": "ProgressStyleModel",
      "state": {
       "_model_module": "@jupyter-widgets/controls",
       "_model_module_version": "1.5.0",
       "_model_name": "ProgressStyleModel",
       "_view_count": null,
       "_view_module": "@jupyter-widgets/base",
       "_view_module_version": "1.2.0",
       "_view_name": "StyleView",
       "bar_color": null,
       "description_width": ""
      }
     },
     "42a1b15a1fb3472f8afc7ec2ecf4841a": {
      "model_module": "@jupyter-widgets/controls",
      "model_module_version": "1.5.0",
      "model_name": "DescriptionStyleModel",
      "state": {
       "_model_module": "@jupyter-widgets/controls",
       "_model_module_version": "1.5.0",
       "_model_name": "DescriptionStyleModel",
       "_view_count": null,
       "_view_module": "@jupyter-widgets/base",
       "_view_module_version": "1.2.0",
       "_view_name": "StyleView",
       "description_width": ""
      }
     },
     "45b5b4e1892c44c4bc0d31e588f0426b": {
      "model_module": "@jupyter-widgets/controls",
      "model_module_version": "1.5.0",
      "model_name": "HTMLModel",
      "state": {
       "_dom_classes": [],
       "_model_module": "@jupyter-widgets/controls",
       "_model_module_version": "1.5.0",
       "_model_name": "HTMLModel",
       "_view_count": null,
       "_view_module": "@jupyter-widgets/controls",
       "_view_module_version": "1.5.0",
       "_view_name": "HTMLView",
       "description": "",
       "description_tooltip": null,
       "layout": "IPY_MODEL_1d568fc86f6c42c68303c8e6e3200219",
       "placeholder": "​",
       "style": "IPY_MODEL_7699be255b0144a18551ef2d0f00e1fe",
       "value": " 4/4 [00:00&lt;00:00, 11.33ba/s]"
      }
     },
     "49c31ee5ed9440979737ba5323e2377d": {
      "model_module": "@jupyter-widgets/controls",
      "model_module_version": "1.5.0",
      "model_name": "HBoxModel",
      "state": {
       "_dom_classes": [],
       "_model_module": "@jupyter-widgets/controls",
       "_model_module_version": "1.5.0",
       "_model_name": "HBoxModel",
       "_view_count": null,
       "_view_module": "@jupyter-widgets/controls",
       "_view_module_version": "1.5.0",
       "_view_name": "HBoxView",
       "box_style": "",
       "children": [
        "IPY_MODEL_4a451764636d420caf259b24fa09ddc3",
        "IPY_MODEL_11f5881504da4b0ebdb6dc697359db97",
        "IPY_MODEL_45b5b4e1892c44c4bc0d31e588f0426b"
       ],
       "layout": "IPY_MODEL_98a0efc8b5d246539848cedb9877919f"
      }
     },
     "4a451764636d420caf259b24fa09ddc3": {
      "model_module": "@jupyter-widgets/controls",
      "model_module_version": "1.5.0",
      "model_name": "HTMLModel",
      "state": {
       "_dom_classes": [],
       "_model_module": "@jupyter-widgets/controls",
       "_model_module_version": "1.5.0",
       "_model_name": "HTMLModel",
       "_view_count": null,
       "_view_module": "@jupyter-widgets/controls",
       "_view_module_version": "1.5.0",
       "_view_name": "HTMLView",
       "description": "",
       "description_tooltip": null,
       "layout": "IPY_MODEL_8bcb7d57e65048dfad7a33d26b316cba",
       "placeholder": "​",
       "style": "IPY_MODEL_f61144350d8e4f749937902f2bf35c72",
       "value": "100%"
      }
     },
     "4c0859cb71aa42da8fd8628d4728e306": {
      "model_module": "@jupyter-widgets/controls",
      "model_module_version": "1.5.0",
      "model_name": "HTMLModel",
      "state": {
       "_dom_classes": [],
       "_model_module": "@jupyter-widgets/controls",
       "_model_module_version": "1.5.0",
       "_model_name": "HTMLModel",
       "_view_count": null,
       "_view_module": "@jupyter-widgets/controls",
       "_view_module_version": "1.5.0",
       "_view_name": "HTMLView",
       "description": "",
       "description_tooltip": null,
       "layout": "IPY_MODEL_6aae1bdb9407468eb8f7e399a5c064bd",
       "placeholder": "​",
       "style": "IPY_MODEL_6a963a6e7f2542ea9de8bd49125c238d",
       "value": "Downloading model.safetensors: 100%"
      }
     },
     "51bd0168c69043259d1379d642ce5282": {
      "model_module": "@jupyter-widgets/base",
      "model_module_version": "1.2.0",
      "model_name": "LayoutModel",
      "state": {
       "_model_module": "@jupyter-widgets/base",
       "_model_module_version": "1.2.0",
       "_model_name": "LayoutModel",
       "_view_count": null,
       "_view_module": "@jupyter-widgets/base",
       "_view_module_version": "1.2.0",
       "_view_name": "LayoutView",
       "align_content": null,
       "align_items": null,
       "align_self": null,
       "border": null,
       "bottom": null,
       "display": null,
       "flex": null,
       "flex_flow": null,
       "grid_area": null,
       "grid_auto_columns": null,
       "grid_auto_flow": null,
       "grid_auto_rows": null,
       "grid_column": null,
       "grid_gap": null,
       "grid_row": null,
       "grid_template_areas": null,
       "grid_template_columns": null,
       "grid_template_rows": null,
       "height": null,
       "justify_content": null,
       "justify_items": null,
       "left": null,
       "margin": null,
       "max_height": null,
       "max_width": null,
       "min_height": null,
       "min_width": null,
       "object_fit": null,
       "object_position": null,
       "order": null,
       "overflow": null,
       "overflow_x": null,
       "overflow_y": null,
       "padding": null,
       "right": null,
       "top": null,
       "visibility": null,
       "width": null
      }
     },
     "5b8515a9ae54479b9189cad7800d7ded": {
      "model_module": "@jupyter-widgets/controls",
      "model_module_version": "1.5.0",
      "model_name": "HTMLModel",
      "state": {
       "_dom_classes": [],
       "_model_module": "@jupyter-widgets/controls",
       "_model_module_version": "1.5.0",
       "_model_name": "HTMLModel",
       "_view_count": null,
       "_view_module": "@jupyter-widgets/controls",
       "_view_module_version": "1.5.0",
       "_view_name": "HTMLView",
       "description": "",
       "description_tooltip": null,
       "layout": "IPY_MODEL_07e1545b2a8b4289a20e7889ed553f67",
       "placeholder": "​",
       "style": "IPY_MODEL_cefe1f2eab964e698820afdfef43f128",
       "value": " 660M/660M [00:02&lt;00:00, 261MB/s]"
      }
     },
     "5e9dc0a06f514540836f1e479304b856": {
      "model_module": "@jupyter-widgets/controls",
      "model_module_version": "1.5.0",
      "model_name": "DescriptionStyleModel",
      "state": {
       "_model_module": "@jupyter-widgets/controls",
       "_model_module_version": "1.5.0",
       "_model_name": "DescriptionStyleModel",
       "_view_count": null,
       "_view_module": "@jupyter-widgets/base",
       "_view_module_version": "1.2.0",
       "_view_name": "StyleView",
       "description_width": ""
      }
     },
     "687382a39ba34b81a3ebe081ecadd0f3": {
      "model_module": "@jupyter-widgets/controls",
      "model_module_version": "1.5.0",
      "model_name": "ProgressStyleModel",
      "state": {
       "_model_module": "@jupyter-widgets/controls",
       "_model_module_version": "1.5.0",
       "_model_name": "ProgressStyleModel",
       "_view_count": null,
       "_view_module": "@jupyter-widgets/base",
       "_view_module_version": "1.2.0",
       "_view_name": "StyleView",
       "bar_color": null,
       "description_width": ""
      }
     },
     "688a134dab49477f94814d15ed5efb58": {
      "model_module": "@jupyter-widgets/controls",
      "model_module_version": "1.5.0",
      "model_name": "ProgressStyleModel",
      "state": {
       "_model_module": "@jupyter-widgets/controls",
       "_model_module_version": "1.5.0",
       "_model_name": "ProgressStyleModel",
       "_view_count": null,
       "_view_module": "@jupyter-widgets/base",
       "_view_module_version": "1.2.0",
       "_view_name": "StyleView",
       "bar_color": null,
       "description_width": ""
      }
     },
     "6a963a6e7f2542ea9de8bd49125c238d": {
      "model_module": "@jupyter-widgets/controls",
      "model_module_version": "1.5.0",
      "model_name": "DescriptionStyleModel",
      "state": {
       "_model_module": "@jupyter-widgets/controls",
       "_model_module_version": "1.5.0",
       "_model_name": "DescriptionStyleModel",
       "_view_count": null,
       "_view_module": "@jupyter-widgets/base",
       "_view_module_version": "1.2.0",
       "_view_name": "StyleView",
       "description_width": ""
      }
     },
     "6aae1bdb9407468eb8f7e399a5c064bd": {
      "model_module": "@jupyter-widgets/base",
      "model_module_version": "1.2.0",
      "model_name": "LayoutModel",
      "state": {
       "_model_module": "@jupyter-widgets/base",
       "_model_module_version": "1.2.0",
       "_model_name": "LayoutModel",
       "_view_count": null,
       "_view_module": "@jupyter-widgets/base",
       "_view_module_version": "1.2.0",
       "_view_name": "LayoutView",
       "align_content": null,
       "align_items": null,
       "align_self": null,
       "border": null,
       "bottom": null,
       "display": null,
       "flex": null,
       "flex_flow": null,
       "grid_area": null,
       "grid_auto_columns": null,
       "grid_auto_flow": null,
       "grid_auto_rows": null,
       "grid_column": null,
       "grid_gap": null,
       "grid_row": null,
       "grid_template_areas": null,
       "grid_template_columns": null,
       "grid_template_rows": null,
       "height": null,
       "justify_content": null,
       "justify_items": null,
       "left": null,
       "margin": null,
       "max_height": null,
       "max_width": null,
       "min_height": null,
       "min_width": null,
       "object_fit": null,
       "object_position": null,
       "order": null,
       "overflow": null,
       "overflow_x": null,
       "overflow_y": null,
       "padding": null,
       "right": null,
       "top": null,
       "visibility": null,
       "width": null
      }
     },
     "7699be255b0144a18551ef2d0f00e1fe": {
      "model_module": "@jupyter-widgets/controls",
      "model_module_version": "1.5.0",
      "model_name": "DescriptionStyleModel",
      "state": {
       "_model_module": "@jupyter-widgets/controls",
       "_model_module_version": "1.5.0",
       "_model_name": "DescriptionStyleModel",
       "_view_count": null,
       "_view_module": "@jupyter-widgets/base",
       "_view_module_version": "1.2.0",
       "_view_name": "StyleView",
       "description_width": ""
      }
     },
     "786241cef43e44d496af155c28d75b1b": {
      "model_module": "@jupyter-widgets/base",
      "model_module_version": "1.2.0",
      "model_name": "LayoutModel",
      "state": {
       "_model_module": "@jupyter-widgets/base",
       "_model_module_version": "1.2.0",
       "_model_name": "LayoutModel",
       "_view_count": null,
       "_view_module": "@jupyter-widgets/base",
       "_view_module_version": "1.2.0",
       "_view_name": "LayoutView",
       "align_content": null,
       "align_items": null,
       "align_self": null,
       "border": null,
       "bottom": null,
       "display": null,
       "flex": null,
       "flex_flow": null,
       "grid_area": null,
       "grid_auto_columns": null,
       "grid_auto_flow": null,
       "grid_auto_rows": null,
       "grid_column": null,
       "grid_gap": null,
       "grid_row": null,
       "grid_template_areas": null,
       "grid_template_columns": null,
       "grid_template_rows": null,
       "height": null,
       "justify_content": null,
       "justify_items": null,
       "left": null,
       "margin": null,
       "max_height": null,
       "max_width": null,
       "min_height": null,
       "min_width": null,
       "object_fit": null,
       "object_position": null,
       "order": null,
       "overflow": null,
       "overflow_x": null,
       "overflow_y": null,
       "padding": null,
       "right": null,
       "top": null,
       "visibility": null,
       "width": null
      }
     },
     "7b12c727216c4cc2beec25c57a1655f8": {
      "model_module": "@jupyter-widgets/controls",
      "model_module_version": "1.5.0",
      "model_name": "HTMLModel",
      "state": {
       "_dom_classes": [],
       "_model_module": "@jupyter-widgets/controls",
       "_model_module_version": "1.5.0",
       "_model_name": "HTMLModel",
       "_view_count": null,
       "_view_module": "@jupyter-widgets/controls",
       "_view_module_version": "1.5.0",
       "_view_name": "HTMLView",
       "description": "",
       "description_tooltip": null,
       "layout": "IPY_MODEL_aaa4a51c80964bbf9f0994696d451925",
       "placeholder": "​",
       "style": "IPY_MODEL_d10080757c474236abe95053482e57e3",
       "value": "Downloading (…)solve/main/vocab.txt: 100%"
      }
     },
     "83a0730684f34ae7ad91e22f7dce30b1": {
      "model_module": "@jupyter-widgets/base",
      "model_module_version": "1.2.0",
      "model_name": "LayoutModel",
      "state": {
       "_model_module": "@jupyter-widgets/base",
       "_model_module_version": "1.2.0",
       "_model_name": "LayoutModel",
       "_view_count": null,
       "_view_module": "@jupyter-widgets/base",
       "_view_module_version": "1.2.0",
       "_view_name": "LayoutView",
       "align_content": null,
       "align_items": null,
       "align_self": null,
       "border": null,
       "bottom": null,
       "display": null,
       "flex": null,
       "flex_flow": null,
       "grid_area": null,
       "grid_auto_columns": null,
       "grid_auto_flow": null,
       "grid_auto_rows": null,
       "grid_column": null,
       "grid_gap": null,
       "grid_row": null,
       "grid_template_areas": null,
       "grid_template_columns": null,
       "grid_template_rows": null,
       "height": null,
       "justify_content": null,
       "justify_items": null,
       "left": null,
       "margin": null,
       "max_height": null,
       "max_width": null,
       "min_height": null,
       "min_width": null,
       "object_fit": null,
       "object_position": null,
       "order": null,
       "overflow": null,
       "overflow_x": null,
       "overflow_y": null,
       "padding": null,
       "right": null,
       "top": null,
       "visibility": null,
       "width": null
      }
     },
     "83a7eb314613499cb5160f9cdceec114": {
      "model_module": "@jupyter-widgets/base",
      "model_module_version": "1.2.0",
      "model_name": "LayoutModel",
      "state": {
       "_model_module": "@jupyter-widgets/base",
       "_model_module_version": "1.2.0",
       "_model_name": "LayoutModel",
       "_view_count": null,
       "_view_module": "@jupyter-widgets/base",
       "_view_module_version": "1.2.0",
       "_view_name": "LayoutView",
       "align_content": null,
       "align_items": null,
       "align_self": null,
       "border": null,
       "bottom": null,
       "display": null,
       "flex": null,
       "flex_flow": null,
       "grid_area": null,
       "grid_auto_columns": null,
       "grid_auto_flow": null,
       "grid_auto_rows": null,
       "grid_column": null,
       "grid_gap": null,
       "grid_row": null,
       "grid_template_areas": null,
       "grid_template_columns": null,
       "grid_template_rows": null,
       "height": null,
       "justify_content": null,
       "justify_items": null,
       "left": null,
       "margin": null,
       "max_height": null,
       "max_width": null,
       "min_height": null,
       "min_width": null,
       "object_fit": null,
       "object_position": null,
       "order": null,
       "overflow": null,
       "overflow_x": null,
       "overflow_y": null,
       "padding": null,
       "right": null,
       "top": null,
       "visibility": null,
       "width": null
      }
     },
     "887d2c14710544518739fa10f10848fd": {
      "model_module": "@jupyter-widgets/controls",
      "model_module_version": "1.5.0",
      "model_name": "FloatProgressModel",
      "state": {
       "_dom_classes": [],
       "_model_module": "@jupyter-widgets/controls",
       "_model_module_version": "1.5.0",
       "_model_name": "FloatProgressModel",
       "_view_count": null,
       "_view_module": "@jupyter-widgets/controls",
       "_view_module_version": "1.5.0",
       "_view_name": "ProgressView",
       "bar_style": "success",
       "description": "",
       "description_tooltip": null,
       "layout": "IPY_MODEL_e17fe0b497bd430f9a7a9a5be1f90598",
       "max": 1.0,
       "min": 0.0,
       "orientation": "horizontal",
       "style": "IPY_MODEL_687382a39ba34b81a3ebe081ecadd0f3",
       "value": 1.0
      }
     },
     "8b102b2cc1f046dabad4738c20241bf7": {
      "model_module": "@jupyter-widgets/controls",
      "model_module_version": "1.5.0",
      "model_name": "ProgressStyleModel",
      "state": {
       "_model_module": "@jupyter-widgets/controls",
       "_model_module_version": "1.5.0",
       "_model_name": "ProgressStyleModel",
       "_view_count": null,
       "_view_module": "@jupyter-widgets/base",
       "_view_module_version": "1.2.0",
       "_view_name": "StyleView",
       "bar_color": null,
       "description_width": ""
      }
     },
     "8bcb7d57e65048dfad7a33d26b316cba": {
      "model_module": "@jupyter-widgets/base",
      "model_module_version": "1.2.0",
      "model_name": "LayoutModel",
      "state": {
       "_model_module": "@jupyter-widgets/base",
       "_model_module_version": "1.2.0",
       "_model_name": "LayoutModel",
       "_view_count": null,
       "_view_module": "@jupyter-widgets/base",
       "_view_module_version": "1.2.0",
       "_view_name": "LayoutView",
       "align_content": null,
       "align_items": null,
       "align_self": null,
       "border": null,
       "bottom": null,
       "display": null,
       "flex": null,
       "flex_flow": null,
       "grid_area": null,
       "grid_auto_columns": null,
       "grid_auto_flow": null,
       "grid_auto_rows": null,
       "grid_column": null,
       "grid_gap": null,
       "grid_row": null,
       "grid_template_areas": null,
       "grid_template_columns": null,
       "grid_template_rows": null,
       "height": null,
       "justify_content": null,
       "justify_items": null,
       "left": null,
       "margin": null,
       "max_height": null,
       "max_width": null,
       "min_height": null,
       "min_width": null,
       "object_fit": null,
       "object_position": null,
       "order": null,
       "overflow": null,
       "overflow_x": null,
       "overflow_y": null,
       "padding": null,
       "right": null,
       "top": null,
       "visibility": null,
       "width": null
      }
     },
     "8ec88e9a225646ce909d190520103c12": {
      "model_module": "@jupyter-widgets/controls",
      "model_module_version": "1.5.0",
      "model_name": "HTMLModel",
      "state": {
       "_dom_classes": [],
       "_model_module": "@jupyter-widgets/controls",
       "_model_module_version": "1.5.0",
       "_model_name": "HTMLModel",
       "_view_count": null,
       "_view_module": "@jupyter-widgets/controls",
       "_view_module_version": "1.5.0",
       "_view_name": "HTMLView",
       "description": "",
       "description_tooltip": null,
       "layout": "IPY_MODEL_83a7eb314613499cb5160f9cdceec114",
       "placeholder": "​",
       "style": "IPY_MODEL_26cf83703d91446684db6978977ff83c",
       "value": "100%"
      }
     },
     "98a0efc8b5d246539848cedb9877919f": {
      "model_module": "@jupyter-widgets/base",
      "model_module_version": "1.2.0",
      "model_name": "LayoutModel",
      "state": {
       "_model_module": "@jupyter-widgets/base",
       "_model_module_version": "1.2.0",
       "_model_name": "LayoutModel",
       "_view_count": null,
       "_view_module": "@jupyter-widgets/base",
       "_view_module_version": "1.2.0",
       "_view_name": "LayoutView",
       "align_content": null,
       "align_items": null,
       "align_self": null,
       "border": null,
       "bottom": null,
       "display": null,
       "flex": null,
       "flex_flow": null,
       "grid_area": null,
       "grid_auto_columns": null,
       "grid_auto_flow": null,
       "grid_auto_rows": null,
       "grid_column": null,
       "grid_gap": null,
       "grid_row": null,
       "grid_template_areas": null,
       "grid_template_columns": null,
       "grid_template_rows": null,
       "height": null,
       "justify_content": null,
       "justify_items": null,
       "left": null,
       "margin": null,
       "max_height": null,
       "max_width": null,
       "min_height": null,
       "min_width": null,
       "object_fit": null,
       "object_position": null,
       "order": null,
       "overflow": null,
       "overflow_x": null,
       "overflow_y": null,
       "padding": null,
       "right": null,
       "top": null,
       "visibility": null,
       "width": null
      }
     },
     "9db7a67ab7e94f23881fa74b066994e2": {
      "model_module": "@jupyter-widgets/controls",
      "model_module_version": "1.5.0",
      "model_name": "HBoxModel",
      "state": {
       "_dom_classes": [],
       "_model_module": "@jupyter-widgets/controls",
       "_model_module_version": "1.5.0",
       "_model_name": "HBoxModel",
       "_view_count": null,
       "_view_module": "@jupyter-widgets/controls",
       "_view_module_version": "1.5.0",
       "_view_name": "HBoxView",
       "box_style": "",
       "children": [
        "IPY_MODEL_f47152c167644b1689133fca4d2cf9d1",
        "IPY_MODEL_d21c6d0c7b1347588c8f333303947a76",
        "IPY_MODEL_b0ff0a8dc7b64c6c95fd0b9d5fffed5e"
       ],
       "layout": "IPY_MODEL_186187ca7f9d4f60a5941a6022d0c0ba"
      }
     },
     "a0d9257f121d4b599f20a33f18f8a75d": {
      "model_module": "@jupyter-widgets/controls",
      "model_module_version": "1.5.0",
      "model_name": "DescriptionStyleModel",
      "state": {
       "_model_module": "@jupyter-widgets/controls",
       "_model_module_version": "1.5.0",
       "_model_name": "DescriptionStyleModel",
       "_view_count": null,
       "_view_module": "@jupyter-widgets/base",
       "_view_module_version": "1.2.0",
       "_view_name": "StyleView",
       "description_width": ""
      }
     },
     "a5f36cb3342a4203adff340765c337a7": {
      "model_module": "@jupyter-widgets/base",
      "model_module_version": "1.2.0",
      "model_name": "LayoutModel",
      "state": {
       "_model_module": "@jupyter-widgets/base",
       "_model_module_version": "1.2.0",
       "_model_name": "LayoutModel",
       "_view_count": null,
       "_view_module": "@jupyter-widgets/base",
       "_view_module_version": "1.2.0",
       "_view_name": "LayoutView",
       "align_content": null,
       "align_items": null,
       "align_self": null,
       "border": null,
       "bottom": null,
       "display": null,
       "flex": null,
       "flex_flow": null,
       "grid_area": null,
       "grid_auto_columns": null,
       "grid_auto_flow": null,
       "grid_auto_rows": null,
       "grid_column": null,
       "grid_gap": null,
       "grid_row": null,
       "grid_template_areas": null,
       "grid_template_columns": null,
       "grid_template_rows": null,
       "height": null,
       "justify_content": null,
       "justify_items": null,
       "left": null,
       "margin": null,
       "max_height": null,
       "max_width": null,
       "min_height": null,
       "min_width": null,
       "object_fit": null,
       "object_position": null,
       "order": null,
       "overflow": null,
       "overflow_x": null,
       "overflow_y": null,
       "padding": null,
       "right": null,
       "top": null,
       "visibility": null,
       "width": null
      }
     },
     "a79be2fc9f8c40f6a3f556a4595bcee0": {
      "model_module": "@jupyter-widgets/base",
      "model_module_version": "1.2.0",
      "model_name": "LayoutModel",
      "state": {
       "_model_module": "@jupyter-widgets/base",
       "_model_module_version": "1.2.0",
       "_model_name": "LayoutModel",
       "_view_count": null,
       "_view_module": "@jupyter-widgets/base",
       "_view_module_version": "1.2.0",
       "_view_name": "LayoutView",
       "align_content": null,
       "align_items": null,
       "align_self": null,
       "border": null,
       "bottom": null,
       "display": null,
       "flex": null,
       "flex_flow": null,
       "grid_area": null,
       "grid_auto_columns": null,
       "grid_auto_flow": null,
       "grid_auto_rows": null,
       "grid_column": null,
       "grid_gap": null,
       "grid_row": null,
       "grid_template_areas": null,
       "grid_template_columns": null,
       "grid_template_rows": null,
       "height": null,
       "justify_content": null,
       "justify_items": null,
       "left": null,
       "margin": null,
       "max_height": null,
       "max_width": null,
       "min_height": null,
       "min_width": null,
       "object_fit": null,
       "object_position": null,
       "order": null,
       "overflow": null,
       "overflow_x": null,
       "overflow_y": null,
       "padding": null,
       "right": null,
       "top": null,
       "visibility": null,
       "width": null
      }
     },
     "aaa4a51c80964bbf9f0994696d451925": {
      "model_module": "@jupyter-widgets/base",
      "model_module_version": "1.2.0",
      "model_name": "LayoutModel",
      "state": {
       "_model_module": "@jupyter-widgets/base",
       "_model_module_version": "1.2.0",
       "_model_name": "LayoutModel",
       "_view_count": null,
       "_view_module": "@jupyter-widgets/base",
       "_view_module_version": "1.2.0",
       "_view_name": "LayoutView",
       "align_content": null,
       "align_items": null,
       "align_self": null,
       "border": null,
       "bottom": null,
       "display": null,
       "flex": null,
       "flex_flow": null,
       "grid_area": null,
       "grid_auto_columns": null,
       "grid_auto_flow": null,
       "grid_auto_rows": null,
       "grid_column": null,
       "grid_gap": null,
       "grid_row": null,
       "grid_template_areas": null,
       "grid_template_columns": null,
       "grid_template_rows": null,
       "height": null,
       "justify_content": null,
       "justify_items": null,
       "left": null,
       "margin": null,
       "max_height": null,
       "max_width": null,
       "min_height": null,
       "min_width": null,
       "object_fit": null,
       "object_position": null,
       "order": null,
       "overflow": null,
       "overflow_x": null,
       "overflow_y": null,
       "padding": null,
       "right": null,
       "top": null,
       "visibility": null,
       "width": null
      }
     },
     "ac345a300fe647279193873c11f1b38f": {
      "model_module": "@jupyter-widgets/base",
      "model_module_version": "1.2.0",
      "model_name": "LayoutModel",
      "state": {
       "_model_module": "@jupyter-widgets/base",
       "_model_module_version": "1.2.0",
       "_model_name": "LayoutModel",
       "_view_count": null,
       "_view_module": "@jupyter-widgets/base",
       "_view_module_version": "1.2.0",
       "_view_name": "LayoutView",
       "align_content": null,
       "align_items": null,
       "align_self": null,
       "border": null,
       "bottom": null,
       "display": null,
       "flex": null,
       "flex_flow": null,
       "grid_area": null,
       "grid_auto_columns": null,
       "grid_auto_flow": null,
       "grid_auto_rows": null,
       "grid_column": null,
       "grid_gap": null,
       "grid_row": null,
       "grid_template_areas": null,
       "grid_template_columns": null,
       "grid_template_rows": null,
       "height": null,
       "justify_content": null,
       "justify_items": null,
       "left": null,
       "margin": null,
       "max_height": null,
       "max_width": null,
       "min_height": null,
       "min_width": null,
       "object_fit": null,
       "object_position": null,
       "order": null,
       "overflow": null,
       "overflow_x": null,
       "overflow_y": null,
       "padding": null,
       "right": null,
       "top": null,
       "visibility": null,
       "width": null
      }
     },
     "b036686258ab4024929c7842a817924e": {
      "model_module": "@jupyter-widgets/base",
      "model_module_version": "1.2.0",
      "model_name": "LayoutModel",
      "state": {
       "_model_module": "@jupyter-widgets/base",
       "_model_module_version": "1.2.0",
       "_model_name": "LayoutModel",
       "_view_count": null,
       "_view_module": "@jupyter-widgets/base",
       "_view_module_version": "1.2.0",
       "_view_name": "LayoutView",
       "align_content": null,
       "align_items": null,
       "align_self": null,
       "border": null,
       "bottom": null,
       "display": null,
       "flex": null,
       "flex_flow": null,
       "grid_area": null,
       "grid_auto_columns": null,
       "grid_auto_flow": null,
       "grid_auto_rows": null,
       "grid_column": null,
       "grid_gap": null,
       "grid_row": null,
       "grid_template_areas": null,
       "grid_template_columns": null,
       "grid_template_rows": null,
       "height": null,
       "justify_content": null,
       "justify_items": null,
       "left": null,
       "margin": null,
       "max_height": null,
       "max_width": null,
       "min_height": null,
       "min_width": null,
       "object_fit": null,
       "object_position": null,
       "order": null,
       "overflow": null,
       "overflow_x": null,
       "overflow_y": null,
       "padding": null,
       "right": null,
       "top": null,
       "visibility": null,
       "width": null
      }
     },
     "b08c25b976484613a5a52a3c94010c06": {
      "model_module": "@jupyter-widgets/controls",
      "model_module_version": "1.5.0",
      "model_name": "HBoxModel",
      "state": {
       "_dom_classes": [],
       "_model_module": "@jupyter-widgets/controls",
       "_model_module_version": "1.5.0",
       "_model_name": "HBoxModel",
       "_view_count": null,
       "_view_module": "@jupyter-widgets/controls",
       "_view_module_version": "1.5.0",
       "_view_name": "HBoxView",
       "box_style": "",
       "children": [
        "IPY_MODEL_4c0859cb71aa42da8fd8628d4728e306",
        "IPY_MODEL_1167fe7eacba499e9e38c459fb68ddcf",
        "IPY_MODEL_5b8515a9ae54479b9189cad7800d7ded"
       ],
       "layout": "IPY_MODEL_04c334d6b7f74c31a0baa813bef997c3"
      }
     },
     "b0ff0a8dc7b64c6c95fd0b9d5fffed5e": {
      "model_module": "@jupyter-widgets/controls",
      "model_module_version": "1.5.0",
      "model_name": "HTMLModel",
      "state": {
       "_dom_classes": [],
       "_model_module": "@jupyter-widgets/controls",
       "_model_module_version": "1.5.0",
       "_model_name": "HTMLModel",
       "_view_count": null,
       "_view_module": "@jupyter-widgets/controls",
       "_view_module_version": "1.5.0",
       "_view_name": "HTMLView",
       "description": "",
       "description_tooltip": null,
       "layout": "IPY_MODEL_2389e35c827449fe8902c9b4d5da5819",
       "placeholder": "​",
       "style": "IPY_MODEL_42a1b15a1fb3472f8afc7ec2ecf4841a",
       "value": " 491/491 [00:00&lt;00:00, 44.6kB/s]"
      }
     },
     "b9b769666a6a4ff493021399fe7a280c": {
      "model_module": "@jupyter-widgets/controls",
      "model_module_version": "1.5.0",
      "model_name": "HBoxModel",
      "state": {
       "_dom_classes": [],
       "_model_module": "@jupyter-widgets/controls",
       "_model_module_version": "1.5.0",
       "_model_name": "HBoxModel",
       "_view_count": null,
       "_view_module": "@jupyter-widgets/controls",
       "_view_module_version": "1.5.0",
       "_view_name": "HBoxView",
       "box_style": "",
       "children": [
        "IPY_MODEL_7b12c727216c4cc2beec25c57a1655f8",
        "IPY_MODEL_d6c14b05a3ce4a959c8208c55d1a9719",
        "IPY_MODEL_f3bf8cd68e4b4852a125ffee10b5e0f4"
       ],
       "layout": "IPY_MODEL_a79be2fc9f8c40f6a3f556a4595bcee0"
      }
     },
     "c19f924e05d142b8bc90255ba397ea31": {
      "model_module": "@jupyter-widgets/base",
      "model_module_version": "1.2.0",
      "model_name": "LayoutModel",
      "state": {
       "_model_module": "@jupyter-widgets/base",
       "_model_module_version": "1.2.0",
       "_model_name": "LayoutModel",
       "_view_count": null,
       "_view_module": "@jupyter-widgets/base",
       "_view_module_version": "1.2.0",
       "_view_name": "LayoutView",
       "align_content": null,
       "align_items": null,
       "align_self": null,
       "border": null,
       "bottom": null,
       "display": null,
       "flex": null,
       "flex_flow": null,
       "grid_area": null,
       "grid_auto_columns": null,
       "grid_auto_flow": null,
       "grid_auto_rows": null,
       "grid_column": null,
       "grid_gap": null,
       "grid_row": null,
       "grid_template_areas": null,
       "grid_template_columns": null,
       "grid_template_rows": null,
       "height": null,
       "justify_content": null,
       "justify_items": null,
       "left": null,
       "margin": null,
       "max_height": null,
       "max_width": null,
       "min_height": null,
       "min_width": null,
       "object_fit": null,
       "object_position": null,
       "order": null,
       "overflow": null,
       "overflow_x": null,
       "overflow_y": null,
       "padding": null,
       "right": null,
       "top": null,
       "visibility": null,
       "width": null
      }
     },
     "cefe1f2eab964e698820afdfef43f128": {
      "model_module": "@jupyter-widgets/controls",
      "model_module_version": "1.5.0",
      "model_name": "DescriptionStyleModel",
      "state": {
       "_model_module": "@jupyter-widgets/controls",
       "_model_module_version": "1.5.0",
       "_model_name": "DescriptionStyleModel",
       "_view_count": null,
       "_view_module": "@jupyter-widgets/base",
       "_view_module_version": "1.2.0",
       "_view_name": "StyleView",
       "description_width": ""
      }
     },
     "d10080757c474236abe95053482e57e3": {
      "model_module": "@jupyter-widgets/controls",
      "model_module_version": "1.5.0",
      "model_name": "DescriptionStyleModel",
      "state": {
       "_model_module": "@jupyter-widgets/controls",
       "_model_module_version": "1.5.0",
       "_model_name": "DescriptionStyleModel",
       "_view_count": null,
       "_view_module": "@jupyter-widgets/base",
       "_view_module_version": "1.2.0",
       "_view_name": "StyleView",
       "description_width": ""
      }
     },
     "d21c6d0c7b1347588c8f333303947a76": {
      "model_module": "@jupyter-widgets/controls",
      "model_module_version": "1.5.0",
      "model_name": "FloatProgressModel",
      "state": {
       "_dom_classes": [],
       "_model_module": "@jupyter-widgets/controls",
       "_model_module_version": "1.5.0",
       "_model_name": "FloatProgressModel",
       "_view_count": null,
       "_view_module": "@jupyter-widgets/controls",
       "_view_module_version": "1.5.0",
       "_view_name": "ProgressView",
       "bar_style": "success",
       "description": "",
       "description_tooltip": null,
       "layout": "IPY_MODEL_83a0730684f34ae7ad91e22f7dce30b1",
       "max": 491.0,
       "min": 0.0,
       "orientation": "horizontal",
       "style": "IPY_MODEL_688a134dab49477f94814d15ed5efb58",
       "value": 491.0
      }
     },
     "d6c14b05a3ce4a959c8208c55d1a9719": {
      "model_module": "@jupyter-widgets/controls",
      "model_module_version": "1.5.0",
      "model_name": "FloatProgressModel",
      "state": {
       "_dom_classes": [],
       "_model_module": "@jupyter-widgets/controls",
       "_model_module_version": "1.5.0",
       "_model_name": "FloatProgressModel",
       "_view_count": null,
       "_view_module": "@jupyter-widgets/controls",
       "_view_module_version": "1.5.0",
       "_view_name": "ProgressView",
       "bar_style": "success",
       "description": "",
       "description_tooltip": null,
       "layout": "IPY_MODEL_c19f924e05d142b8bc90255ba397ea31",
       "max": 2237676.0,
       "min": 0.0,
       "orientation": "horizontal",
       "style": "IPY_MODEL_8b102b2cc1f046dabad4738c20241bf7",
       "value": 2237676.0
      }
     },
     "de98bc5268414af88a38e32eee7b892c": {
      "model_module": "@jupyter-widgets/controls",
      "model_module_version": "1.5.0",
      "model_name": "ProgressStyleModel",
      "state": {
       "_model_module": "@jupyter-widgets/controls",
       "_model_module_version": "1.5.0",
       "_model_name": "ProgressStyleModel",
       "_view_count": null,
       "_view_module": "@jupyter-widgets/base",
       "_view_module_version": "1.2.0",
       "_view_name": "StyleView",
       "bar_color": null,
       "description_width": ""
      }
     },
     "e17fe0b497bd430f9a7a9a5be1f90598": {
      "model_module": "@jupyter-widgets/base",
      "model_module_version": "1.2.0",
      "model_name": "LayoutModel",
      "state": {
       "_model_module": "@jupyter-widgets/base",
       "_model_module_version": "1.2.0",
       "_model_name": "LayoutModel",
       "_view_count": null,
       "_view_module": "@jupyter-widgets/base",
       "_view_module_version": "1.2.0",
       "_view_name": "LayoutView",
       "align_content": null,
       "align_items": null,
       "align_self": null,
       "border": null,
       "bottom": null,
       "display": null,
       "flex": null,
       "flex_flow": null,
       "grid_area": null,
       "grid_auto_columns": null,
       "grid_auto_flow": null,
       "grid_auto_rows": null,
       "grid_column": null,
       "grid_gap": null,
       "grid_row": null,
       "grid_template_areas": null,
       "grid_template_columns": null,
       "grid_template_rows": null,
       "height": null,
       "justify_content": null,
       "justify_items": null,
       "left": null,
       "margin": null,
       "max_height": null,
       "max_width": null,
       "min_height": null,
       "min_width": null,
       "object_fit": null,
       "object_position": null,
       "order": null,
       "overflow": null,
       "overflow_x": null,
       "overflow_y": null,
       "padding": null,
       "right": null,
       "top": null,
       "visibility": null,
       "width": null
      }
     },
     "e29aeae77bf24136a844175cbe775fdf": {
      "model_module": "@jupyter-widgets/controls",
      "model_module_version": "1.5.0",
      "model_name": "HBoxModel",
      "state": {
       "_dom_classes": [],
       "_model_module": "@jupyter-widgets/controls",
       "_model_module_version": "1.5.0",
       "_model_name": "HBoxModel",
       "_view_count": null,
       "_view_module": "@jupyter-widgets/controls",
       "_view_module_version": "1.5.0",
       "_view_name": "HBoxView",
       "box_style": "",
       "children": [
        "IPY_MODEL_8ec88e9a225646ce909d190520103c12",
        "IPY_MODEL_887d2c14710544518739fa10f10848fd",
        "IPY_MODEL_e7b04ef07d874026a9499d083e7478c2"
       ],
       "layout": "IPY_MODEL_ac345a300fe647279193873c11f1b38f"
      }
     },
     "e7b04ef07d874026a9499d083e7478c2": {
      "model_module": "@jupyter-widgets/controls",
      "model_module_version": "1.5.0",
      "model_name": "HTMLModel",
      "state": {
       "_dom_classes": [],
       "_model_module": "@jupyter-widgets/controls",
       "_model_module_version": "1.5.0",
       "_model_name": "HTMLModel",
       "_view_count": null,
       "_view_module": "@jupyter-widgets/controls",
       "_view_module_version": "1.5.0",
       "_view_name": "HTMLView",
       "description": "",
       "description_tooltip": null,
       "layout": "IPY_MODEL_b036686258ab4024929c7842a817924e",
       "placeholder": "​",
       "style": "IPY_MODEL_3366303f86ab4b0eb266ea1a8909a5b3",
       "value": " 1/1 [00:00&lt;00:00, 34.48ba/s]"
      }
     },
     "f3bf8cd68e4b4852a125ffee10b5e0f4": {
      "model_module": "@jupyter-widgets/controls",
      "model_module_version": "1.5.0",
      "model_name": "HTMLModel",
      "state": {
       "_dom_classes": [],
       "_model_module": "@jupyter-widgets/controls",
       "_model_module_version": "1.5.0",
       "_model_name": "HTMLModel",
       "_view_count": null,
       "_view_module": "@jupyter-widgets/controls",
       "_view_module_version": "1.5.0",
       "_view_name": "HTMLView",
       "description": "",
       "description_tooltip": null,
       "layout": "IPY_MODEL_786241cef43e44d496af155c28d75b1b",
       "placeholder": "​",
       "style": "IPY_MODEL_5e9dc0a06f514540836f1e479304b856",
       "value": " 2.24M/2.24M [00:00&lt;00:00, 29.7MB/s]"
      }
     },
     "f47152c167644b1689133fca4d2cf9d1": {
      "model_module": "@jupyter-widgets/controls",
      "model_module_version": "1.5.0",
      "model_name": "HTMLModel",
      "state": {
       "_dom_classes": [],
       "_model_module": "@jupyter-widgets/controls",
       "_model_module_version": "1.5.0",
       "_model_name": "HTMLModel",
       "_view_count": null,
       "_view_module": "@jupyter-widgets/controls",
       "_view_module_version": "1.5.0",
       "_view_name": "HTMLView",
       "description": "",
       "description_tooltip": null,
       "layout": "IPY_MODEL_51bd0168c69043259d1379d642ce5282",
       "placeholder": "​",
       "style": "IPY_MODEL_a0d9257f121d4b599f20a33f18f8a75d",
       "value": "Downloading (…)lve/main/config.json: 100%"
      }
     },
     "f61144350d8e4f749937902f2bf35c72": {
      "model_module": "@jupyter-widgets/controls",
      "model_module_version": "1.5.0",
      "model_name": "DescriptionStyleModel",
      "state": {
       "_model_module": "@jupyter-widgets/controls",
       "_model_module_version": "1.5.0",
       "_model_name": "DescriptionStyleModel",
       "_view_count": null,
       "_view_module": "@jupyter-widgets/base",
       "_view_module_version": "1.2.0",
       "_view_name": "StyleView",
       "description_width": ""
      }
     }
    },
    "version_major": 2,
    "version_minor": 0
   }
  }
 },
 "nbformat": 4,
 "nbformat_minor": 5
}
